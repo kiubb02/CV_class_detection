{
  "cells": [
    {
      "cell_type": "markdown",
      "metadata": {
        "id": "view-in-github",
        "colab_type": "text"
      },
      "source": [
        "<a href=\"https://colab.research.google.com/github/kiubb02/CV_class_detection/blob/main/ComputerVision.ipynb\" target=\"_parent\"><img src=\"https://colab.research.google.com/assets/colab-badge.svg\" alt=\"Open In Colab\"/></a>"
      ]
    },
    {
      "cell_type": "markdown",
      "id": "c0cf573b-60b8-4335-9ab2-746bba7d18c2",
      "metadata": {
        "id": "c0cf573b-60b8-4335-9ab2-746bba7d18c2"
      },
      "source": [
        "# Classification of Images\n",
        "\n",
        "- Taken from: https://storage.googleapis.com/openimages/web/download_v7.html\n",
        "- Classes here: Bicycle, Golf Cart, Balloonion"
      ]
    },
    {
      "cell_type": "code",
      "execution_count": null,
      "id": "b1mFTs53Etpc",
      "metadata": {
        "colab": {
          "base_uri": "https://localhost:8080/"
        },
        "id": "b1mFTs53Etpc",
        "outputId": "d9a457ee-68ee-47b0-929f-5f9e3edecaff"
      },
      "outputs": [
        {
          "output_type": "stream",
          "name": "stdout",
          "text": [
            "Mounted at /content/drive\n"
          ]
        }
      ],
      "source": [
        "from google.colab import drive\n",
        "drive.mount('/content/drive')"
      ]
    },
    {
      "cell_type": "code",
      "execution_count": null,
      "id": "3KJzJiS_ONsv",
      "metadata": {
        "id": "3KJzJiS_ONsv"
      },
      "outputs": [],
      "source": []
    },
    {
      "cell_type": "code",
      "execution_count": null,
      "id": "d8da002f-85a7-406d-98b3-23dc231e307e",
      "metadata": {
        "colab": {
          "base_uri": "https://localhost:8080/",
          "height": 497
        },
        "id": "d8da002f-85a7-406d-98b3-23dc231e307e",
        "outputId": "50232964-1be6-4e01-da3b-64ad0d77c05c"
      },
      "outputs": [
        {
          "name": "stdout",
          "output_type": "stream",
          "text": [
            "Requirement already satisfied: pip in /usr/local/lib/python3.10/dist-packages (23.1.2)\n",
            "Collecting pip\n",
            "  Downloading pip-24.0-py3-none-any.whl (2.1 MB)\n",
            "\u001b[2K     \u001b[90m━━━━━━━━━━━━━━━━━━━━━━━━━━━━━━━━━━━━━━━━\u001b[0m \u001b[32m2.1/2.1 MB\u001b[0m \u001b[31m14.3 MB/s\u001b[0m eta \u001b[36m0:00:00\u001b[0m\n",
            "\u001b[?25hRequirement already satisfied: setuptools in /usr/local/lib/python3.10/dist-packages (67.7.2)\n",
            "Collecting setuptools\n",
            "  Downloading setuptools-69.2.0-py3-none-any.whl (821 kB)\n",
            "\u001b[2K     \u001b[90m━━━━━━━━━━━━━━━━━━━━━━━━━━━━━━━━━━━━━━━━\u001b[0m \u001b[32m821.5/821.5 kB\u001b[0m \u001b[31m22.9 MB/s\u001b[0m eta \u001b[36m0:00:00\u001b[0m\n",
            "\u001b[?25hRequirement already satisfied: wheel in /usr/local/lib/python3.10/dist-packages (0.43.0)\n",
            "Installing collected packages: setuptools, pip\n",
            "  Attempting uninstall: setuptools\n",
            "    Found existing installation: setuptools 67.7.2\n",
            "    Uninstalling setuptools-67.7.2:\n",
            "      Successfully uninstalled setuptools-67.7.2\n",
            "  Attempting uninstall: pip\n",
            "    Found existing installation: pip 23.1.2\n",
            "    Uninstalling pip-23.1.2:\n",
            "      Successfully uninstalled pip-23.1.2\n",
            "\u001b[31mERROR: pip's dependency resolver does not currently take into account all the packages that are installed. This behaviour is the source of the following dependency conflicts.\n",
            "ipython 7.34.0 requires jedi>=0.16, which is not installed.\u001b[0m\u001b[31m\n",
            "\u001b[0mSuccessfully installed pip-24.0 setuptools-69.2.0\n"
          ]
        },
        {
          "data": {
            "application/vnd.colab-display-data+json": {
              "id": "cf6aadec43e84ce1bec395a8aa3202b5",
              "pip_warning": {
                "packages": [
                  "_distutils_hack",
                  "pkg_resources",
                  "setuptools"
                ]
              }
            }
          },
          "metadata": {},
          "output_type": "display_data"
        }
      ],
      "source": [
        "!pip install --upgrade pip setuptools wheel"
      ]
    },
    {
      "cell_type": "code",
      "execution_count": null,
      "id": "46de632d-3e40-4407-8c87-4b9faa995402",
      "metadata": {
        "colab": {
          "base_uri": "https://localhost:8080/"
        },
        "id": "46de632d-3e40-4407-8c87-4b9faa995402",
        "outputId": "16c41b70-983d-4b7e-ca2c-c3c5e3e2c8c1"
      },
      "outputs": [
        {
          "output_type": "stream",
          "name": "stdout",
          "text": [
            "Collecting fiftyone\n",
            "  Downloading fiftyone-0.23.7-py3-none-any.whl (7.9 MB)\n",
            "\u001b[2K     \u001b[90m━━━━━━━━━━━━━━━━━━━━━━━━━━━━━━━━━━━━━━━━\u001b[0m \u001b[32m7.9/7.9 MB\u001b[0m \u001b[31m28.9 MB/s\u001b[0m eta \u001b[36m0:00:00\u001b[0m\n",
            "\u001b[?25hCollecting aiofiles (from fiftyone)\n",
            "  Downloading aiofiles-23.2.1-py3-none-any.whl (15 kB)\n",
            "Collecting argcomplete (from fiftyone)\n",
            "  Downloading argcomplete-3.2.3-py3-none-any.whl (42 kB)\n",
            "\u001b[2K     \u001b[90m━━━━━━━━━━━━━━━━━━━━━━━━━━━━━━━━━━━━━━━━\u001b[0m \u001b[32m42.6/42.6 kB\u001b[0m \u001b[31m4.8 MB/s\u001b[0m eta \u001b[36m0:00:00\u001b[0m\n",
            "\u001b[?25hRequirement already satisfied: beautifulsoup4 in /usr/local/lib/python3.10/dist-packages (from fiftyone) (4.12.3)\n",
            "Collecting boto3 (from fiftyone)\n",
            "  Downloading boto3-1.34.74-py3-none-any.whl (139 kB)\n",
            "\u001b[2K     \u001b[90m━━━━━━━━━━━━━━━━━━━━━━━━━━━━━━━━━━━━━━━━\u001b[0m \u001b[32m139.3/139.3 kB\u001b[0m \u001b[31m13.4 MB/s\u001b[0m eta \u001b[36m0:00:00\u001b[0m\n",
            "\u001b[?25hRequirement already satisfied: cachetools in /usr/local/lib/python3.10/dist-packages (from fiftyone) (5.3.3)\n",
            "Collecting dacite<1.8.0,>=1.6.0 (from fiftyone)\n",
            "  Downloading dacite-1.7.0-py3-none-any.whl (12 kB)\n",
            "Collecting Deprecated (from fiftyone)\n",
            "  Downloading Deprecated-1.2.14-py2.py3-none-any.whl (9.6 kB)\n",
            "Collecting ftfy (from fiftyone)\n",
            "  Downloading ftfy-6.2.0-py3-none-any.whl (54 kB)\n",
            "\u001b[2K     \u001b[90m━━━━━━━━━━━━━━━━━━━━━━━━━━━━━━━━━━━━━━━━\u001b[0m \u001b[32m54.4/54.4 kB\u001b[0m \u001b[31m7.2 MB/s\u001b[0m eta \u001b[36m0:00:00\u001b[0m\n",
            "\u001b[?25hRequirement already satisfied: humanize in /usr/local/lib/python3.10/dist-packages (from fiftyone) (4.7.0)\n",
            "Collecting hypercorn>=0.13.2 (from fiftyone)\n",
            "  Downloading hypercorn-0.16.0-py3-none-any.whl (59 kB)\n",
            "\u001b[2K     \u001b[90m━━━━━━━━━━━━━━━━━━━━━━━━━━━━━━━━━━━━━━━━\u001b[0m \u001b[32m59.9/59.9 kB\u001b[0m \u001b[31m8.4 MB/s\u001b[0m eta \u001b[36m0:00:00\u001b[0m\n",
            "\u001b[?25hRequirement already satisfied: Jinja2>=3 in /usr/local/lib/python3.10/dist-packages (from fiftyone) (3.1.3)\n",
            "Collecting kaleido!=0.2.1.post1 (from fiftyone)\n",
            "  Downloading kaleido-0.2.1-py2.py3-none-manylinux1_x86_64.whl (79.9 MB)\n",
            "\u001b[2K     \u001b[90m━━━━━━━━━━━━━━━━━━━━━━━━━━━━━━━━━━━━━━━━\u001b[0m \u001b[32m79.9/79.9 MB\u001b[0m \u001b[31m19.7 MB/s\u001b[0m eta \u001b[36m0:00:00\u001b[0m\n",
            "\u001b[?25hRequirement already satisfied: matplotlib in /usr/local/lib/python3.10/dist-packages (from fiftyone) (3.7.1)\n",
            "Collecting mongoengine==0.24.2 (from fiftyone)\n",
            "  Downloading mongoengine-0.24.2-py3-none-any.whl (108 kB)\n",
            "\u001b[2K     \u001b[90m━━━━━━━━━━━━━━━━━━━━━━━━━━━━━━━━━━━━━━━━\u001b[0m \u001b[32m108.9/108.9 kB\u001b[0m \u001b[31m15.6 MB/s\u001b[0m eta \u001b[36m0:00:00\u001b[0m\n",
            "\u001b[?25hCollecting motor>=2.5 (from fiftyone)\n",
            "  Downloading motor-3.4.0-py3-none-any.whl (74 kB)\n",
            "\u001b[2K     \u001b[90m━━━━━━━━━━━━━━━━━━━━━━━━━━━━━━━━━━━━━━━━\u001b[0m \u001b[32m74.3/74.3 kB\u001b[0m \u001b[31m10.8 MB/s\u001b[0m eta \u001b[36m0:00:00\u001b[0m\n",
            "\u001b[?25hRequirement already satisfied: numpy in /usr/local/lib/python3.10/dist-packages (from fiftyone) (1.25.2)\n",
            "Requirement already satisfied: packaging in /usr/local/lib/python3.10/dist-packages (from fiftyone) (24.0)\n",
            "Requirement already satisfied: pandas in /usr/local/lib/python3.10/dist-packages (from fiftyone) (1.5.3)\n",
            "Requirement already satisfied: Pillow>=6.2 in /usr/local/lib/python3.10/dist-packages (from fiftyone) (9.4.0)\n",
            "Requirement already satisfied: plotly>=4.14 in /usr/local/lib/python3.10/dist-packages (from fiftyone) (5.15.0)\n",
            "Collecting pprintpp (from fiftyone)\n",
            "  Downloading pprintpp-0.4.0-py2.py3-none-any.whl (16 kB)\n",
            "Requirement already satisfied: psutil in /usr/local/lib/python3.10/dist-packages (from fiftyone) (5.9.5)\n",
            "Collecting pymongo>=3.12 (from fiftyone)\n",
            "  Downloading pymongo-4.6.3-cp310-cp310-manylinux_2_17_x86_64.manylinux2014_x86_64.whl (676 kB)\n",
            "\u001b[2K     \u001b[90m━━━━━━━━━━━━━━━━━━━━━━━━━━━━━━━━━━━━━━━━\u001b[0m \u001b[32m676.9/676.9 kB\u001b[0m \u001b[31m53.2 MB/s\u001b[0m eta \u001b[36m0:00:00\u001b[0m\n",
            "\u001b[?25hRequirement already satisfied: pytz in /usr/local/lib/python3.10/dist-packages (from fiftyone) (2023.4)\n",
            "Requirement already satisfied: PyYAML in /usr/local/lib/python3.10/dist-packages (from fiftyone) (6.0.1)\n",
            "Requirement already satisfied: regex in /usr/local/lib/python3.10/dist-packages (from fiftyone) (2023.12.25)\n",
            "Collecting retrying (from fiftyone)\n",
            "  Downloading retrying-1.3.4-py3-none-any.whl (11 kB)\n",
            "Requirement already satisfied: scikit-learn in /usr/local/lib/python3.10/dist-packages (from fiftyone) (1.2.2)\n",
            "Requirement already satisfied: scikit-image in /usr/local/lib/python3.10/dist-packages (from fiftyone) (0.19.3)\n",
            "Requirement already satisfied: setuptools in /usr/local/lib/python3.10/dist-packages (from fiftyone) (67.7.2)\n",
            "Collecting sseclient-py<2,>=1.7.2 (from fiftyone)\n",
            "  Downloading sseclient_py-1.8.0-py2.py3-none-any.whl (8.8 kB)\n",
            "Collecting sse-starlette<1,>=0.10.3 (from fiftyone)\n",
            "  Downloading sse_starlette-0.10.3-py3-none-any.whl (8.0 kB)\n",
            "Collecting starlette>=0.24.0 (from fiftyone)\n",
            "  Downloading starlette-0.37.2-py3-none-any.whl (71 kB)\n",
            "\u001b[2K     \u001b[90m━━━━━━━━━━━━━━━━━━━━━━━━━━━━━━━━━━━━━━━━\u001b[0m \u001b[32m71.9/71.9 kB\u001b[0m \u001b[31m8.3 MB/s\u001b[0m eta \u001b[36m0:00:00\u001b[0m\n",
            "\u001b[?25hCollecting strawberry-graphql==0.138.1 (from fiftyone)\n",
            "  Downloading strawberry_graphql-0.138.1-py3-none-any.whl (192 kB)\n",
            "\u001b[2K     \u001b[90m━━━━━━━━━━━━━━━━━━━━━━━━━━━━━━━━━━━━━━━━\u001b[0m \u001b[32m192.5/192.5 kB\u001b[0m \u001b[31m24.4 MB/s\u001b[0m eta \u001b[36m0:00:00\u001b[0m\n",
            "\u001b[?25hRequirement already satisfied: tabulate in /usr/local/lib/python3.10/dist-packages (from fiftyone) (0.9.0)\n",
            "Collecting xmltodict (from fiftyone)\n",
            "  Downloading xmltodict-0.13.0-py2.py3-none-any.whl (10.0 kB)\n",
            "Collecting universal-analytics-python3<2,>=1.0.1 (from fiftyone)\n",
            "  Downloading universal_analytics_python3-1.1.1-py3-none-any.whl (10 kB)\n",
            "Collecting fiftyone-brain<0.17,>=0.16.1 (from fiftyone)\n",
            "  Downloading fiftyone_brain-0.16.1-py3-none-any.whl (89 kB)\n",
            "\u001b[2K     \u001b[90m━━━━━━━━━━━━━━━━━━━━━━━━━━━━━━━━━━━━━━━━\u001b[0m \u001b[32m89.6/89.6 kB\u001b[0m \u001b[31m12.0 MB/s\u001b[0m eta \u001b[36m0:00:00\u001b[0m\n",
            "\u001b[?25hCollecting fiftyone-db<2.0,>=0.4 (from fiftyone)\n",
            "  Downloading fiftyone_db-1.1.2.tar.gz (7.9 kB)\n",
            "  Installing build dependencies ... \u001b[?25l\u001b[?25hdone\n",
            "  Getting requirements to build wheel ... \u001b[?25l\u001b[?25hdone\n",
            "  Preparing metadata (pyproject.toml) ... \u001b[?25l\u001b[?25hdone\n",
            "Collecting voxel51-eta<0.13,>=0.12.6 (from fiftyone)\n",
            "  Downloading voxel51_eta-0.12.6-py2.py3-none-any.whl (942 kB)\n",
            "\u001b[2K     \u001b[90m━━━━━━━━━━━━━━━━━━━━━━━━━━━━━━━━━━━━━━━━\u001b[0m \u001b[32m942.9/942.9 kB\u001b[0m \u001b[31m59.8 MB/s\u001b[0m eta \u001b[36m0:00:00\u001b[0m\n",
            "\u001b[?25hRequirement already satisfied: opencv-python-headless in /usr/local/lib/python3.10/dist-packages (from fiftyone) (4.9.0.80)\n",
            "Collecting graphql-core<3.3.0,>=3.2.0 (from strawberry-graphql==0.138.1->fiftyone)\n",
            "  Downloading graphql_core-3.2.3-py3-none-any.whl (202 kB)\n",
            "\u001b[2K     \u001b[90m━━━━━━━━━━━━━━━━━━━━━━━━━━━━━━━━━━━━━━━━\u001b[0m \u001b[32m202.9/202.9 kB\u001b[0m \u001b[31m24.5 MB/s\u001b[0m eta \u001b[36m0:00:00\u001b[0m\n",
            "\u001b[?25hRequirement already satisfied: python-dateutil<3.0.0,>=2.7.0 in /usr/local/lib/python3.10/dist-packages (from strawberry-graphql==0.138.1->fiftyone) (2.8.2)\n",
            "Requirement already satisfied: typing_extensions<5.0.0,>=3.7.4 in /usr/local/lib/python3.10/dist-packages (from strawberry-graphql==0.138.1->fiftyone) (4.10.0)\n",
            "Requirement already satisfied: scipy>=1.2.0 in /usr/local/lib/python3.10/dist-packages (from fiftyone-brain<0.17,>=0.16.1->fiftyone) (1.11.4)\n",
            "Collecting h11 (from hypercorn>=0.13.2->fiftyone)\n",
            "  Downloading h11-0.14.0-py3-none-any.whl (58 kB)\n",
            "\u001b[2K     \u001b[90m━━━━━━━━━━━━━━━━━━━━━━━━━━━━━━━━━━━━━━━━\u001b[0m \u001b[32m58.3/58.3 kB\u001b[0m \u001b[31m7.7 MB/s\u001b[0m eta \u001b[36m0:00:00\u001b[0m\n",
            "\u001b[?25hCollecting h2>=3.1.0 (from hypercorn>=0.13.2->fiftyone)\n",
            "  Downloading h2-4.1.0-py3-none-any.whl (57 kB)\n",
            "\u001b[2K     \u001b[90m━━━━━━━━━━━━━━━━━━━━━━━━━━━━━━━━━━━━━━━━\u001b[0m \u001b[32m57.5/57.5 kB\u001b[0m \u001b[31m7.2 MB/s\u001b[0m eta \u001b[36m0:00:00\u001b[0m\n",
            "\u001b[?25hCollecting priority (from hypercorn>=0.13.2->fiftyone)\n",
            "  Downloading priority-2.0.0-py3-none-any.whl (8.9 kB)\n",
            "Collecting taskgroup (from hypercorn>=0.13.2->fiftyone)\n",
            "  Downloading taskgroup-0.0.0a4-py2.py3-none-any.whl (9.1 kB)\n",
            "Requirement already satisfied: tomli in /usr/local/lib/python3.10/dist-packages (from hypercorn>=0.13.2->fiftyone) (2.0.1)\n",
            "Collecting wsproto>=0.14.0 (from hypercorn>=0.13.2->fiftyone)\n",
            "  Downloading wsproto-1.2.0-py3-none-any.whl (24 kB)\n",
            "Requirement already satisfied: MarkupSafe>=2.0 in /usr/local/lib/python3.10/dist-packages (from Jinja2>=3->fiftyone) (2.1.5)\n",
            "Requirement already satisfied: tenacity>=6.2.0 in /usr/local/lib/python3.10/dist-packages (from plotly>=4.14->fiftyone) (8.2.3)\n",
            "Collecting dnspython<3.0.0,>=1.16.0 (from pymongo>=3.12->fiftyone)\n",
            "  Downloading dnspython-2.6.1-py3-none-any.whl (307 kB)\n",
            "\u001b[2K     \u001b[90m━━━━━━━━━━━━━━━━━━━━━━━━━━━━━━━━━━━━━━━━\u001b[0m \u001b[32m307.7/307.7 kB\u001b[0m \u001b[31m36.6 MB/s\u001b[0m eta \u001b[36m0:00:00\u001b[0m\n",
            "\u001b[?25hRequirement already satisfied: anyio<5,>=3.4.0 in /usr/local/lib/python3.10/dist-packages (from starlette>=0.24.0->fiftyone) (3.7.1)\n",
            "Collecting httpx>=0.10.0 (from universal-analytics-python3<2,>=1.0.1->fiftyone)\n",
            "  Downloading httpx-0.27.0-py3-none-any.whl (75 kB)\n",
            "\u001b[2K     \u001b[90m━━━━━━━━━━━━━━━━━━━━━━━━━━━━━━━━━━━━━━━━\u001b[0m \u001b[32m75.6/75.6 kB\u001b[0m \u001b[31m10.1 MB/s\u001b[0m eta \u001b[36m0:00:00\u001b[0m\n",
            "\u001b[?25hCollecting dill (from voxel51-eta<0.13,>=0.12.6->fiftyone)\n",
            "  Downloading dill-0.3.8-py3-none-any.whl (116 kB)\n",
            "\u001b[2K     \u001b[90m━━━━━━━━━━━━━━━━━━━━━━━━━━━━━━━━━━━━━━━━\u001b[0m \u001b[32m116.3/116.3 kB\u001b[0m \u001b[31m14.9 MB/s\u001b[0m eta \u001b[36m0:00:00\u001b[0m\n",
            "\u001b[?25hRequirement already satisfied: future in /usr/local/lib/python3.10/dist-packages (from voxel51-eta<0.13,>=0.12.6->fiftyone) (0.18.3)\n",
            "Requirement already satisfied: glob2 in /usr/local/lib/python3.10/dist-packages (from voxel51-eta<0.13,>=0.12.6->fiftyone) (0.7)\n",
            "Collecting jsonlines (from voxel51-eta<0.13,>=0.12.6->fiftyone)\n",
            "  Downloading jsonlines-4.0.0-py3-none-any.whl (8.7 kB)\n",
            "Collecting py7zr (from voxel51-eta<0.13,>=0.12.6->fiftyone)\n",
            "  Downloading py7zr-0.21.0-py3-none-any.whl (67 kB)\n",
            "\u001b[2K     \u001b[90m━━━━━━━━━━━━━━━━━━━━━━━━━━━━━━━━━━━━━━━━\u001b[0m \u001b[32m67.6/67.6 kB\u001b[0m \u001b[31m7.8 MB/s\u001b[0m eta \u001b[36m0:00:00\u001b[0m\n",
            "\u001b[?25hCollecting rarfile (from voxel51-eta<0.13,>=0.12.6->fiftyone)\n",
            "  Downloading rarfile-4.1-py3-none-any.whl (28 kB)\n",
            "Requirement already satisfied: requests in /usr/local/lib/python3.10/dist-packages (from voxel51-eta<0.13,>=0.12.6->fiftyone) (2.31.0)\n",
            "Requirement already satisfied: six in /usr/local/lib/python3.10/dist-packages (from voxel51-eta<0.13,>=0.12.6->fiftyone) (1.16.0)\n",
            "Requirement already satisfied: sortedcontainers in /usr/local/lib/python3.10/dist-packages (from voxel51-eta<0.13,>=0.12.6->fiftyone) (2.4.0)\n",
            "Requirement already satisfied: tzlocal in /usr/local/lib/python3.10/dist-packages (from voxel51-eta<0.13,>=0.12.6->fiftyone) (5.2)\n",
            "Requirement already satisfied: urllib3 in /usr/local/lib/python3.10/dist-packages (from voxel51-eta<0.13,>=0.12.6->fiftyone) (2.0.7)\n",
            "Requirement already satisfied: soupsieve>1.2 in /usr/local/lib/python3.10/dist-packages (from beautifulsoup4->fiftyone) (2.5)\n",
            "Collecting botocore<1.35.0,>=1.34.74 (from boto3->fiftyone)\n",
            "  Downloading botocore-1.34.74-py3-none-any.whl (12.1 MB)\n",
            "\u001b[2K     \u001b[90m━━━━━━━━━━━━━━━━━━━━━━━━━━━━━━━━━━━━━━━━\u001b[0m \u001b[32m12.1/12.1 MB\u001b[0m \u001b[31m83.2 MB/s\u001b[0m eta \u001b[36m0:00:00\u001b[0m\n",
            "\u001b[?25hCollecting jmespath<2.0.0,>=0.7.1 (from boto3->fiftyone)\n",
            "  Downloading jmespath-1.0.1-py3-none-any.whl (20 kB)\n",
            "Collecting s3transfer<0.11.0,>=0.10.0 (from boto3->fiftyone)\n",
            "  Downloading s3transfer-0.10.1-py3-none-any.whl (82 kB)\n",
            "\u001b[2K     \u001b[90m━━━━━━━━━━━━━━━━━━━━━━━━━━━━━━━━━━━━━━━━\u001b[0m \u001b[32m82.2/82.2 kB\u001b[0m \u001b[31m12.0 MB/s\u001b[0m eta \u001b[36m0:00:00\u001b[0m\n",
            "\u001b[?25hRequirement already satisfied: wrapt<2,>=1.10 in /usr/local/lib/python3.10/dist-packages (from Deprecated->fiftyone) (1.14.1)\n",
            "Requirement already satisfied: wcwidth<0.3.0,>=0.2.12 in /usr/local/lib/python3.10/dist-packages (from ftfy->fiftyone) (0.2.13)\n",
            "Requirement already satisfied: contourpy>=1.0.1 in /usr/local/lib/python3.10/dist-packages (from matplotlib->fiftyone) (1.2.0)\n",
            "Requirement already satisfied: cycler>=0.10 in /usr/local/lib/python3.10/dist-packages (from matplotlib->fiftyone) (0.12.1)\n",
            "Requirement already satisfied: fonttools>=4.22.0 in /usr/local/lib/python3.10/dist-packages (from matplotlib->fiftyone) (4.50.0)\n",
            "Requirement already satisfied: kiwisolver>=1.0.1 in /usr/local/lib/python3.10/dist-packages (from matplotlib->fiftyone) (1.4.5)\n",
            "Requirement already satisfied: pyparsing>=2.3.1 in /usr/local/lib/python3.10/dist-packages (from matplotlib->fiftyone) (3.1.2)\n",
            "Requirement already satisfied: networkx>=2.2 in /usr/local/lib/python3.10/dist-packages (from scikit-image->fiftyone) (3.2.1)\n",
            "Requirement already satisfied: imageio>=2.4.1 in /usr/local/lib/python3.10/dist-packages (from scikit-image->fiftyone) (2.31.6)\n",
            "Requirement already satisfied: tifffile>=2019.7.26 in /usr/local/lib/python3.10/dist-packages (from scikit-image->fiftyone) (2024.2.12)\n",
            "Requirement already satisfied: PyWavelets>=1.1.1 in /usr/local/lib/python3.10/dist-packages (from scikit-image->fiftyone) (1.5.0)\n",
            "Requirement already satisfied: joblib>=1.1.1 in /usr/local/lib/python3.10/dist-packages (from scikit-learn->fiftyone) (1.3.2)\n",
            "Requirement already satisfied: threadpoolctl>=2.0.0 in /usr/local/lib/python3.10/dist-packages (from scikit-learn->fiftyone) (3.4.0)\n",
            "Requirement already satisfied: idna>=2.8 in /usr/local/lib/python3.10/dist-packages (from anyio<5,>=3.4.0->starlette>=0.24.0->fiftyone) (3.6)\n",
            "Requirement already satisfied: sniffio>=1.1 in /usr/local/lib/python3.10/dist-packages (from anyio<5,>=3.4.0->starlette>=0.24.0->fiftyone) (1.3.1)\n",
            "Requirement already satisfied: exceptiongroup in /usr/local/lib/python3.10/dist-packages (from anyio<5,>=3.4.0->starlette>=0.24.0->fiftyone) (1.2.0)\n",
            "Collecting hyperframe<7,>=6.0 (from h2>=3.1.0->hypercorn>=0.13.2->fiftyone)\n",
            "  Downloading hyperframe-6.0.1-py3-none-any.whl (12 kB)\n",
            "Collecting hpack<5,>=4.0 (from h2>=3.1.0->hypercorn>=0.13.2->fiftyone)\n",
            "  Downloading hpack-4.0.0-py3-none-any.whl (32 kB)\n",
            "Requirement already satisfied: certifi in /usr/local/lib/python3.10/dist-packages (from httpx>=0.10.0->universal-analytics-python3<2,>=1.0.1->fiftyone) (2024.2.2)\n",
            "Collecting httpcore==1.* (from httpx>=0.10.0->universal-analytics-python3<2,>=1.0.1->fiftyone)\n",
            "  Downloading httpcore-1.0.5-py3-none-any.whl (77 kB)\n",
            "\u001b[2K     \u001b[90m━━━━━━━━━━━━━━━━━━━━━━━━━━━━━━━━━━━━━━━━\u001b[0m \u001b[32m77.9/77.9 kB\u001b[0m \u001b[31m9.8 MB/s\u001b[0m eta \u001b[36m0:00:00\u001b[0m\n",
            "\u001b[?25hRequirement already satisfied: attrs>=19.2.0 in /usr/local/lib/python3.10/dist-packages (from jsonlines->voxel51-eta<0.13,>=0.12.6->fiftyone) (23.2.0)\n",
            "Collecting texttable (from py7zr->voxel51-eta<0.13,>=0.12.6->fiftyone)\n",
            "  Downloading texttable-1.7.0-py2.py3-none-any.whl (10 kB)\n",
            "Collecting pycryptodomex>=3.16.0 (from py7zr->voxel51-eta<0.13,>=0.12.6->fiftyone)\n",
            "  Downloading pycryptodomex-3.20.0-cp35-abi3-manylinux_2_17_x86_64.manylinux2014_x86_64.whl (2.1 MB)\n",
            "\u001b[2K     \u001b[90m━━━━━━━━━━━━━━━━━━━━━━━━━━━━━━━━━━━━━━━━\u001b[0m \u001b[32m2.1/2.1 MB\u001b[0m \u001b[31m86.2 MB/s\u001b[0m eta \u001b[36m0:00:00\u001b[0m\n",
            "\u001b[?25hCollecting pyzstd>=0.15.9 (from py7zr->voxel51-eta<0.13,>=0.12.6->fiftyone)\n",
            "  Downloading pyzstd-0.15.10-cp310-cp310-manylinux_2_17_x86_64.manylinux2014_x86_64.whl (411 kB)\n",
            "\u001b[2K     \u001b[90m━━━━━━━━━━━━━━━━━━━━━━━━━━━━━━━━━━━━━━━━\u001b[0m \u001b[32m411.2/411.2 kB\u001b[0m \u001b[31m43.1 MB/s\u001b[0m eta \u001b[36m0:00:00\u001b[0m\n",
            "\u001b[?25hCollecting pyppmd<1.2.0,>=1.1.0 (from py7zr->voxel51-eta<0.13,>=0.12.6->fiftyone)\n",
            "  Downloading pyppmd-1.1.0-cp310-cp310-manylinux_2_17_x86_64.manylinux2014_x86_64.whl (138 kB)\n",
            "\u001b[2K     \u001b[90m━━━━━━━━━━━━━━━━━━━━━━━━━━━━━━━━━━━━━━━━\u001b[0m \u001b[32m138.9/138.9 kB\u001b[0m \u001b[31m18.6 MB/s\u001b[0m eta \u001b[36m0:00:00\u001b[0m\n",
            "\u001b[?25hCollecting pybcj<1.1.0,>=1.0.0 (from py7zr->voxel51-eta<0.13,>=0.12.6->fiftyone)\n",
            "  Downloading pybcj-1.0.2-cp310-cp310-manylinux_2_17_x86_64.manylinux2014_x86_64.whl (49 kB)\n",
            "\u001b[2K     \u001b[90m━━━━━━━━━━━━━━━━━━━━━━━━━━━━━━━━━━━━━━━━\u001b[0m \u001b[32m49.7/49.7 kB\u001b[0m \u001b[31m6.6 MB/s\u001b[0m eta \u001b[36m0:00:00\u001b[0m\n",
            "\u001b[?25hCollecting multivolumefile>=0.2.3 (from py7zr->voxel51-eta<0.13,>=0.12.6->fiftyone)\n",
            "  Downloading multivolumefile-0.2.3-py3-none-any.whl (17 kB)\n",
            "Collecting inflate64<1.1.0,>=1.0.0 (from py7zr->voxel51-eta<0.13,>=0.12.6->fiftyone)\n",
            "  Downloading inflate64-1.0.0-cp310-cp310-manylinux_2_17_x86_64.manylinux2014_x86_64.whl (93 kB)\n",
            "\u001b[2K     \u001b[90m━━━━━━━━━━━━━━━━━━━━━━━━━━━━━━━━━━━━━━━━\u001b[0m \u001b[32m93.1/93.1 kB\u001b[0m \u001b[31m13.6 MB/s\u001b[0m eta \u001b[36m0:00:00\u001b[0m\n",
            "\u001b[?25hCollecting brotli>=1.1.0 (from py7zr->voxel51-eta<0.13,>=0.12.6->fiftyone)\n",
            "  Downloading Brotli-1.1.0-cp310-cp310-manylinux_2_5_x86_64.manylinux1_x86_64.manylinux_2_12_x86_64.manylinux2010_x86_64.whl (3.0 MB)\n",
            "\u001b[2K     \u001b[90m━━━━━━━━━━━━━━━━━━━━━━━━━━━━━━━━━━━━━━━━\u001b[0m \u001b[32m3.0/3.0 MB\u001b[0m \u001b[31m81.2 MB/s\u001b[0m eta \u001b[36m0:00:00\u001b[0m\n",
            "\u001b[?25hRequirement already satisfied: charset-normalizer<4,>=2 in /usr/local/lib/python3.10/dist-packages (from requests->voxel51-eta<0.13,>=0.12.6->fiftyone) (3.3.2)\n",
            "Building wheels for collected packages: fiftyone-db\n",
            "  Building wheel for fiftyone-db (pyproject.toml) ... \u001b[?25l\u001b[?25hdone\n",
            "  Created wheel for fiftyone-db: filename=fiftyone_db-1.1.2-py3-none-manylinux1_x86_64.whl size=42156164 sha256=055e610cfedfcffc16b262d04bfffb5962f4c47e823a5744e0096541c717de59\n",
            "  Stored in directory: /root/.cache/pip/wheels/29/52/b9/14b9d344410c63c0447ba16bf47c0a064c55d735fa14ecf95c\n",
            "Successfully built fiftyone-db\n",
            "Installing collected packages: texttable, sseclient-py, pprintpp, kaleido, brotli, xmltodict, taskgroup, retrying, rarfile, pyzstd, pyppmd, pycryptodomex, pybcj, priority, multivolumefile, jsonlines, jmespath, inflate64, hyperframe, hpack, h11, graphql-core, ftfy, fiftyone-db, dnspython, dill, Deprecated, dacite, argcomplete, aiofiles, wsproto, strawberry-graphql, starlette, pymongo, py7zr, httpcore, h2, botocore, voxel51-eta, sse-starlette, s3transfer, motor, mongoengine, hypercorn, httpx, fiftyone-brain, universal-analytics-python3, boto3, fiftyone\n",
            "Successfully installed Deprecated-1.2.14 aiofiles-23.2.1 argcomplete-3.2.3 boto3-1.34.74 botocore-1.34.74 brotli-1.1.0 dacite-1.7.0 dill-0.3.8 dnspython-2.6.1 fiftyone-0.23.7 fiftyone-brain-0.16.1 fiftyone-db-1.1.2 ftfy-6.2.0 graphql-core-3.2.3 h11-0.14.0 h2-4.1.0 hpack-4.0.0 httpcore-1.0.5 httpx-0.27.0 hypercorn-0.16.0 hyperframe-6.0.1 inflate64-1.0.0 jmespath-1.0.1 jsonlines-4.0.0 kaleido-0.2.1 mongoengine-0.24.2 motor-3.4.0 multivolumefile-0.2.3 pprintpp-0.4.0 priority-2.0.0 py7zr-0.21.0 pybcj-1.0.2 pycryptodomex-3.20.0 pymongo-4.6.3 pyppmd-1.1.0 pyzstd-0.15.10 rarfile-4.1 retrying-1.3.4 s3transfer-0.10.1 sse-starlette-0.10.3 sseclient-py-1.8.0 starlette-0.37.2 strawberry-graphql-0.138.1 taskgroup-0.0.0a4 texttable-1.7.0 universal-analytics-python3-1.1.1 voxel51-eta-0.12.6 wsproto-1.2.0 xmltodict-0.13.0\n"
          ]
        }
      ],
      "source": [
        "!pip install fiftyone"
      ]
    },
    {
      "cell_type": "markdown",
      "id": "5c27104c-4cd6-47c5-a18e-d46a0f2473b6",
      "metadata": {
        "id": "5c27104c-4cd6-47c5-a18e-d46a0f2473b6"
      },
      "source": [
        "## Imports"
      ]
    },
    {
      "cell_type": "code",
      "execution_count": null,
      "id": "d4586bea-5a77-4066-9b8e-896ceae0c93f",
      "metadata": {
        "id": "d4586bea-5a77-4066-9b8e-896ceae0c93f",
        "colab": {
          "base_uri": "https://localhost:8080/"
        },
        "outputId": "aae1c1b3-7153-4fff-8ac5-f6860898e630"
      },
      "outputs": [
        {
          "output_type": "stream",
          "name": "stdout",
          "text": [
            "Migrating database to v0.23.7\n"
          ]
        },
        {
          "output_type": "stream",
          "name": "stderr",
          "text": [
            "INFO:fiftyone.migrations.runner:Migrating database to v0.23.7\n"
          ]
        }
      ],
      "source": [
        "import fiftyone as fo\n",
        "import pandas as pd\n",
        "from fiftyone import ViewField as F\n",
        "\n",
        "# library to deal with images\n",
        "from PIL import Image\n",
        "from IPython.display import display\n",
        "\n",
        "# for model training\n",
        "from sklearn.model_selection import train_test_split"
      ]
    },
    {
      "cell_type": "markdown",
      "id": "e900847e-7a42-4d59-a12a-68ba719460cb",
      "metadata": {
        "id": "e900847e-7a42-4d59-a12a-68ba719460cb"
      },
      "source": [
        "## Main"
      ]
    },
    {
      "cell_type": "markdown",
      "id": "ece78780-9d7d-41cd-85d0-ed57c7c3a0c0",
      "metadata": {
        "id": "ece78780-9d7d-41cd-85d0-ed57c7c3a0c0"
      },
      "source": [
        "First lets fetch the Dataset. we are using fiftyone to view and downlaod the images the images. Since we are only working with three classes we are going to filter the dataset on these 3 classes : ['Golf cart', 'Balloon', 'Bicycle'] which we have stored in an array named \"classes\""
      ]
    },
    {
      "cell_type": "code",
      "execution_count": null,
      "id": "16b41cb2-1491-4caa-9727-5cf45ed7a878",
      "metadata": {
        "id": "16b41cb2-1491-4caa-9727-5cf45ed7a878"
      },
      "outputs": [],
      "source": [
        "my_classes = ['Golf cart', 'Balloon', 'Bicycle']"
      ]
    },
    {
      "cell_type": "code",
      "execution_count": null,
      "id": "Owo14_7DTcGD",
      "metadata": {
        "id": "Owo14_7DTcGD"
      },
      "outputs": [],
      "source": []
    },
    {
      "cell_type": "code",
      "execution_count": null,
      "id": "001eab50-20aa-414d-bb3e-3ca7518632e6",
      "metadata": {
        "colab": {
          "base_uri": "https://localhost:8080/"
        },
        "id": "001eab50-20aa-414d-bb3e-3ca7518632e6",
        "outputId": "aea0cfd5-fa9d-4a40-f374-16da311e8a01"
      },
      "outputs": [
        {
          "name": "stdout",
          "output_type": "stream",
          "text": [
            "Downloading split 'train' to '/root/fiftyone/open-images-v7/train' if necessary\n"
          ]
        },
        {
          "name": "stderr",
          "output_type": "stream",
          "text": [
            "INFO:fiftyone.zoo.datasets:Downloading split 'train' to '/root/fiftyone/open-images-v7/train' if necessary\n"
          ]
        },
        {
          "name": "stdout",
          "output_type": "stream",
          "text": [
            "Downloading 'https://storage.googleapis.com/openimages/2018_04/train/train-images-boxable-with-rotation.csv' to '/root/fiftyone/open-images-v7/train/metadata/image_ids.csv'\n"
          ]
        },
        {
          "name": "stderr",
          "output_type": "stream",
          "text": [
            "INFO:fiftyone.utils.openimages:Downloading 'https://storage.googleapis.com/openimages/2018_04/train/train-images-boxable-with-rotation.csv' to '/root/fiftyone/open-images-v7/train/metadata/image_ids.csv'\n"
          ]
        },
        {
          "name": "stdout",
          "output_type": "stream",
          "text": [
            " 100% |██████|    4.8Gb/4.8Gb [4.8s elapsed, 0s remaining, 1.1Gb/s]         \n"
          ]
        },
        {
          "name": "stderr",
          "output_type": "stream",
          "text": [
            "INFO:eta.core.utils: 100% |██████|    4.8Gb/4.8Gb [4.8s elapsed, 0s remaining, 1.1Gb/s]         \n"
          ]
        },
        {
          "name": "stdout",
          "output_type": "stream",
          "text": [
            "Downloading 'https://storage.googleapis.com/openimages/v5/class-descriptions-boxable.csv' to '/root/fiftyone/open-images-v7/train/metadata/classes.csv'\n"
          ]
        },
        {
          "name": "stderr",
          "output_type": "stream",
          "text": [
            "INFO:fiftyone.utils.openimages:Downloading 'https://storage.googleapis.com/openimages/v5/class-descriptions-boxable.csv' to '/root/fiftyone/open-images-v7/train/metadata/classes.csv'\n"
          ]
        },
        {
          "name": "stdout",
          "output_type": "stream",
          "text": [
            "Downloading 'https://storage.googleapis.com/openimages/2018_04/bbox_labels_600_hierarchy.json' to '/tmp/tmpy_t7vy2t/metadata/hierarchy.json'\n"
          ]
        },
        {
          "name": "stderr",
          "output_type": "stream",
          "text": [
            "INFO:fiftyone.utils.openimages:Downloading 'https://storage.googleapis.com/openimages/2018_04/bbox_labels_600_hierarchy.json' to '/tmp/tmpy_t7vy2t/metadata/hierarchy.json'\n"
          ]
        },
        {
          "name": "stdout",
          "output_type": "stream",
          "text": [
            "Downloading 'https://storage.googleapis.com/openimages/v6/oidv6-train-annotations-bbox.csv' to '/root/fiftyone/open-images-v7/train/labels/detections.csv'\n"
          ]
        },
        {
          "name": "stderr",
          "output_type": "stream",
          "text": [
            "INFO:fiftyone.utils.openimages:Downloading 'https://storage.googleapis.com/openimages/v6/oidv6-train-annotations-bbox.csv' to '/root/fiftyone/open-images-v7/train/labels/detections.csv'\n"
          ]
        },
        {
          "name": "stdout",
          "output_type": "stream",
          "text": [
            "Downloading 1000 images\n"
          ]
        },
        {
          "name": "stderr",
          "output_type": "stream",
          "text": [
            "INFO:fiftyone.utils.openimages:Downloading 1000 images\n"
          ]
        },
        {
          "name": "stdout",
          "output_type": "stream",
          "text": [
            " 100% |█████████████████| 1000/1000 [2.0m elapsed, 0s remaining, 6.2 files/s]       \n"
          ]
        },
        {
          "name": "stderr",
          "output_type": "stream",
          "text": [
            "INFO:eta.core.utils: 100% |█████████████████| 1000/1000 [2.0m elapsed, 0s remaining, 6.2 files/s]       \n"
          ]
        },
        {
          "name": "stdout",
          "output_type": "stream",
          "text": [
            "Dataset info written to '/root/fiftyone/open-images-v7/info.json'\n"
          ]
        },
        {
          "name": "stderr",
          "output_type": "stream",
          "text": [
            "INFO:fiftyone.zoo.datasets:Dataset info written to '/root/fiftyone/open-images-v7/info.json'\n"
          ]
        },
        {
          "name": "stdout",
          "output_type": "stream",
          "text": [
            "Loading 'open-images-v7' split 'train'\n"
          ]
        },
        {
          "name": "stderr",
          "output_type": "stream",
          "text": [
            "INFO:fiftyone.zoo.datasets:Loading 'open-images-v7' split 'train'\n"
          ]
        },
        {
          "name": "stdout",
          "output_type": "stream",
          "text": [
            " 100% |███████████████| 1000/1000 [24.7s elapsed, 0s remaining, 43.7 samples/s]      \n"
          ]
        },
        {
          "name": "stderr",
          "output_type": "stream",
          "text": [
            "INFO:eta.core.utils: 100% |███████████████| 1000/1000 [24.7s elapsed, 0s remaining, 43.7 samples/s]      \n"
          ]
        },
        {
          "name": "stdout",
          "output_type": "stream",
          "text": [
            "Dataset 'open-images-v7-train-1000' created\n"
          ]
        },
        {
          "name": "stderr",
          "output_type": "stream",
          "text": [
            "INFO:fiftyone.zoo.datasets:Dataset 'open-images-v7-train-1000' created\n"
          ]
        }
      ],
      "source": [
        "dataset = fo.zoo.load_zoo_dataset(\n",
        "    \"open-images-v7\",\n",
        "    split=\"train\",\n",
        "    label_types=[\"detections\"],\n",
        "    classes=my_classes,\n",
        "    max_samples=1000,\n",
        "    shuffle=True\n",
        ")"
      ]
    },
    {
      "cell_type": "markdown",
      "id": "d982cbdc-e3be-41f8-b4cc-d36d81222307",
      "metadata": {
        "id": "d982cbdc-e3be-41f8-b4cc-d36d81222307"
      },
      "source": [
        "We have downloaded a lot of data right now. To make sure we are only working with the relevant data that we need we will have to further filter the downloaded data. That we are doing by filtering the dataset to include only the samples where the label is one of the classes specified."
      ]
    },
    {
      "cell_type": "code",
      "execution_count": null,
      "id": "970e4698-27e6-4910-af34-50c8d38a5834",
      "metadata": {
        "id": "970e4698-27e6-4910-af34-50c8d38a5834"
      },
      "outputs": [],
      "source": [
        "dataset = dataset.filter_labels(\"ground_truth\", F(\"label\").is_in(my_classes))"
      ]
    },
    {
      "cell_type": "markdown",
      "id": "e8e47ad4-cf94-44ce-9c42-0777eb699ecc",
      "metadata": {
        "id": "e8e47ad4-cf94-44ce-9c42-0777eb699ecc"
      },
      "source": [
        "Now lets check out with what data we are actually working - This we can do by a few small Data Exploration steps"
      ]
    },
    {
      "cell_type": "code",
      "execution_count": null,
      "id": "0591b0f8-0a6c-491a-b878-7c83404cfaa8",
      "metadata": {
        "colab": {
          "base_uri": "https://localhost:8080/"
        },
        "id": "0591b0f8-0a6c-491a-b878-7c83404cfaa8",
        "outputId": "cd7a8884-40cf-4d44-a9d7-ce8dc5b2dfd2"
      },
      "outputs": [
        {
          "name": "stdout",
          "output_type": "stream",
          "text": [
            "Number of samples: 1000\n"
          ]
        }
      ],
      "source": [
        "num_samples = len(dataset)\n",
        "print(\"Number of samples:\", num_samples)"
      ]
    },
    {
      "cell_type": "code",
      "execution_count": null,
      "id": "669c91a2-dd9a-4895-be31-c1cdb0c26841",
      "metadata": {
        "colab": {
          "base_uri": "https://localhost:8080/"
        },
        "id": "669c91a2-dd9a-4895-be31-c1cdb0c26841",
        "outputId": "44479e58-86b3-4b80-9f02-0e1c60a54466"
      },
      "outputs": [
        {
          "name": "stdout",
          "output_type": "stream",
          "text": [
            "Samples per class: {'Balloon': 435, 'Bicycle': 1946, 'Golf cart': 18}\n"
          ]
        }
      ],
      "source": [
        "samples_per_class = dataset.count_values(\"ground_truth.detections.label\")\n",
        "print(\"Samples per class:\", samples_per_class)"
      ]
    },
    {
      "cell_type": "code",
      "execution_count": null,
      "id": "37ee93d2-59a8-4cc1-aaff-c24ae3459fe4",
      "metadata": {
        "colab": {
          "base_uri": "https://localhost:8080/",
          "height": 1000
        },
        "id": "37ee93d2-59a8-4cc1-aaff-c24ae3459fe4",
        "outputId": "78379d48-d67d-4134-b2e2-cc2d2e7d6859"
      },
      "outputs": [],
      "source": [
        "for sample_view in dataset[:3]:  # Iterate over the first 3 SampleView objects\n",
        "    filepath = sample_view[\"filepath\"]  # Get the filepath of the image\n",
        "    image = Image.open(filepath)  # Open the image using Pillow\n",
        "    display(image)  # Display the image in the notebook"
      ]
    },
    {
      "cell_type": "markdown",
      "id": "a99be3f3-2c14-4a8a-9be4-95adf3cb04cd",
      "metadata": {
        "id": "a99be3f3-2c14-4a8a-9be4-95adf3cb04cd"
      },
      "source": [
        "Now lets focus more on the images we will need for our task here. To do so we will convert the images to \"patches\". Those patches focus more closly on the part of the image in which the object is seen .\n",
        "\n",
        "**Please edit the path to fit with yours**"
      ]
    },
    {
      "cell_type": "code",
      "execution_count": null,
      "id": "a9a14a21-c832-452f-8e98-04b9babb864c",
      "metadata": {
        "id": "a9a14a21-c832-452f-8e98-04b9babb864c"
      },
      "outputs": [],
      "source": [
        "export_dir = \"drive/MyDrive/ComputerVision/images\""
      ]
    },
    {
      "cell_type": "code",
      "execution_count": null,
      "id": "a0e5bab6-cd8a-47f0-8fd0-5b7962f919a2",
      "metadata": {
        "colab": {
          "base_uri": "https://localhost:8080/"
        },
        "id": "a0e5bab6-cd8a-47f0-8fd0-5b7962f919a2",
        "outputId": "e06eaab6-d87f-4ff1-a96e-bb82598e0fd4"
      },
      "outputs": [
        {
          "name": "stdout",
          "output_type": "stream",
          "text": [
            "Detected an image classification exporter and a label field 'ground_truth' of type <class 'fiftyone.core.labels.Detection'>. Exporting image patches...\n"
          ]
        },
        {
          "name": "stderr",
          "output_type": "stream",
          "text": [
            "INFO:fiftyone.utils.data.exporters:Detected an image classification exporter and a label field 'ground_truth' of type <class 'fiftyone.core.labels.Detection'>. Exporting image patches...\n"
          ]
        },
        {
          "name": "stdout",
          "output_type": "stream",
          "text": [
            " 100% |███████████████| 2399/2399 [1.6m elapsed, 0s remaining, 20.0 samples/s]      \n"
          ]
        },
        {
          "name": "stderr",
          "output_type": "stream",
          "text": [
            "INFO:eta.core.utils: 100% |███████████████| 2399/2399 [1.6m elapsed, 0s remaining, 20.0 samples/s]      \n"
          ]
        }
      ],
      "source": [
        "# Convert the dataset to patches and export them\n",
        "patches = dataset.to_patches(\"ground_truth\")\n",
        "\n",
        "patches.export(\n",
        "    export_dir=export_dir,\n",
        "    dataset_type=fo.types.ImageClassificationDirectoryTree,\n",
        "    label_field=\"ground_truth\",\n",
        ")"
      ]
    },
    {
      "cell_type": "markdown",
      "id": "ebfdcd29-43fe-4b7e-9a79-a13c0bade1f0",
      "metadata": {
        "id": "ebfdcd29-43fe-4b7e-9a79-a13c0bade1f0"
      },
      "source": [
        "We have now exported the patches. To use the images for training and testing purposes we will have to import or load the dataset from the directory and then split the patches"
      ]
    },
    {
      "cell_type": "code",
      "execution_count": null,
      "id": "efbf7ab4-a944-4c7c-bee6-018013362241",
      "metadata": {
        "id": "efbf7ab4-a944-4c7c-bee6-018013362241"
      },
      "outputs": [],
      "source": [
        "import os\n",
        "import shutil\n",
        "import random\n",
        "\n",
        "# Define the path to your main image directory\n",
        "image_dir = \"drive/MyDrive/ComputerVision/images\"\n",
        "export_dir = \"drive/MyDrive/ComputerVision/CV\"\n",
        "\n",
        "# Define the paths for train and test directories\n",
        "train_dir = os.path.join(export_dir, \"train\")\n",
        "test_dir = os.path.join(export_dir, \"test\")\n",
        "\n",
        "# Create train and test directories if they don't exist\n",
        "os.makedirs(train_dir, exist_ok=True)\n",
        "os.makedirs(test_dir, exist_ok=True)"
      ]
    },
    {
      "cell_type": "code",
      "execution_count": null,
      "id": "194edcc3-42d6-443e-b90e-7f6bc037769d",
      "metadata": {
        "id": "194edcc3-42d6-443e-b90e-7f6bc037769d"
      },
      "outputs": [],
      "source": [
        "train_dir = 'drive/MyDrive/ComputerVision/CV/train'"
      ]
    },
    {
      "cell_type": "code",
      "execution_count": null,
      "id": "eef7a56f-6ede-4bfe-83b3-fb096b64cb5a",
      "metadata": {
        "id": "eef7a56f-6ede-4bfe-83b3-fb096b64cb5a"
      },
      "outputs": [],
      "source": [
        "test_dir = 'drive/MyDrive/ComputerVision/CV/test'"
      ]
    },
    {
      "cell_type": "code",
      "execution_count": null,
      "id": "facffa05-a985-462b-ac07-f96b67bb1fd1",
      "metadata": {
        "id": "facffa05-a985-462b-ac07-f96b67bb1fd1"
      },
      "outputs": [],
      "source": [
        "# List all class folders in the main image directory\n",
        "class_folders = [f for f in os.listdir(image_dir) if os.path.isdir(os.path.join(image_dir, f))]"
      ]
    },
    {
      "cell_type": "code",
      "execution_count": null,
      "id": "763acf60-1755-41c7-b35d-0f839dcc021b",
      "metadata": {
        "colab": {
          "base_uri": "https://localhost:8080/"
        },
        "id": "763acf60-1755-41c7-b35d-0f839dcc021b",
        "outputId": "a4bcbca6-2873-4048-cba7-b6f6f3029f90"
      },
      "outputs": [
        {
          "output_type": "execute_result",
          "data": {
            "text/plain": [
              "['Bicycle', 'Balloon', 'Golf cart']"
            ]
          },
          "metadata": {},
          "execution_count": 11
        }
      ],
      "source": [
        "class_folders"
      ]
    },
    {
      "cell_type": "code",
      "execution_count": null,
      "id": "47bd7e8d-c13b-4221-b8db-1840bb7c93b5",
      "metadata": {
        "colab": {
          "base_uri": "https://localhost:8080/"
        },
        "id": "47bd7e8d-c13b-4221-b8db-1840bb7c93b5",
        "outputId": "c29debcf-83ff-4829-fdd5-dd0e1de84331"
      },
      "outputs": [
        {
          "name": "stdout",
          "output_type": "stream",
          "text": [
            "drive/MyDrive/images/Bicycle\n",
            "drive/MyDrive/images/Balloon\n",
            "drive/MyDrive/images/Golf cart\n"
          ]
        }
      ],
      "source": [
        "# Define the split ratio\n",
        "train_split_ratio = 0.8\n",
        "\n",
        "# For each class folder, split images into train and test sets\n",
        "for class_folder in class_folders:\n",
        "    class_images = os.listdir(os.path.join(image_dir, class_folder))\n",
        "    print(os.path.join(image_dir, class_folder))"
      ]
    },
    {
      "cell_type": "code",
      "execution_count": null,
      "id": "3e0262bc-f78a-4cca-bcce-4109adb4418d",
      "metadata": {
        "colab": {
          "base_uri": "https://localhost:8080/",
          "height": 373
        },
        "id": "3e0262bc-f78a-4cca-bcce-4109adb4418d",
        "outputId": "be227a23-b26f-4256-f994-6100259350fb"
      },
      "outputs": [
        {
          "ename": "KeyboardInterrupt",
          "evalue": "",
          "output_type": "error",
          "traceback": [
            "\u001b[0;31m---------------------------------------------------------------------------\u001b[0m",
            "\u001b[0;31mKeyboardInterrupt\u001b[0m                         Traceback (most recent call last)",
            "\u001b[0;32m<ipython-input-10-4a4ef5882588>\u001b[0m in \u001b[0;36m<cell line: 5>\u001b[0;34m()\u001b[0m\n\u001b[1;32m     13\u001b[0m         \u001b[0mdest_path\u001b[0m \u001b[0;34m=\u001b[0m \u001b[0mos\u001b[0m\u001b[0;34m.\u001b[0m\u001b[0mpath\u001b[0m\u001b[0;34m.\u001b[0m\u001b[0mjoin\u001b[0m\u001b[0;34m(\u001b[0m\u001b[0mtrain_dir\u001b[0m\u001b[0;34m,\u001b[0m \u001b[0mclass_folder\u001b[0m\u001b[0;34m,\u001b[0m \u001b[0mimage_file\u001b[0m\u001b[0;34m)\u001b[0m\u001b[0;34m\u001b[0m\u001b[0;34m\u001b[0m\u001b[0m\n\u001b[1;32m     14\u001b[0m         \u001b[0mos\u001b[0m\u001b[0;34m.\u001b[0m\u001b[0mmakedirs\u001b[0m\u001b[0;34m(\u001b[0m\u001b[0mos\u001b[0m\u001b[0;34m.\u001b[0m\u001b[0mpath\u001b[0m\u001b[0;34m.\u001b[0m\u001b[0mdirname\u001b[0m\u001b[0;34m(\u001b[0m\u001b[0mdest_path\u001b[0m\u001b[0;34m)\u001b[0m\u001b[0;34m,\u001b[0m \u001b[0mexist_ok\u001b[0m\u001b[0;34m=\u001b[0m\u001b[0;32mTrue\u001b[0m\u001b[0;34m)\u001b[0m\u001b[0;34m\u001b[0m\u001b[0;34m\u001b[0m\u001b[0m\n\u001b[0;32m---> 15\u001b[0;31m         \u001b[0mshutil\u001b[0m\u001b[0;34m.\u001b[0m\u001b[0mcopy\u001b[0m\u001b[0;34m(\u001b[0m\u001b[0msrc_path\u001b[0m\u001b[0;34m,\u001b[0m \u001b[0mdest_path\u001b[0m\u001b[0;34m)\u001b[0m\u001b[0;34m\u001b[0m\u001b[0;34m\u001b[0m\u001b[0m\n\u001b[0m\u001b[1;32m     16\u001b[0m \u001b[0;34m\u001b[0m\u001b[0m\n\u001b[1;32m     17\u001b[0m     \u001b[0;31m# Copy remaining images to test directory\u001b[0m\u001b[0;34m\u001b[0m\u001b[0;34m\u001b[0m\u001b[0m\n",
            "\u001b[0;32m/usr/lib/python3.10/shutil.py\u001b[0m in \u001b[0;36mcopy\u001b[0;34m(src, dst, follow_symlinks)\u001b[0m\n\u001b[1;32m    415\u001b[0m     \u001b[0;32mif\u001b[0m \u001b[0mos\u001b[0m\u001b[0;34m.\u001b[0m\u001b[0mpath\u001b[0m\u001b[0;34m.\u001b[0m\u001b[0misdir\u001b[0m\u001b[0;34m(\u001b[0m\u001b[0mdst\u001b[0m\u001b[0;34m)\u001b[0m\u001b[0;34m:\u001b[0m\u001b[0;34m\u001b[0m\u001b[0;34m\u001b[0m\u001b[0m\n\u001b[1;32m    416\u001b[0m         \u001b[0mdst\u001b[0m \u001b[0;34m=\u001b[0m \u001b[0mos\u001b[0m\u001b[0;34m.\u001b[0m\u001b[0mpath\u001b[0m\u001b[0;34m.\u001b[0m\u001b[0mjoin\u001b[0m\u001b[0;34m(\u001b[0m\u001b[0mdst\u001b[0m\u001b[0;34m,\u001b[0m \u001b[0mos\u001b[0m\u001b[0;34m.\u001b[0m\u001b[0mpath\u001b[0m\u001b[0;34m.\u001b[0m\u001b[0mbasename\u001b[0m\u001b[0;34m(\u001b[0m\u001b[0msrc\u001b[0m\u001b[0;34m)\u001b[0m\u001b[0;34m)\u001b[0m\u001b[0;34m\u001b[0m\u001b[0;34m\u001b[0m\u001b[0m\n\u001b[0;32m--> 417\u001b[0;31m     \u001b[0mcopyfile\u001b[0m\u001b[0;34m(\u001b[0m\u001b[0msrc\u001b[0m\u001b[0;34m,\u001b[0m \u001b[0mdst\u001b[0m\u001b[0;34m,\u001b[0m \u001b[0mfollow_symlinks\u001b[0m\u001b[0;34m=\u001b[0m\u001b[0mfollow_symlinks\u001b[0m\u001b[0;34m)\u001b[0m\u001b[0;34m\u001b[0m\u001b[0;34m\u001b[0m\u001b[0m\n\u001b[0m\u001b[1;32m    418\u001b[0m     \u001b[0mcopymode\u001b[0m\u001b[0;34m(\u001b[0m\u001b[0msrc\u001b[0m\u001b[0;34m,\u001b[0m \u001b[0mdst\u001b[0m\u001b[0;34m,\u001b[0m \u001b[0mfollow_symlinks\u001b[0m\u001b[0;34m=\u001b[0m\u001b[0mfollow_symlinks\u001b[0m\u001b[0;34m)\u001b[0m\u001b[0;34m\u001b[0m\u001b[0;34m\u001b[0m\u001b[0m\n\u001b[1;32m    419\u001b[0m     \u001b[0;32mreturn\u001b[0m \u001b[0mdst\u001b[0m\u001b[0;34m\u001b[0m\u001b[0;34m\u001b[0m\u001b[0m\n",
            "\u001b[0;32m/usr/lib/python3.10/shutil.py\u001b[0m in \u001b[0;36mcopyfile\u001b[0;34m(src, dst, follow_symlinks)\u001b[0m\n\u001b[1;32m    256\u001b[0m                 \u001b[0;32mwith\u001b[0m \u001b[0mopen\u001b[0m\u001b[0;34m(\u001b[0m\u001b[0mdst\u001b[0m\u001b[0;34m,\u001b[0m \u001b[0;34m'wb'\u001b[0m\u001b[0;34m)\u001b[0m \u001b[0;32mas\u001b[0m \u001b[0mfdst\u001b[0m\u001b[0;34m:\u001b[0m\u001b[0;34m\u001b[0m\u001b[0;34m\u001b[0m\u001b[0m\n\u001b[1;32m    257\u001b[0m                     \u001b[0;31m# macOS\u001b[0m\u001b[0;34m\u001b[0m\u001b[0;34m\u001b[0m\u001b[0m\n\u001b[0;32m--> 258\u001b[0;31m                     \u001b[0;32mif\u001b[0m \u001b[0m_HAS_FCOPYFILE\u001b[0m\u001b[0;34m:\u001b[0m\u001b[0;34m\u001b[0m\u001b[0;34m\u001b[0m\u001b[0m\n\u001b[0m\u001b[1;32m    259\u001b[0m                         \u001b[0;32mtry\u001b[0m\u001b[0;34m:\u001b[0m\u001b[0;34m\u001b[0m\u001b[0;34m\u001b[0m\u001b[0m\n\u001b[1;32m    260\u001b[0m                             \u001b[0m_fastcopy_fcopyfile\u001b[0m\u001b[0;34m(\u001b[0m\u001b[0mfsrc\u001b[0m\u001b[0;34m,\u001b[0m \u001b[0mfdst\u001b[0m\u001b[0;34m,\u001b[0m \u001b[0mposix\u001b[0m\u001b[0;34m.\u001b[0m\u001b[0m_COPYFILE_DATA\u001b[0m\u001b[0;34m)\u001b[0m\u001b[0;34m\u001b[0m\u001b[0;34m\u001b[0m\u001b[0m\n",
            "\u001b[0;31mKeyboardInterrupt\u001b[0m: "
          ]
        }
      ],
      "source": [
        "# Define the split ratio\n",
        "train_split_ratio = 0.8\n",
        "\n",
        "# For each class folder, split images into train and test sets\n",
        "for class_folder in class_folders:\n",
        "    class_images = os.listdir(os.path.join(image_dir, class_folder))\n",
        "    random.shuffle(class_images)\n",
        "    num_train_images = int(len(class_images) * train_split_ratio)\n",
        "\n",
        "    # Copy images to train directory\n",
        "    for image_file in class_images[:num_train_images]:\n",
        "        src_path = os.path.join(image_dir, class_folder, image_file)\n",
        "        dest_path = os.path.join(train_dir, class_folder, image_file)\n",
        "        os.makedirs(os.path.dirname(dest_path), exist_ok=True)\n",
        "        shutil.copy(src_path, dest_path)\n",
        "\n",
        "    # Copy remaining images to test directory\n",
        "    for image_file in class_images[num_train_images:]:\n",
        "        src_path = os.path.join(image_dir, class_folder, image_file)\n",
        "        dest_path = os.path.join(test_dir, class_folder, image_file)\n",
        "        os.makedirs(os.path.dirname(dest_path), exist_ok=True)\n",
        "        shutil.copy(src_path, dest_path)\n",
        "\n",
        "print(\"Splitting into train and test sets complete.\")"
      ]
    },
    {
      "cell_type": "markdown",
      "id": "a1340123-b82c-4c9d-a761-0c5464479588",
      "metadata": {
        "id": "a1340123-b82c-4c9d-a761-0c5464479588"
      },
      "source": [
        "In the next step we will be using the ResNet50 which is already pre-trained with the imagenet.\n",
        "\n",
        "\n",
        "ResNet50 pre-trained on ImageNet is a convolutional neural network architecture designed for image recognition tasks. ImageNet provides a vast dataset for training, allowing ResNet50 to learn a broad range of visual features across numerous categories. This pre-training equips ResNet50 with the ability to extract intricate patterns and textures from images, making it highly effective for tasks such as classification, object detection, and segmentation. Leveraging ResNet50's pre-trained weights offers a significant advantage by providing a strong foundation for building custom models, reducing the need for extensive training on smaller datasets and improving performance on diverse image-related tasks."
      ]
    },
    {
      "cell_type": "markdown",
      "id": "b8c0ec09-430d-486c-8035-c8a29d967778",
      "metadata": {
        "id": "b8c0ec09-430d-486c-8035-c8a29d967778"
      },
      "source": [
        "### Imports for Model training"
      ]
    },
    {
      "cell_type": "code",
      "execution_count": null,
      "id": "15677f40-c05c-4762-8de8-989644e1a507",
      "metadata": {
        "id": "15677f40-c05c-4762-8de8-989644e1a507"
      },
      "outputs": [],
      "source": [
        "import tensorflow as tf\n",
        "from tensorflow.keras.applications import ResNet50\n",
        "from tensorflow.keras.layers import Dense, GlobalAveragePooling2D\n",
        "from tensorflow.keras.models import Model\n",
        "from tensorflow.keras.optimizers import Adam\n",
        "from tensorflow.keras.callbacks import ModelCheckpoint, EarlyStopping, TensorBoard\n",
        "from tensorflow.keras.preprocessing.image import ImageDataGenerator"
      ]
    },
    {
      "cell_type": "markdown",
      "id": "5c2862b2-08cb-4632-8210-8864fa139fc6",
      "metadata": {
        "id": "5c2862b2-08cb-4632-8210-8864fa139fc6"
      },
      "source": [
        "### Model Training - ResNet50 ; No changes ; Pre-Trained on Imagenet"
      ]
    },
    {
      "cell_type": "markdown",
      "id": "e42fa302-265f-4d6a-82b7-86c2db71c92f",
      "metadata": {
        "id": "e42fa302-265f-4d6a-82b7-86c2db71c92f"
      },
      "source": [
        "Firstly we will need our test and train data back. For that please define where the train and test data has been saved in your OS for the code to run through. The definitions of the train and test directory have already been done before !!"
      ]
    },
    {
      "cell_type": "code",
      "execution_count": null,
      "id": "35ec28d5-886a-4c02-bf38-234833ebf571",
      "metadata": {
        "id": "35ec28d5-886a-4c02-bf38-234833ebf571"
      },
      "outputs": [],
      "source": [
        "# Image dimensions\n",
        "img_height, img_width = 224, 224\n",
        "batch_size = 32"
      ]
    },
    {
      "cell_type": "code",
      "execution_count": null,
      "id": "a548946f-e68a-493d-9609-2e1a1dddf3e9",
      "metadata": {
        "id": "a548946f-e68a-493d-9609-2e1a1dddf3e9"
      },
      "outputs": [],
      "source": [
        "# Data normalization for training and testing\n",
        "datagen = ImageDataGenerator(rescale=1./255)"
      ]
    },
    {
      "cell_type": "code",
      "execution_count": null,
      "id": "32653e28-6dc9-4a77-bc56-47bb6985bf34",
      "metadata": {
        "colab": {
          "base_uri": "https://localhost:8080/"
        },
        "id": "32653e28-6dc9-4a77-bc56-47bb6985bf34",
        "outputId": "0fe3736e-c0b5-406c-ec4e-558d9086fd0b"
      },
      "outputs": [
        {
          "output_type": "stream",
          "name": "stdout",
          "text": [
            "Found 2150 images belonging to 3 classes.\n",
            "Found 481 images belonging to 3 classes.\n"
          ]
        }
      ],
      "source": [
        "# Prepare data generators\n",
        "train_generator = datagen.flow_from_directory(\n",
        "    train_dir,\n",
        "    target_size=(img_height, img_width),\n",
        "    batch_size=batch_size,\n",
        "    class_mode='categorical'\n",
        ")\n",
        "\n",
        "test_generator = datagen.flow_from_directory(\n",
        "    test_dir,\n",
        "    target_size=(img_height, img_width),\n",
        "    batch_size=batch_size,\n",
        "    class_mode='categorical'\n",
        ")"
      ]
    },
    {
      "cell_type": "code",
      "execution_count": null,
      "id": "836ce798-95a5-48d7-a296-c75c0e30b02c",
      "metadata": {
        "colab": {
          "base_uri": "https://localhost:8080/"
        },
        "id": "836ce798-95a5-48d7-a296-c75c0e30b02c",
        "outputId": "97ba9976-a39c-434e-ae7e-199fcf84d166"
      },
      "outputs": [
        {
          "output_type": "stream",
          "name": "stdout",
          "text": [
            "Downloading data from https://storage.googleapis.com/tensorflow/keras-applications/resnet/resnet50_weights_tf_dim_ordering_tf_kernels_notop.h5\n",
            "94765736/94765736 [==============================] - 3s 0us/step\n"
          ]
        }
      ],
      "source": [
        "# Load pre-trained ResNet50 model\n",
        "base_model = ResNet50(weights='imagenet', include_top=False)"
      ]
    },
    {
      "cell_type": "code",
      "execution_count": null,
      "id": "9ddf74ea-b76a-4fbb-9c88-b3f990305b9e",
      "metadata": {
        "id": "9ddf74ea-b76a-4fbb-9c88-b3f990305b9e"
      },
      "outputs": [],
      "source": [
        "# Global average pooling and output layer\n",
        "x = GlobalAveragePooling2D()(base_model.output)\n",
        "output = Dense(train_generator.num_classes, activation='softmax')(x)"
      ]
    },
    {
      "cell_type": "code",
      "execution_count": null,
      "id": "0d2cc4ee-2d70-4752-afce-0db3f1e2030b",
      "metadata": {
        "id": "0d2cc4ee-2d70-4752-afce-0db3f1e2030b"
      },
      "outputs": [],
      "source": [
        "# Construct the model\n",
        "model = Model(inputs=base_model.input, outputs=output)"
      ]
    },
    {
      "cell_type": "markdown",
      "id": "fbJyo3XAd35x",
      "metadata": {
        "id": "fbJyo3XAd35x"
      },
      "source": []
    },
    {
      "cell_type": "code",
      "execution_count": null,
      "id": "7f774772-0a2e-4c71-99df-09f26ba3f226",
      "metadata": {
        "id": "7f774772-0a2e-4c71-99df-09f26ba3f226"
      },
      "outputs": [],
      "source": [
        "# Freeze the base ResNet50 layers\n",
        "for layer in base_model.layers:\n",
        "    layer.trainable = False"
      ]
    },
    {
      "cell_type": "code",
      "execution_count": null,
      "id": "60551683-79e4-4523-9b2d-11e624ff4311",
      "metadata": {
        "id": "60551683-79e4-4523-9b2d-11e624ff4311"
      },
      "outputs": [],
      "source": [
        "# Compile the model\n",
        "model.compile(optimizer=Adam(), loss='categorical_crossentropy', metrics=['accuracy'])"
      ]
    },
    {
      "cell_type": "code",
      "execution_count": null,
      "id": "f91fbd09-0016-4ebf-b9f1-ed5774effd2e",
      "metadata": {
        "id": "f91fbd09-0016-4ebf-b9f1-ed5774effd2e"
      },
      "outputs": [],
      "source": [
        "# Define the file path for model checkpoint\n",
        "model_checkpoint_file = \"drive/MyDrive/models/model_og_checkpoint.keras\"\n",
        "\n",
        "# Define callbacks\n",
        "checkpoint = ModelCheckpoint(model_checkpoint_file, monitor='val_accuracy', verbose=1, save_best_only=True, mode='max')\n",
        "early_stopping = EarlyStopping(monitor='val_loss', patience=3, verbose=1, restore_best_weights=True)\n",
        "tensorboard = TensorBoard(log_dir=\"logs\", histogram_freq=1)"
      ]
    },
    {
      "cell_type": "code",
      "execution_count": null,
      "id": "ce70af6d-deb7-478c-ba48-31d6aea8d641",
      "metadata": {
        "colab": {
          "base_uri": "https://localhost:8080/"
        },
        "id": "ce70af6d-deb7-478c-ba48-31d6aea8d641",
        "outputId": "4080b8d8-6700-460b-a4d0-54aed271df1d"
      },
      "outputs": [
        {
          "name": "stdout",
          "output_type": "stream",
          "text": [
            "Epoch 1/10\n",
            "60/60 [==============================] - ETA: 0s - loss: 0.4651 - accuracy: 0.8113\n",
            "Epoch 1: val_accuracy improved from -inf to 0.81081, saving model to drive/MyDrive/models/model_og_checkpoint.keras\n",
            "60/60 [==============================] - 487s 8s/step - loss: 0.4651 - accuracy: 0.8113 - val_loss: 0.4005 - val_accuracy: 0.8108\n",
            "Epoch 2/10\n",
            "60/60 [==============================] - ETA: 0s - loss: 0.3904 - accuracy: 0.8113\n",
            "Epoch 2: val_accuracy improved from 0.81081 to 0.86279, saving model to drive/MyDrive/models/model_og_checkpoint.keras\n",
            "60/60 [==============================] - 497s 8s/step - loss: 0.3904 - accuracy: 0.8113 - val_loss: 0.3672 - val_accuracy: 0.8628\n",
            "Epoch 3/10\n",
            "60/60 [==============================] - ETA: 0s - loss: 0.3626 - accuracy: 0.8467\n",
            "Epoch 3: val_accuracy did not improve from 0.86279\n",
            "60/60 [==============================] - 528s 9s/step - loss: 0.3626 - accuracy: 0.8467 - val_loss: 0.3527 - val_accuracy: 0.8108\n",
            "Epoch 4/10\n",
            "60/60 [==============================] - ETA: 0s - loss: 0.3487 - accuracy: 0.8592\n",
            "Epoch 4: val_accuracy improved from 0.86279 to 0.90437, saving model to drive/MyDrive/models/model_og_checkpoint.keras\n",
            "60/60 [==============================] - 517s 9s/step - loss: 0.3487 - accuracy: 0.8592 - val_loss: 0.3407 - val_accuracy: 0.9044\n",
            "Epoch 5/10\n",
            "60/60 [==============================] - ETA: 0s - loss: 0.3384 - accuracy: 0.8827\n",
            "Epoch 5: val_accuracy did not improve from 0.90437\n",
            "60/60 [==============================] - 473s 8s/step - loss: 0.3384 - accuracy: 0.8827 - val_loss: 0.3304 - val_accuracy: 0.8690\n",
            "Epoch 6/10\n",
            "60/60 [==============================] - ETA: 0s - loss: 0.3383 - accuracy: 0.8754\n",
            "Epoch 6: val_accuracy did not improve from 0.90437\n",
            "60/60 [==============================] - 514s 9s/step - loss: 0.3383 - accuracy: 0.8754 - val_loss: 0.3261 - val_accuracy: 0.8960\n",
            "Epoch 7/10\n",
            "60/60 [==============================] - ETA: 0s - loss: 0.3239 - accuracy: 0.8863\n",
            "Epoch 7: val_accuracy improved from 0.90437 to 0.91268, saving model to drive/MyDrive/models/model_og_checkpoint.keras\n",
            "60/60 [==============================] - 465s 8s/step - loss: 0.3239 - accuracy: 0.8863 - val_loss: 0.3157 - val_accuracy: 0.9127\n",
            "Epoch 8/10\n",
            "60/60 [==============================] - ETA: 0s - loss: 0.3163 - accuracy: 0.8916\n",
            "Epoch 8: val_accuracy improved from 0.91268 to 0.91476, saving model to drive/MyDrive/models/model_og_checkpoint.keras\n",
            "60/60 [==============================] - 470s 8s/step - loss: 0.3163 - accuracy: 0.8916 - val_loss: 0.3114 - val_accuracy: 0.9148\n",
            "Epoch 9/10\n",
            "60/60 [==============================] - ETA: 0s - loss: 0.3105 - accuracy: 0.8994\n",
            "Epoch 9: val_accuracy did not improve from 0.91476\n",
            "60/60 [==============================] - 519s 9s/step - loss: 0.3105 - accuracy: 0.8994 - val_loss: 0.3115 - val_accuracy: 0.8981\n",
            "Epoch 10/10\n",
            "60/60 [==============================] - ETA: 0s - loss: 0.3081 - accuracy: 0.8921\n",
            "Epoch 10: val_accuracy improved from 0.91476 to 0.92100, saving model to drive/MyDrive/models/model_og_checkpoint.keras\n",
            "60/60 [==============================] - 513s 9s/step - loss: 0.3081 - accuracy: 0.8921 - val_loss: 0.3019 - val_accuracy: 0.9210\n"
          ]
        }
      ],
      "source": [
        "# Train the model\n",
        "history = model.fit(\n",
        "    train_generator,\n",
        "    epochs=10,\n",
        "    validation_data=test_generator,\n",
        "    callbacks=[checkpoint, early_stopping, tensorboard]\n",
        ")"
      ]
    },
    {
      "cell_type": "code",
      "execution_count": null,
      "id": "c1daf7a2-161d-416f-99ba-8a0d157b1c35",
      "metadata": {
        "id": "c1daf7a2-161d-416f-99ba-8a0d157b1c35",
        "outputId": "b386d3b3-fb05-47fb-cc09-2ca15a534ebe"
      },
      "outputs": [
        {
          "name": "stdout",
          "output_type": "stream",
          "text": [
            "\u001b[1m16/16\u001b[0m \u001b[32m━━━━━━━━━━━━━━━━━━━━\u001b[0m\u001b[37m\u001b[0m \u001b[1m22s\u001b[0m 1s/step - accuracy: 0.8959 - loss: 0.3362\n",
            "Test loss: 0.398516982793808\n",
            "Test accuracy: 0.8904382586479187\n"
          ]
        }
      ],
      "source": [
        "# Evaluate the model on test set\n",
        "test_loss, test_accuracy = model.evaluate(test_generator)\n",
        "print(\"Test loss:\", test_loss)\n",
        "print(\"Test accuracy:\", test_accuracy)"
      ]
    },
    {
      "cell_type": "code",
      "execution_count": null,
      "id": "5e7e3382-c531-4c35-aaed-e55f061648cf",
      "metadata": {
        "id": "5e7e3382-c531-4c35-aaed-e55f061648cf"
      },
      "outputs": [],
      "source": [
        "# Check if the model file exists\n",
        "if not os.path.exists(model_checkpoint_file):\n",
        "    raise FileNotFoundError(f\"Model file '{model_checkpoint_file}' not found.\")"
      ]
    },
    {
      "cell_type": "code",
      "execution_count": null,
      "id": "84cb1851-65fd-4db0-b5bd-d3f7cea78bee",
      "metadata": {
        "id": "84cb1851-65fd-4db0-b5bd-d3f7cea78bee"
      },
      "outputs": [],
      "source": [
        "from tensorflow.keras.models import load_model\n",
        "# Load the trained model\n",
        "model_checkpoint_file = \"drive/MyDrive/ComputerVision/models/model_og_checkpoint.keras\"\n",
        "model = load_model(model_checkpoint_file)"
      ]
    },
    {
      "cell_type": "code",
      "execution_count": null,
      "id": "92e544be-0f8f-46d4-9721-792d0e23e193",
      "metadata": {
        "colab": {
          "base_uri": "https://localhost:8080/"
        },
        "id": "92e544be-0f8f-46d4-9721-792d0e23e193",
        "outputId": "28743c13-2023-40cd-fe66-1e80176f6012"
      },
      "outputs": [
        {
          "output_type": "stream",
          "name": "stdout",
          "text": [
            "Number of parameters of the model: 23593859\n"
          ]
        }
      ],
      "source": [
        "# Compute the number of parameters of the model\n",
        "num_params = model.count_params()\n",
        "print(\"Number of parameters of the model:\", num_params)"
      ]
    },
    {
      "cell_type": "code",
      "execution_count": null,
      "id": "20597a49-647a-497b-93c8-f4ba4bc3d17e",
      "metadata": {
        "colab": {
          "base_uri": "https://localhost:8080/"
        },
        "id": "20597a49-647a-497b-93c8-f4ba4bc3d17e",
        "outputId": "f685927f-7578-465b-ccb5-d0c0f2879daa"
      },
      "outputs": [
        {
          "output_type": "stream",
          "name": "stdout",
          "text": [
            "16/16 [==============================] - 26s 2s/step\n"
          ]
        }
      ],
      "source": [
        "import numpy as np\n",
        "\n",
        "test_generator.reset()\n",
        "y_pred = model.predict(test_generator)\n",
        "y_pred_classes = np.argmax(y_pred, axis=1)  # Convert predictions to class labels\n",
        "y_true = test_generator.classes  # True class labels from the generator"
      ]
    },
    {
      "cell_type": "code",
      "source": [
        "test_generator.reset()\n",
        "model.evaluate(test_generator)"
      ],
      "metadata": {
        "colab": {
          "base_uri": "https://localhost:8080/"
        },
        "id": "IipPFnyUA7uN",
        "outputId": "52b55d98-013b-4724-ebcb-67544e4aa297"
      },
      "id": "IipPFnyUA7uN",
      "execution_count": null,
      "outputs": [
        {
          "output_type": "stream",
          "name": "stdout",
          "text": [
            "16/16 [==============================] - 26s 2s/step - loss: 0.3019 - accuracy: 0.9210\n"
          ]
        },
        {
          "output_type": "execute_result",
          "data": {
            "text/plain": [
              "[0.3019477128982544, 0.9209979176521301]"
            ]
          },
          "metadata": {},
          "execution_count": 95
        }
      ]
    },
    {
      "cell_type": "code",
      "execution_count": null,
      "id": "cd5b6a05-1d6e-4d52-8ddd-4e4f7229843f",
      "metadata": {
        "colab": {
          "base_uri": "https://localhost:8080/",
          "height": 518
        },
        "id": "cd5b6a05-1d6e-4d52-8ddd-4e4f7229843f",
        "outputId": "42c0a7fd-c98d-4e87-fde3-0aaa10bb5a4b"
      },
      "outputs": [
        {
          "output_type": "display_data",
          "data": {
            "text/plain": [
              "<Figure size 640x480 with 2 Axes>"
            ],
            "image/png": "[encoded data removed]"
          },
          "metadata": {}
        }
      ],
      "source": [
        "from sklearn.metrics import confusion_matrix, ConfusionMatrixDisplay\n",
        "import matplotlib.pyplot as plt\n",
        "\n",
        "# Compute the confusion matrix\n",
        "conf_matrix = confusion_matrix(y_true, y_pred_classes)\n",
        "\n",
        "# Plot the confusion matrix\n",
        "class_names = sorted(os.listdir(train_dir))\n",
        "disp = ConfusionMatrixDisplay(confusion_matrix=conf_matrix, display_labels=class_names)\n",
        "disp.plot(cmap=plt.cm.Blues)\n",
        "plt.xticks(rotation=90)\n",
        "plt.title('Confusion Matrix')\n",
        "plt.show()"
      ]
    },
    {
      "cell_type": "markdown",
      "id": "dd99ab03-a43a-427d-ac3d-6cb4bf390d5a",
      "metadata": {
        "id": "dd99ab03-a43a-427d-ac3d-6cb4bf390d5a"
      },
      "source": [
        "In the next steps we want to see how the model changes if we augment the images to an extent:\n",
        "\n",
        "- Random flip\n",
        "- Random rotate\n",
        "- Random transition\n",
        "\n",
        "So lets see how different random types of data augmentation will change the results of the accuracy of the modelion\n"
      ]
    },
    {
      "cell_type": "code",
      "execution_count": null,
      "id": "7013703b-061e-4eae-acc0-403beae5705d",
      "metadata": {
        "id": "7013703b-061e-4eae-acc0-403beae5705d"
      },
      "outputs": [],
      "source": [
        "# Define different parameters for data augmentation\n",
        "augmentation_params = [\n",
        "    {\"horizontal_flip\": True},\n",
        "    {\"rotation_range\": 30},\n",
        "    {\"width_shift_range\": 0.2},\n",
        "    {\"height_shift_range\": 0.2},\n",
        "    {\"horizontal_flip\": True, \"rotation_range\": 30, \"width_shift_range\": 0.2},\n",
        "    {\"horizontal_flip\": True, \"rotation_range\": 30, \"height_shift_range\": 0.2},\n",
        "    {\"horizontal_flip\": True, \"width_shift_range\": 0.2, \"height_shift_range\": 0.2},\n",
        "]"
      ]
    },
    {
      "cell_type": "code",
      "execution_count": null,
      "id": "0e97d366-aec4-478e-adc7-c5c3a2d92eb4",
      "metadata": {
        "id": "0e97d366-aec4-478e-adc7-c5c3a2d92eb4"
      },
      "outputs": [],
      "source": [
        "# Image dimensions\n",
        "img_height, img_width = 224, 224\n",
        "batch_size = 32\n",
        "num_classes = len(os.listdir(train_dir))  # Number of classes"
      ]
    },
    {
      "cell_type": "code",
      "execution_count": null,
      "id": "40552486-b1e7-4712-9c5c-f6a189a90713",
      "metadata": {
        "colab": {
          "base_uri": "https://localhost:8080/"
        },
        "id": "40552486-b1e7-4712-9c5c-f6a189a90713",
        "outputId": "6ea0b62b-446d-4fbb-f4a4-a758d27e7404"
      },
      "outputs": [
        {
          "name": "stdout",
          "output_type": "stream",
          "text": [
            "Training model 1 with augmentation parameters: {'horizontal_flip': True}\n",
            "Found 1918 images belonging to 3 classes.\n",
            "Found 481 images belonging to 3 classes.\n",
            "Downloading data from https://storage.googleapis.com/tensorflow/keras-applications/resnet/resnet50_weights_tf_dim_ordering_tf_kernels_notop.h5\n",
            "94765736/94765736 [==============================] - 1s 0us/step\n",
            "Epoch 1/10\n",
            "60/60 [==============================] - ETA: 0s - loss: 0.5154 - accuracy: 0.7675\n",
            "Epoch 1: val_accuracy improved from -inf to 0.81081, saving model to drive/MyDrive/models/model_checkpoint_augmented_0.keras\n",
            "60/60 [==============================] - 228s 4s/step - loss: 0.5154 - accuracy: 0.7675 - val_loss: 0.4009 - val_accuracy: 0.8108\n",
            "Epoch 2/10\n",
            "60/60 [==============================] - ETA: 0s - loss: 0.3942 - accuracy: 0.8201\n",
            "Epoch 2: val_accuracy did not improve from 0.81081\n",
            "60/60 [==============================] - 21s 356ms/step - loss: 0.3942 - accuracy: 0.8201 - val_loss: 0.3672 - val_accuracy: 0.8108\n",
            "Epoch 3/10\n",
            "60/60 [==============================] - ETA: 0s - loss: 0.3649 - accuracy: 0.8431\n",
            "Epoch 3: val_accuracy improved from 0.81081 to 0.88358, saving model to drive/MyDrive/models/model_checkpoint_augmented_0.keras\n",
            "60/60 [==============================] - 23s 390ms/step - loss: 0.3649 - accuracy: 0.8431 - val_loss: 0.3479 - val_accuracy: 0.8836\n",
            "Epoch 4/10\n",
            "60/60 [==============================] - ETA: 0s - loss: 0.3499 - accuracy: 0.8644\n",
            "Epoch 4: val_accuracy improved from 0.88358 to 0.90852, saving model to drive/MyDrive/models/model_checkpoint_augmented_0.keras\n",
            "60/60 [==============================] - 22s 366ms/step - loss: 0.3499 - accuracy: 0.8644 - val_loss: 0.3419 - val_accuracy: 0.9085\n",
            "Epoch 5/10\n",
            "60/60 [==============================] - ETA: 0s - loss: 0.3419 - accuracy: 0.8670\n",
            "Epoch 5: val_accuracy improved from 0.90852 to 0.91060, saving model to drive/MyDrive/models/model_checkpoint_augmented_0.keras\n",
            "60/60 [==============================] - 24s 400ms/step - loss: 0.3419 - accuracy: 0.8670 - val_loss: 0.3282 - val_accuracy: 0.9106\n",
            "Epoch 6/10\n",
            "60/60 [==============================] - ETA: 0s - loss: 0.3291 - accuracy: 0.8973\n",
            "Epoch 6: val_accuracy did not improve from 0.91060\n",
            "60/60 [==============================] - 21s 359ms/step - loss: 0.3291 - accuracy: 0.8973 - val_loss: 0.3253 - val_accuracy: 0.8732\n",
            "Epoch 7/10\n",
            "60/60 [==============================] - ETA: 0s - loss: 0.3284 - accuracy: 0.8816\n",
            "Epoch 7: val_accuracy improved from 0.91060 to 0.91268, saving model to drive/MyDrive/models/model_checkpoint_augmented_0.keras\n",
            "60/60 [==============================] - 22s 376ms/step - loss: 0.3284 - accuracy: 0.8816 - val_loss: 0.3162 - val_accuracy: 0.9127\n",
            "Epoch 8/10\n",
            "60/60 [==============================] - ETA: 0s - loss: 0.3173 - accuracy: 0.9041\n",
            "Epoch 8: val_accuracy did not improve from 0.91268\n",
            "60/60 [==============================] - 21s 355ms/step - loss: 0.3173 - accuracy: 0.9041 - val_loss: 0.3226 - val_accuracy: 0.8732\n",
            "Epoch 9/10\n",
            "60/60 [==============================] - ETA: 0s - loss: 0.3133 - accuracy: 0.8989\n",
            "Epoch 9: val_accuracy improved from 0.91268 to 0.91892, saving model to drive/MyDrive/models/model_checkpoint_augmented_0.keras\n",
            "60/60 [==============================] - 22s 366ms/step - loss: 0.3133 - accuracy: 0.8989 - val_loss: 0.3073 - val_accuracy: 0.9189\n",
            "Epoch 10/10\n",
            "60/60 [==============================] - ETA: 0s - loss: 0.3093 - accuracy: 0.9015\n",
            "Epoch 10: val_accuracy did not improve from 0.91892\n",
            "60/60 [==============================] - 23s 391ms/step - loss: 0.3093 - accuracy: 0.9015 - val_loss: 0.3045 - val_accuracy: 0.9106\n",
            "16/16 [==============================] - 3s 178ms/step - loss: 0.3045 - accuracy: 0.9106\n",
            "Test loss: 0.30448174476623535\n",
            "Test accuracy: 0.9106029272079468\n",
            "Training model 2 with augmentation parameters: {'rotation_range': 30}\n",
            "Found 1918 images belonging to 3 classes.\n",
            "Found 481 images belonging to 3 classes.\n",
            "Epoch 1/10\n",
            "60/60 [==============================] - ETA: 0s - loss: 0.5827 - accuracy: 0.7555\n",
            "Epoch 1: val_accuracy improved from -inf to 0.81081, saving model to drive/MyDrive/models/model_checkpoint_augmented_1.keras\n",
            "60/60 [==============================] - 49s 769ms/step - loss: 0.5827 - accuracy: 0.7555 - val_loss: 0.4463 - val_accuracy: 0.8108\n",
            "Epoch 2/10\n",
            "60/60 [==============================] - ETA: 0s - loss: 0.4165 - accuracy: 0.8113\n",
            "Epoch 2: val_accuracy did not improve from 0.81081\n",
            "60/60 [==============================] - 44s 733ms/step - loss: 0.4165 - accuracy: 0.8113 - val_loss: 0.4026 - val_accuracy: 0.8108\n",
            "Epoch 3/10\n",
            "60/60 [==============================] - ETA: 0s - loss: 0.3871 - accuracy: 0.8133\n",
            "Epoch 3: val_accuracy did not improve from 0.81081\n",
            "60/60 [==============================] - 42s 694ms/step - loss: 0.3871 - accuracy: 0.8133 - val_loss: 0.3706 - val_accuracy: 0.8108\n",
            "Epoch 4/10\n",
            "60/60 [==============================] - ETA: 0s - loss: 0.3703 - accuracy: 0.8337\n",
            "Epoch 4: val_accuracy improved from 0.81081 to 0.90229, saving model to drive/MyDrive/models/model_checkpoint_augmented_1.keras\n",
            "60/60 [==============================] - 45s 750ms/step - loss: 0.3703 - accuracy: 0.8337 - val_loss: 0.3640 - val_accuracy: 0.9023\n",
            "Epoch 5/10\n",
            "60/60 [==============================] - ETA: 0s - loss: 0.3549 - accuracy: 0.8540\n",
            "Epoch 5: val_accuracy did not improve from 0.90229\n",
            "60/60 [==============================] - 44s 738ms/step - loss: 0.3549 - accuracy: 0.8540 - val_loss: 0.3485 - val_accuracy: 0.8191\n",
            "Epoch 6/10\n",
            "60/60 [==============================] - ETA: 0s - loss: 0.3464 - accuracy: 0.8717\n",
            "Epoch 6: val_accuracy did not improve from 0.90229\n",
            "60/60 [==============================] - 42s 706ms/step - loss: 0.3464 - accuracy: 0.8717 - val_loss: 0.3368 - val_accuracy: 0.9002\n",
            "Epoch 7/10\n",
            "60/60 [==============================] - ETA: 0s - loss: 0.3364 - accuracy: 0.8848\n",
            "Epoch 7: val_accuracy did not improve from 0.90229\n",
            "60/60 [==============================] - 41s 689ms/step - loss: 0.3364 - accuracy: 0.8848 - val_loss: 0.3347 - val_accuracy: 0.8711\n",
            "Epoch 8/10\n",
            "60/60 [==============================] - ETA: 0s - loss: 0.3328 - accuracy: 0.8910\n",
            "Epoch 8: val_accuracy did not improve from 0.90229\n",
            "60/60 [==============================] - 43s 718ms/step - loss: 0.3328 - accuracy: 0.8910 - val_loss: 0.3284 - val_accuracy: 0.9002\n",
            "Epoch 9/10\n",
            "60/60 [==============================] - ETA: 0s - loss: 0.3259 - accuracy: 0.8827\n",
            "Epoch 9: val_accuracy did not improve from 0.90229\n",
            "60/60 [==============================] - 44s 739ms/step - loss: 0.3259 - accuracy: 0.8827 - val_loss: 0.3330 - val_accuracy: 0.8898\n",
            "Epoch 10/10\n",
            "60/60 [==============================] - ETA: 0s - loss: 0.3249 - accuracy: 0.8942\n",
            "Epoch 10: val_accuracy did not improve from 0.90229\n",
            "60/60 [==============================] - 43s 728ms/step - loss: 0.3249 - accuracy: 0.8942 - val_loss: 0.3339 - val_accuracy: 0.8399\n",
            "16/16 [==============================] - 2s 149ms/step - loss: 0.3339 - accuracy: 0.8399\n",
            "Test loss: 0.3339140713214874\n",
            "Test accuracy: 0.8399168252944946\n",
            "Training model 3 with augmentation parameters: {'width_shift_range': 0.2}\n",
            "Found 1918 images belonging to 3 classes.\n",
            "Found 481 images belonging to 3 classes.\n",
            "Epoch 1/10\n",
            "60/60 [==============================] - ETA: 0s - loss: 0.4600 - accuracy: 0.8113\n",
            "Epoch 1: val_accuracy improved from -inf to 0.81081, saving model to drive/MyDrive/models/model_checkpoint_augmented_2.keras\n",
            "60/60 [==============================] - 49s 755ms/step - loss: 0.4600 - accuracy: 0.8113 - val_loss: 0.3951 - val_accuracy: 0.8108\n",
            "Epoch 2/10\n",
            "60/60 [==============================] - ETA: 0s - loss: 0.3910 - accuracy: 0.8170\n",
            "Epoch 2: val_accuracy did not improve from 0.81081\n",
            "60/60 [==============================] - 41s 678ms/step - loss: 0.3910 - accuracy: 0.8170 - val_loss: 0.3611 - val_accuracy: 0.8108\n",
            "Epoch 3/10\n",
            "60/60 [==============================] - ETA: 0s - loss: 0.3744 - accuracy: 0.8399\n",
            "Epoch 3: val_accuracy did not improve from 0.81081\n",
            "60/60 [==============================] - 43s 725ms/step - loss: 0.3744 - accuracy: 0.8399 - val_loss: 0.3476 - val_accuracy: 0.8108\n",
            "Epoch 4/10\n",
            "60/60 [==============================] - ETA: 0s - loss: 0.3585 - accuracy: 0.8545\n",
            "Epoch 4: val_accuracy improved from 0.81081 to 0.81705, saving model to drive/MyDrive/models/model_checkpoint_augmented_2.keras\n",
            "60/60 [==============================] - 43s 726ms/step - loss: 0.3585 - accuracy: 0.8545 - val_loss: 0.3396 - val_accuracy: 0.8170\n",
            "Epoch 5/10\n",
            "60/60 [==============================] - ETA: 0s - loss: 0.3499 - accuracy: 0.8655\n",
            "Epoch 5: val_accuracy improved from 0.81705 to 0.89605, saving model to drive/MyDrive/models/model_checkpoint_augmented_2.keras\n",
            "60/60 [==============================] - 42s 709ms/step - loss: 0.3499 - accuracy: 0.8655 - val_loss: 0.3334 - val_accuracy: 0.8960\n",
            "Epoch 6/10\n",
            "60/60 [==============================] - ETA: 0s - loss: 0.3436 - accuracy: 0.8691\n",
            "Epoch 6: val_accuracy did not improve from 0.89605\n",
            "60/60 [==============================] - 43s 716ms/step - loss: 0.3436 - accuracy: 0.8691 - val_loss: 0.3235 - val_accuracy: 0.8794\n",
            "Epoch 7/10\n",
            "60/60 [==============================] - ETA: 0s - loss: 0.3317 - accuracy: 0.8816\n",
            "Epoch 7: val_accuracy improved from 0.89605 to 0.90021, saving model to drive/MyDrive/models/model_checkpoint_augmented_2.keras\n",
            "60/60 [==============================] - 43s 711ms/step - loss: 0.3317 - accuracy: 0.8816 - val_loss: 0.3185 - val_accuracy: 0.9002\n",
            "Epoch 8/10\n",
            "60/60 [==============================] - ETA: 0s - loss: 0.3270 - accuracy: 0.8889\n",
            "Epoch 8: val_accuracy improved from 0.90021 to 0.91892, saving model to drive/MyDrive/models/model_checkpoint_augmented_2.keras\n",
            "60/60 [==============================] - 43s 719ms/step - loss: 0.3270 - accuracy: 0.8889 - val_loss: 0.3106 - val_accuracy: 0.9189\n",
            "Epoch 9/10\n",
            "60/60 [==============================] - ETA: 0s - loss: 0.3262 - accuracy: 0.8884\n",
            "Epoch 9: val_accuracy did not improve from 0.91892\n",
            "60/60 [==============================] - 45s 746ms/step - loss: 0.3262 - accuracy: 0.8884 - val_loss: 0.3138 - val_accuracy: 0.8919\n",
            "Epoch 10/10\n",
            "60/60 [==============================] - ETA: 0s - loss: 0.3140 - accuracy: 0.9004\n",
            "Epoch 10: val_accuracy improved from 0.91892 to 0.92100, saving model to drive/MyDrive/models/model_checkpoint_augmented_2.keras\n",
            "60/60 [==============================] - 42s 708ms/step - loss: 0.3140 - accuracy: 0.9004 - val_loss: 0.3054 - val_accuracy: 0.9210\n",
            "16/16 [==============================] - 3s 200ms/step - loss: 0.3054 - accuracy: 0.9210\n",
            "Test loss: 0.30540984869003296\n",
            "Test accuracy: 0.9209979176521301\n",
            "Training model 4 with augmentation parameters: {'height_shift_range': 0.2}\n",
            "Found 1918 images belonging to 3 classes.\n",
            "Found 481 images belonging to 3 classes.\n",
            "Epoch 1/10\n",
            "60/60 [==============================] - ETA: 0s - loss: 0.5330 - accuracy: 0.7690\n",
            "Epoch 1: val_accuracy improved from -inf to 0.81081, saving model to drive/MyDrive/models/model_checkpoint_augmented_3.keras\n",
            "60/60 [==============================] - 50s 785ms/step - loss: 0.5330 - accuracy: 0.7690 - val_loss: 0.4324 - val_accuracy: 0.8108\n",
            "Epoch 2/10\n",
            "60/60 [==============================] - ETA: 0s - loss: 0.3960 - accuracy: 0.8165\n",
            "Epoch 2: val_accuracy improved from 0.81081 to 0.88773, saving model to drive/MyDrive/models/model_checkpoint_augmented_3.keras\n",
            "60/60 [==============================] - 44s 744ms/step - loss: 0.3960 - accuracy: 0.8165 - val_loss: 0.3769 - val_accuracy: 0.8877\n",
            "Epoch 3/10\n",
            "60/60 [==============================] - ETA: 0s - loss: 0.3737 - accuracy: 0.8326\n",
            "Epoch 3: val_accuracy did not improve from 0.88773\n",
            "60/60 [==============================] - 42s 696ms/step - loss: 0.3737 - accuracy: 0.8326 - val_loss: 0.3497 - val_accuracy: 0.8420\n",
            "Epoch 4/10\n",
            "60/60 [==============================] - ETA: 0s - loss: 0.3616 - accuracy: 0.8519\n",
            "Epoch 4: val_accuracy did not improve from 0.88773\n",
            "60/60 [==============================] - 43s 722ms/step - loss: 0.3616 - accuracy: 0.8519 - val_loss: 0.3380 - val_accuracy: 0.8794\n",
            "Epoch 5/10\n",
            "60/60 [==============================] - ETA: 0s - loss: 0.3513 - accuracy: 0.8686\n",
            "Epoch 5: val_accuracy improved from 0.88773 to 0.89813, saving model to drive/MyDrive/models/model_checkpoint_augmented_3.keras\n",
            "60/60 [==============================] - 45s 755ms/step - loss: 0.3513 - accuracy: 0.8686 - val_loss: 0.3369 - val_accuracy: 0.8981\n",
            "Epoch 6/10\n",
            "60/60 [==============================] - ETA: 0s - loss: 0.3463 - accuracy: 0.8618\n",
            "Epoch 6: val_accuracy improved from 0.89813 to 0.91476, saving model to drive/MyDrive/models/model_checkpoint_augmented_3.keras\n",
            "60/60 [==============================] - 43s 708ms/step - loss: 0.3463 - accuracy: 0.8618 - val_loss: 0.3241 - val_accuracy: 0.9148\n",
            "Epoch 7/10\n",
            "60/60 [==============================] - ETA: 0s - loss: 0.3451 - accuracy: 0.8707\n",
            "Epoch 7: val_accuracy improved from 0.91476 to 0.91684, saving model to drive/MyDrive/models/model_checkpoint_augmented_3.keras\n",
            "60/60 [==============================] - 47s 786ms/step - loss: 0.3451 - accuracy: 0.8707 - val_loss: 0.3177 - val_accuracy: 0.9168\n",
            "Epoch 8/10\n",
            "60/60 [==============================] - ETA: 0s - loss: 0.3302 - accuracy: 0.8957\n",
            "Epoch 8: val_accuracy did not improve from 0.91684\n",
            "60/60 [==============================] - 43s 713ms/step - loss: 0.3302 - accuracy: 0.8957 - val_loss: 0.3180 - val_accuracy: 0.9023\n",
            "Epoch 9/10\n",
            "60/60 [==============================] - ETA: 0s - loss: 0.3237 - accuracy: 0.8858\n",
            "Epoch 9: val_accuracy improved from 0.91684 to 0.91892, saving model to drive/MyDrive/models/model_checkpoint_augmented_3.keras\n",
            "60/60 [==============================] - 44s 737ms/step - loss: 0.3237 - accuracy: 0.8858 - val_loss: 0.3096 - val_accuracy: 0.9189\n",
            "Epoch 10/10\n",
            "60/60 [==============================] - ETA: 0s - loss: 0.3202 - accuracy: 0.8957\n",
            "Epoch 10: val_accuracy did not improve from 0.91892\n",
            "60/60 [==============================] - 45s 754ms/step - loss: 0.3202 - accuracy: 0.8957 - val_loss: 0.3197 - val_accuracy: 0.8711\n",
            "16/16 [==============================] - 3s 158ms/step - loss: 0.3197 - accuracy: 0.8711\n",
            "Test loss: 0.3197266459465027\n",
            "Test accuracy: 0.8711018562316895\n",
            "Training model 5 with augmentation parameters: {'horizontal_flip': True, 'rotation_range': 30, 'width_shift_range': 0.2}\n",
            "Found 1918 images belonging to 3 classes.\n",
            "Found 481 images belonging to 3 classes.\n",
            "Epoch 1/10\n",
            "60/60 [==============================] - ETA: 0s - loss: 0.4766 - accuracy: 0.8113\n",
            "Epoch 1: val_accuracy improved from -inf to 0.81081, saving model to drive/MyDrive/models/model_checkpoint_augmented_4.keras\n",
            "60/60 [==============================] - 50s 771ms/step - loss: 0.4766 - accuracy: 0.8113 - val_loss: 0.4076 - val_accuracy: 0.8108\n",
            "Epoch 2/10\n",
            "60/60 [==============================] - ETA: 0s - loss: 0.4056 - accuracy: 0.8139\n",
            "Epoch 2: val_accuracy did not improve from 0.81081\n",
            "60/60 [==============================] - 43s 726ms/step - loss: 0.4056 - accuracy: 0.8139 - val_loss: 0.3706 - val_accuracy: 0.8108\n",
            "Epoch 3/10\n",
            "60/60 [==============================] - ETA: 0s - loss: 0.3754 - accuracy: 0.8347\n",
            "Epoch 3: val_accuracy improved from 0.81081 to 0.91060, saving model to drive/MyDrive/models/model_checkpoint_augmented_4.keras\n",
            "60/60 [==============================] - 46s 775ms/step - loss: 0.3754 - accuracy: 0.8347 - val_loss: 0.3552 - val_accuracy: 0.9106\n",
            "Epoch 4/10\n",
            "60/60 [==============================] - ETA: 0s - loss: 0.3582 - accuracy: 0.8582\n",
            "Epoch 4: val_accuracy did not improve from 0.91060\n",
            "60/60 [==============================] - 43s 720ms/step - loss: 0.3582 - accuracy: 0.8582 - val_loss: 0.3428 - val_accuracy: 0.8960\n",
            "Epoch 5/10\n",
            "60/60 [==============================] - ETA: 0s - loss: 0.3492 - accuracy: 0.8697\n",
            "Epoch 5: val_accuracy improved from 0.91060 to 0.91268, saving model to drive/MyDrive/models/model_checkpoint_augmented_4.keras\n",
            "60/60 [==============================] - 44s 744ms/step - loss: 0.3492 - accuracy: 0.8697 - val_loss: 0.3352 - val_accuracy: 0.9127\n",
            "Epoch 6/10\n",
            "60/60 [==============================] - ETA: 0s - loss: 0.3465 - accuracy: 0.8743\n",
            "Epoch 6: val_accuracy did not improve from 0.91268\n",
            "60/60 [==============================] - 45s 761ms/step - loss: 0.3465 - accuracy: 0.8743 - val_loss: 0.3296 - val_accuracy: 0.9002\n",
            "Epoch 7/10\n",
            "60/60 [==============================] - ETA: 0s - loss: 0.3399 - accuracy: 0.8832\n",
            "Epoch 7: val_accuracy did not improve from 0.91268\n",
            "60/60 [==============================] - 43s 711ms/step - loss: 0.3399 - accuracy: 0.8832 - val_loss: 0.3254 - val_accuracy: 0.9127\n",
            "Epoch 8/10\n",
            "60/60 [==============================] - ETA: 0s - loss: 0.3335 - accuracy: 0.8884\n",
            "Epoch 8: val_accuracy did not improve from 0.91268\n",
            "60/60 [==============================] - 46s 759ms/step - loss: 0.3335 - accuracy: 0.8884 - val_loss: 0.3228 - val_accuracy: 0.9023\n",
            "Epoch 9/10\n",
            "60/60 [==============================] - ETA: 0s - loss: 0.3280 - accuracy: 0.8921\n",
            "Epoch 9: val_accuracy did not improve from 0.91268\n",
            "60/60 [==============================] - 44s 742ms/step - loss: 0.3280 - accuracy: 0.8921 - val_loss: 0.3234 - val_accuracy: 0.8940\n",
            "Epoch 10/10\n",
            "60/60 [==============================] - ETA: 0s - loss: 0.3258 - accuracy: 0.8910\n",
            "Epoch 10: val_accuracy did not improve from 0.91268\n",
            "60/60 [==============================] - 45s 753ms/step - loss: 0.3258 - accuracy: 0.8910 - val_loss: 0.3214 - val_accuracy: 0.8940\n",
            "16/16 [==============================] - 3s 152ms/step - loss: 0.3214 - accuracy: 0.8940\n",
            "Test loss: 0.32141345739364624\n",
            "Test accuracy: 0.8939709067344666\n",
            "Training model 6 with augmentation parameters: {'horizontal_flip': True, 'rotation_range': 30, 'height_shift_range': 0.2}\n",
            "Found 1918 images belonging to 3 classes.\n",
            "Found 481 images belonging to 3 classes.\n",
            "Epoch 1/10\n",
            "60/60 [==============================] - ETA: 0s - loss: 0.5807 - accuracy: 0.7654\n",
            "Epoch 1: val_accuracy improved from -inf to 0.81081, saving model to drive/MyDrive/models/model_checkpoint_augmented_5.keras\n",
            "60/60 [==============================] - 49s 766ms/step - loss: 0.5807 - accuracy: 0.7654 - val_loss: 0.4567 - val_accuracy: 0.8108\n",
            "Epoch 2/10\n",
            "60/60 [==============================] - ETA: 0s - loss: 0.4370 - accuracy: 0.8113\n",
            "Epoch 2: val_accuracy did not improve from 0.81081\n",
            "60/60 [==============================] - 44s 741ms/step - loss: 0.4370 - accuracy: 0.8113 - val_loss: 0.4157 - val_accuracy: 0.8108\n",
            "Epoch 3/10\n",
            "60/60 [==============================] - ETA: 0s - loss: 0.3963 - accuracy: 0.8113\n",
            "Epoch 3: val_accuracy did not improve from 0.81081\n",
            "60/60 [==============================] - 47s 786ms/step - loss: 0.3963 - accuracy: 0.8113 - val_loss: 0.3770 - val_accuracy: 0.8108\n",
            "Epoch 4/10\n",
            "60/60 [==============================] - ETA: 0s - loss: 0.3801 - accuracy: 0.8227\n",
            "Epoch 4: val_accuracy improved from 0.81081 to 0.83992, saving model to drive/MyDrive/models/model_checkpoint_augmented_5.keras\n",
            "60/60 [==============================] - 46s 764ms/step - loss: 0.3801 - accuracy: 0.8227 - val_loss: 0.3608 - val_accuracy: 0.8399\n",
            "Epoch 5/10\n",
            "60/60 [==============================] - ETA: 0s - loss: 0.3607 - accuracy: 0.8399\n",
            "Epoch 5: val_accuracy improved from 0.83992 to 0.86902, saving model to drive/MyDrive/models/model_checkpoint_augmented_5.keras\n",
            "60/60 [==============================] - 48s 793ms/step - loss: 0.3607 - accuracy: 0.8399 - val_loss: 0.3483 - val_accuracy: 0.8690\n",
            "Epoch 6/10\n",
            "60/60 [==============================] - ETA: 0s - loss: 0.3633 - accuracy: 0.8613\n",
            "Epoch 6: val_accuracy did not improve from 0.86902\n",
            "60/60 [==============================] - 43s 727ms/step - loss: 0.3633 - accuracy: 0.8613 - val_loss: 0.3420 - val_accuracy: 0.8690\n",
            "Epoch 7/10\n",
            "60/60 [==============================] - ETA: 0s - loss: 0.3511 - accuracy: 0.8639\n",
            "Epoch 7: val_accuracy improved from 0.86902 to 0.89397, saving model to drive/MyDrive/models/model_checkpoint_augmented_5.keras\n",
            "60/60 [==============================] - 46s 764ms/step - loss: 0.3511 - accuracy: 0.8639 - val_loss: 0.3339 - val_accuracy: 0.8940\n",
            "Epoch 8/10\n",
            "60/60 [==============================] - ETA: 0s - loss: 0.3437 - accuracy: 0.8775\n",
            "Epoch 8: val_accuracy improved from 0.89397 to 0.90437, saving model to drive/MyDrive/models/model_checkpoint_augmented_5.keras\n",
            "60/60 [==============================] - 45s 748ms/step - loss: 0.3437 - accuracy: 0.8775 - val_loss: 0.3331 - val_accuracy: 0.9044\n",
            "Epoch 9/10\n",
            "60/60 [==============================] - ETA: 0s - loss: 0.3361 - accuracy: 0.8822\n",
            "Epoch 9: val_accuracy improved from 0.90437 to 0.90644, saving model to drive/MyDrive/models/model_checkpoint_augmented_5.keras\n",
            "60/60 [==============================] - 47s 794ms/step - loss: 0.3361 - accuracy: 0.8822 - val_loss: 0.3280 - val_accuracy: 0.9064\n",
            "Epoch 10/10\n",
            "60/60 [==============================] - ETA: 0s - loss: 0.3281 - accuracy: 0.8863\n",
            "Epoch 10: val_accuracy did not improve from 0.90644\n",
            "60/60 [==============================] - 46s 769ms/step - loss: 0.3281 - accuracy: 0.8863 - val_loss: 0.3335 - val_accuracy: 0.8690\n",
            "16/16 [==============================] - 2s 145ms/step - loss: 0.3335 - accuracy: 0.8690\n",
            "Test loss: 0.3335001468658447\n",
            "Test accuracy: 0.8690228462219238\n",
            "Training model 7 with augmentation parameters: {'horizontal_flip': True, 'width_shift_range': 0.2, 'height_shift_range': 0.2}\n",
            "Found 1918 images belonging to 3 classes.\n",
            "Found 481 images belonging to 3 classes.\n",
            "Epoch 1/10\n",
            "60/60 [==============================] - ETA: 0s - loss: 0.4914 - accuracy: 0.8113\n",
            "Epoch 1: val_accuracy improved from -inf to 0.81081, saving model to drive/MyDrive/models/model_checkpoint_augmented_6.keras\n",
            "60/60 [==============================] - 50s 746ms/step - loss: 0.4914 - accuracy: 0.8113 - val_loss: 0.4079 - val_accuracy: 0.8108\n",
            "Epoch 2/10\n",
            "60/60 [==============================] - ETA: 0s - loss: 0.4008 - accuracy: 0.8128\n",
            "Epoch 2: val_accuracy did not improve from 0.81081\n",
            "60/60 [==============================] - 47s 783ms/step - loss: 0.4008 - accuracy: 0.8128 - val_loss: 0.3678 - val_accuracy: 0.8108\n",
            "Epoch 3/10\n",
            "60/60 [==============================] - ETA: 0s - loss: 0.3805 - accuracy: 0.8295\n",
            "Epoch 3: val_accuracy improved from 0.81081 to 0.81497, saving model to drive/MyDrive/models/model_checkpoint_augmented_6.keras\n",
            "60/60 [==============================] - 45s 751ms/step - loss: 0.3805 - accuracy: 0.8295 - val_loss: 0.3502 - val_accuracy: 0.8150\n",
            "Epoch 4/10\n",
            "60/60 [==============================] - ETA: 0s - loss: 0.3735 - accuracy: 0.8457\n",
            "Epoch 4: val_accuracy did not improve from 0.81497\n",
            "60/60 [==============================] - 45s 749ms/step - loss: 0.3735 - accuracy: 0.8457 - val_loss: 0.3446 - val_accuracy: 0.8150\n",
            "Epoch 5/10\n",
            "60/60 [==============================] - ETA: 0s - loss: 0.3532 - accuracy: 0.8691\n",
            "Epoch 5: val_accuracy improved from 0.81497 to 0.86902, saving model to drive/MyDrive/models/model_checkpoint_augmented_6.keras\n",
            "60/60 [==============================] - 44s 735ms/step - loss: 0.3532 - accuracy: 0.8691 - val_loss: 0.3321 - val_accuracy: 0.8690\n",
            "Epoch 6/10\n",
            "60/60 [==============================] - ETA: 0s - loss: 0.3459 - accuracy: 0.8837\n",
            "Epoch 6: val_accuracy improved from 0.86902 to 0.87734, saving model to drive/MyDrive/models/model_checkpoint_augmented_6.keras\n",
            "60/60 [==============================] - 44s 738ms/step - loss: 0.3459 - accuracy: 0.8837 - val_loss: 0.3280 - val_accuracy: 0.8773\n",
            "Epoch 7/10\n",
            "60/60 [==============================] - ETA: 0s - loss: 0.3418 - accuracy: 0.8858\n",
            "Epoch 7: val_accuracy did not improve from 0.87734\n",
            "60/60 [==============================] - 45s 750ms/step - loss: 0.3418 - accuracy: 0.8858 - val_loss: 0.3304 - val_accuracy: 0.8503\n",
            "Epoch 8/10\n",
            "60/60 [==============================] - ETA: 0s - loss: 0.3433 - accuracy: 0.8681\n",
            "Epoch 8: val_accuracy did not improve from 0.87734\n",
            "60/60 [==============================] - 42s 699ms/step - loss: 0.3433 - accuracy: 0.8681 - val_loss: 0.3240 - val_accuracy: 0.8711\n",
            "Epoch 9/10\n",
            "60/60 [==============================] - ETA: 0s - loss: 0.3368 - accuracy: 0.8822\n",
            "Epoch 9: val_accuracy improved from 0.87734 to 0.89605, saving model to drive/MyDrive/models/model_checkpoint_augmented_6.keras\n",
            "60/60 [==============================] - 43s 722ms/step - loss: 0.3368 - accuracy: 0.8822 - val_loss: 0.3152 - val_accuracy: 0.8960\n",
            "Epoch 10/10\n",
            "60/60 [==============================] - ETA: 0s - loss: 0.3284 - accuracy: 0.8874\n",
            "Epoch 10: val_accuracy improved from 0.89605 to 0.92308, saving model to drive/MyDrive/models/model_checkpoint_augmented_6.keras\n",
            "60/60 [==============================] - 48s 811ms/step - loss: 0.3284 - accuracy: 0.8874 - val_loss: 0.3064 - val_accuracy: 0.9231\n",
            "16/16 [==============================] - 3s 186ms/step - loss: 0.3064 - accuracy: 0.9231\n",
            "Test loss: 0.3064116835594177\n",
            "Test accuracy: 0.9230769276618958\n"
          ]
        }
      ],
      "source": [
        "# Train models with different augmentation parameters\n",
        "for i, params in enumerate(augmentation_params):\n",
        "    print(f\"Training model {i+1} with augmentation parameters: {params}\")\n",
        "\n",
        "    # Data augmentation for training data\n",
        "    train_datagen = ImageDataGenerator(\n",
        "        rescale=1./255,\n",
        "        **params\n",
        "    )\n",
        "\n",
        "    # Data normalization for testing data\n",
        "    test_datagen = ImageDataGenerator(rescale=1./255)\n",
        "\n",
        "    # Prepare data generators\n",
        "    train_generator = train_datagen.flow_from_directory(\n",
        "        train_dir,\n",
        "        target_size=(img_height, img_width),\n",
        "        batch_size=batch_size,\n",
        "        class_mode='categorical'\n",
        "    )\n",
        "\n",
        "    test_generator = test_datagen.flow_from_directory(\n",
        "        test_dir,\n",
        "        target_size=(img_height, img_width),\n",
        "        batch_size=batch_size,\n",
        "        class_mode='categorical'\n",
        "    )\n",
        "\n",
        "    # Load pre-trained ResNet50 model\n",
        "    base_model = ResNet50(weights='imagenet', include_top=False)\n",
        "\n",
        "    # Global average pooling and output layer\n",
        "    x = GlobalAveragePooling2D()(base_model.output)\n",
        "    output = Dense(num_classes, activation='softmax')(x)\n",
        "\n",
        "    # Construct the model\n",
        "    model = Model(inputs=base_model.input, outputs=output)\n",
        "\n",
        "    # Freeze the base ResNet50 layers\n",
        "    for layer in base_model.layers:\n",
        "        layer.trainable = False\n",
        "\n",
        "    # Compile the model\n",
        "    model.compile(optimizer=Adam(), loss='categorical_crossentropy', metrics=['accuracy'])\n",
        "\n",
        "    # Define callbacks\n",
        "    checkpoint = ModelCheckpoint(f\"drive/MyDrive/ComputerVision/models/model_checkpoint_augmented_{i}.keras\", monitor='val_accuracy', verbose=1, save_best_only=True, mode='max')\n",
        "    early_stopping = EarlyStopping(monitor='val_loss', patience=3, verbose=1, restore_best_weights=True)\n",
        "    tensorboard = TensorBoard(log_dir=f\"logs_augmented_{i}\", histogram_freq=1)\n",
        "\n",
        "    # Train the model with data augmentation\n",
        "    history = model.fit(\n",
        "        train_generator,\n",
        "        epochs=10,\n",
        "        validation_data=test_generator,\n",
        "        callbacks=[checkpoint, early_stopping, tensorboard]\n",
        "    )\n",
        "\n",
        "    # Evaluate the model on test set\n",
        "    test_loss, test_accuracy = model.evaluate(test_generator)\n",
        "    print(\"Test loss:\", test_loss)\n",
        "    print(\"Test accuracy:\", test_accuracy)"
      ]
    },
    {
      "cell_type": "code",
      "execution_count": null,
      "id": "bb35dda4-a5ef-4bfe-b4bf-03368f1dec19",
      "metadata": {
        "colab": {
          "base_uri": "https://localhost:8080/",
          "height": 1000
        },
        "id": "bb35dda4-a5ef-4bfe-b4bf-03368f1dec19",
        "outputId": "20683a4f-a65f-4ff8-a838-a6c1c7c8621f"
      },
      "outputs": [
        {
          "output_type": "stream",
          "name": "stdout",
          "text": [
            "Model: drive/MyDrive/ComputerVision/models/model_checkpoint_augmented_0.keras\n",
            "Number of parameters of the model: 23593859\n",
            "16/16 [==============================] - 210s 14s/step - loss: 0.3073 - accuracy: 0.9189\n",
            "Test loss: 0.3072587847709656\n",
            "Test accuracy: 0.9189189076423645\n",
            "16/16 [==============================] - 26s 2s/step\n"
          ]
        },
        {
          "output_type": "display_data",
          "data": {
            "text/plain": [
              "<Figure size 640x480 with 2 Axes>"
            ],
            "image/png": "[encoded data removed]"
          },
          "metadata": {}
        },
        {
          "output_type": "stream",
          "name": "stdout",
          "text": [
            "Model: drive/MyDrive/ComputerVision/models/model_checkpoint_augmented_1.keras\n",
            "Number of parameters of the model: 23593859\n",
            "16/16 [==============================] - 27s 1s/step - loss: 0.3640 - accuracy: 0.9023\n",
            "Test loss: 0.3639596998691559\n",
            "Test accuracy: 0.9022868871688843\n",
            "16/16 [==============================] - 26s 2s/step\n"
          ]
        },
        {
          "output_type": "display_data",
          "data": {
            "text/plain": [
              "<Figure size 640x480 with 2 Axes>"
            ],
            "image/png": "[encoded data removed]"
          },
          "metadata": {}
        },
        {
          "output_type": "stream",
          "name": "stdout",
          "text": [
            "Model: drive/MyDrive/ComputerVision/models/model_checkpoint_augmented_2.keras\n",
            "Number of parameters of the model: 23593859\n",
            "16/16 [==============================] - 26s 1s/step - loss: 0.3054 - accuracy: 0.9210\n",
            "Test loss: 0.3054099380970001\n",
            "Test accuracy: 0.9209979176521301\n",
            "16/16 [==============================] - 27s 2s/step\n"
          ]
        },
        {
          "output_type": "display_data",
          "data": {
            "text/plain": [
              "<Figure size 640x480 with 2 Axes>"
            ],
            "image/png": "[encoded data removed]"
          },
          "metadata": {}
        },
        {
          "output_type": "stream",
          "name": "stdout",
          "text": [
            "Model: drive/MyDrive/ComputerVision/models/model_checkpoint_augmented_3.keras\n",
            "Number of parameters of the model: 23593859\n",
            "16/16 [==============================] - 27s 2s/step - loss: 0.3096 - accuracy: 0.9189\n",
            "Test loss: 0.3096306622028351\n",
            "Test accuracy: 0.9189189076423645\n",
            "16/16 [==============================] - 26s 2s/step\n"
          ]
        },
        {
          "output_type": "display_data",
          "data": {
            "text/plain": [
              "<Figure size 640x480 with 2 Axes>"
            ],
            "image/png": "[encoded data removed]"
          },
          "metadata": {}
        },
        {
          "output_type": "stream",
          "name": "stdout",
          "text": [
            "Model: drive/MyDrive/ComputerVision/models/model_checkpoint_augmented_4.keras\n",
            "Number of parameters of the model: 23593859\n",
            "16/16 [==============================] - 27s 2s/step - loss: 0.3352 - accuracy: 0.9127\n",
            "Test loss: 0.3352212905883789\n",
            "Test accuracy: 0.9126819372177124\n",
            "16/16 [==============================] - 26s 2s/step\n"
          ]
        },
        {
          "output_type": "display_data",
          "data": {
            "text/plain": [
              "<Figure size 640x480 with 2 Axes>"
            ],
            "image/png": "[encoded data removed]"
          },
          "metadata": {}
        },
        {
          "output_type": "stream",
          "name": "stdout",
          "text": [
            "Model: drive/MyDrive/ComputerVision/models/model_checkpoint_augmented_5.keras\n",
            "Number of parameters of the model: 23593859\n",
            " 6/16 [==========>...................] - ETA: 15s - loss: 0.3376 - accuracy: 0.8906"
          ]
        },
        {
          "output_type": "error",
          "ename": "KeyboardInterrupt",
          "evalue": "",
          "traceback": [
            "\u001b[0;31m---------------------------------------------------------------------------\u001b[0m",
            "\u001b[0;31mKeyboardInterrupt\u001b[0m                         Traceback (most recent call last)",
            "\u001b[0;32m<ipython-input-85-0e3de9afd931>\u001b[0m in \u001b[0;36m<cell line: 1>\u001b[0;34m()\u001b[0m\n\u001b[1;32m     11\u001b[0m \u001b[0;34m\u001b[0m\u001b[0m\n\u001b[1;32m     12\u001b[0m     \u001b[0;31m# check the test accuracy\u001b[0m\u001b[0;34m\u001b[0m\u001b[0;34m\u001b[0m\u001b[0m\n\u001b[0;32m---> 13\u001b[0;31m     \u001b[0mtest_loss\u001b[0m\u001b[0;34m,\u001b[0m \u001b[0mtest_accuracy\u001b[0m \u001b[0;34m=\u001b[0m \u001b[0mmodel\u001b[0m\u001b[0;34m.\u001b[0m\u001b[0mevaluate\u001b[0m\u001b[0;34m(\u001b[0m\u001b[0mtest_generator\u001b[0m\u001b[0;34m)\u001b[0m\u001b[0;34m\u001b[0m\u001b[0;34m\u001b[0m\u001b[0m\n\u001b[0m\u001b[1;32m     14\u001b[0m     \u001b[0mprint\u001b[0m\u001b[0;34m(\u001b[0m\u001b[0;34m\"Test loss:\"\u001b[0m\u001b[0;34m,\u001b[0m \u001b[0mtest_loss\u001b[0m\u001b[0;34m)\u001b[0m\u001b[0;34m\u001b[0m\u001b[0;34m\u001b[0m\u001b[0m\n\u001b[1;32m     15\u001b[0m     \u001b[0mprint\u001b[0m\u001b[0;34m(\u001b[0m\u001b[0;34m\"Test accuracy:\"\u001b[0m\u001b[0;34m,\u001b[0m \u001b[0mtest_accuracy\u001b[0m\u001b[0;34m)\u001b[0m\u001b[0;34m\u001b[0m\u001b[0;34m\u001b[0m\u001b[0m\n",
            "\u001b[0;32m/usr/local/lib/python3.10/dist-packages/keras/src/utils/traceback_utils.py\u001b[0m in \u001b[0;36merror_handler\u001b[0;34m(*args, **kwargs)\u001b[0m\n\u001b[1;32m     63\u001b[0m         \u001b[0mfiltered_tb\u001b[0m \u001b[0;34m=\u001b[0m \u001b[0;32mNone\u001b[0m\u001b[0;34m\u001b[0m\u001b[0;34m\u001b[0m\u001b[0m\n\u001b[1;32m     64\u001b[0m         \u001b[0;32mtry\u001b[0m\u001b[0;34m:\u001b[0m\u001b[0;34m\u001b[0m\u001b[0;34m\u001b[0m\u001b[0m\n\u001b[0;32m---> 65\u001b[0;31m             \u001b[0;32mreturn\u001b[0m \u001b[0mfn\u001b[0m\u001b[0;34m(\u001b[0m\u001b[0;34m*\u001b[0m\u001b[0margs\u001b[0m\u001b[0;34m,\u001b[0m \u001b[0;34m**\u001b[0m\u001b[0mkwargs\u001b[0m\u001b[0;34m)\u001b[0m\u001b[0;34m\u001b[0m\u001b[0;34m\u001b[0m\u001b[0m\n\u001b[0m\u001b[1;32m     66\u001b[0m         \u001b[0;32mexcept\u001b[0m \u001b[0mException\u001b[0m \u001b[0;32mas\u001b[0m \u001b[0me\u001b[0m\u001b[0;34m:\u001b[0m\u001b[0;34m\u001b[0m\u001b[0;34m\u001b[0m\u001b[0m\n\u001b[1;32m     67\u001b[0m             \u001b[0mfiltered_tb\u001b[0m \u001b[0;34m=\u001b[0m \u001b[0m_process_traceback_frames\u001b[0m\u001b[0;34m(\u001b[0m\u001b[0me\u001b[0m\u001b[0;34m.\u001b[0m\u001b[0m__traceback__\u001b[0m\u001b[0;34m)\u001b[0m\u001b[0;34m\u001b[0m\u001b[0;34m\u001b[0m\u001b[0m\n",
            "\u001b[0;32m/usr/local/lib/python3.10/dist-packages/keras/src/engine/training.py\u001b[0m in \u001b[0;36mevaluate\u001b[0;34m(self, x, y, batch_size, verbose, sample_weight, steps, callbacks, max_queue_size, workers, use_multiprocessing, return_dict, **kwargs)\u001b[0m\n\u001b[1;32m   2294\u001b[0m                         ):\n\u001b[1;32m   2295\u001b[0m                             \u001b[0mcallbacks\u001b[0m\u001b[0;34m.\u001b[0m\u001b[0mon_test_batch_begin\u001b[0m\u001b[0;34m(\u001b[0m\u001b[0mstep\u001b[0m\u001b[0;34m)\u001b[0m\u001b[0;34m\u001b[0m\u001b[0;34m\u001b[0m\u001b[0m\n\u001b[0;32m-> 2296\u001b[0;31m                             logs = test_function_runner.run_step(\n\u001b[0m\u001b[1;32m   2297\u001b[0m                                 \u001b[0mdataset_or_iterator\u001b[0m\u001b[0;34m,\u001b[0m\u001b[0;34m\u001b[0m\u001b[0;34m\u001b[0m\u001b[0m\n\u001b[1;32m   2298\u001b[0m                                 \u001b[0mdata_handler\u001b[0m\u001b[0;34m,\u001b[0m\u001b[0;34m\u001b[0m\u001b[0;34m\u001b[0m\u001b[0m\n",
            "\u001b[0;32m/usr/local/lib/python3.10/dist-packages/keras/src/engine/training.py\u001b[0m in \u001b[0;36mrun_step\u001b[0;34m(self, dataset_or_iterator, data_handler, step, unused_shards)\u001b[0m\n\u001b[1;32m   4106\u001b[0m \u001b[0;34m\u001b[0m\u001b[0m\n\u001b[1;32m   4107\u001b[0m     \u001b[0;32mdef\u001b[0m \u001b[0mrun_step\u001b[0m\u001b[0;34m(\u001b[0m\u001b[0mself\u001b[0m\u001b[0;34m,\u001b[0m \u001b[0mdataset_or_iterator\u001b[0m\u001b[0;34m,\u001b[0m \u001b[0mdata_handler\u001b[0m\u001b[0;34m,\u001b[0m \u001b[0mstep\u001b[0m\u001b[0;34m,\u001b[0m \u001b[0munused_shards\u001b[0m\u001b[0;34m)\u001b[0m\u001b[0;34m:\u001b[0m\u001b[0;34m\u001b[0m\u001b[0;34m\u001b[0m\u001b[0m\n\u001b[0;32m-> 4108\u001b[0;31m         \u001b[0mtmp_logs\u001b[0m \u001b[0;34m=\u001b[0m \u001b[0mself\u001b[0m\u001b[0;34m.\u001b[0m\u001b[0m_function\u001b[0m\u001b[0;34m(\u001b[0m\u001b[0mdataset_or_iterator\u001b[0m\u001b[0;34m)\u001b[0m\u001b[0;34m\u001b[0m\u001b[0;34m\u001b[0m\u001b[0m\n\u001b[0m\u001b[1;32m   4109\u001b[0m         \u001b[0;32mif\u001b[0m \u001b[0mdata_handler\u001b[0m\u001b[0;34m.\u001b[0m\u001b[0mshould_sync\u001b[0m\u001b[0;34m:\u001b[0m\u001b[0;34m\u001b[0m\u001b[0;34m\u001b[0m\u001b[0m\n\u001b[1;32m   4110\u001b[0m             \u001b[0mcontext\u001b[0m\u001b[0;34m.\u001b[0m\u001b[0masync_wait\u001b[0m\u001b[0;34m(\u001b[0m\u001b[0;34m)\u001b[0m\u001b[0;34m\u001b[0m\u001b[0;34m\u001b[0m\u001b[0m\n",
            "\u001b[0;32m/usr/local/lib/python3.10/dist-packages/tensorflow/python/util/traceback_utils.py\u001b[0m in \u001b[0;36merror_handler\u001b[0;34m(*args, **kwargs)\u001b[0m\n\u001b[1;32m    148\u001b[0m     \u001b[0mfiltered_tb\u001b[0m \u001b[0;34m=\u001b[0m \u001b[0;32mNone\u001b[0m\u001b[0;34m\u001b[0m\u001b[0;34m\u001b[0m\u001b[0m\n\u001b[1;32m    149\u001b[0m     \u001b[0;32mtry\u001b[0m\u001b[0;34m:\u001b[0m\u001b[0;34m\u001b[0m\u001b[0;34m\u001b[0m\u001b[0m\n\u001b[0;32m--> 150\u001b[0;31m       \u001b[0;32mreturn\u001b[0m \u001b[0mfn\u001b[0m\u001b[0;34m(\u001b[0m\u001b[0;34m*\u001b[0m\u001b[0margs\u001b[0m\u001b[0;34m,\u001b[0m \u001b[0;34m**\u001b[0m\u001b[0mkwargs\u001b[0m\u001b[0;34m)\u001b[0m\u001b[0;34m\u001b[0m\u001b[0;34m\u001b[0m\u001b[0m\n\u001b[0m\u001b[1;32m    151\u001b[0m     \u001b[0;32mexcept\u001b[0m \u001b[0mException\u001b[0m \u001b[0;32mas\u001b[0m \u001b[0me\u001b[0m\u001b[0;34m:\u001b[0m\u001b[0;34m\u001b[0m\u001b[0;34m\u001b[0m\u001b[0m\n\u001b[1;32m    152\u001b[0m       \u001b[0mfiltered_tb\u001b[0m \u001b[0;34m=\u001b[0m \u001b[0m_process_traceback_frames\u001b[0m\u001b[0;34m(\u001b[0m\u001b[0me\u001b[0m\u001b[0;34m.\u001b[0m\u001b[0m__traceback__\u001b[0m\u001b[0;34m)\u001b[0m\u001b[0;34m\u001b[0m\u001b[0;34m\u001b[0m\u001b[0m\n",
            "\u001b[0;32m/usr/local/lib/python3.10/dist-packages/tensorflow/python/eager/polymorphic_function/polymorphic_function.py\u001b[0m in \u001b[0;36m__call__\u001b[0;34m(self, *args, **kwds)\u001b[0m\n\u001b[1;32m    830\u001b[0m \u001b[0;34m\u001b[0m\u001b[0m\n\u001b[1;32m    831\u001b[0m       \u001b[0;32mwith\u001b[0m \u001b[0mOptionalXlaContext\u001b[0m\u001b[0;34m(\u001b[0m\u001b[0mself\u001b[0m\u001b[0;34m.\u001b[0m\u001b[0m_jit_compile\u001b[0m\u001b[0;34m)\u001b[0m\u001b[0;34m:\u001b[0m\u001b[0;34m\u001b[0m\u001b[0;34m\u001b[0m\u001b[0m\n\u001b[0;32m--> 832\u001b[0;31m         \u001b[0mresult\u001b[0m \u001b[0;34m=\u001b[0m \u001b[0mself\u001b[0m\u001b[0;34m.\u001b[0m\u001b[0m_call\u001b[0m\u001b[0;34m(\u001b[0m\u001b[0;34m*\u001b[0m\u001b[0margs\u001b[0m\u001b[0;34m,\u001b[0m \u001b[0;34m**\u001b[0m\u001b[0mkwds\u001b[0m\u001b[0;34m)\u001b[0m\u001b[0;34m\u001b[0m\u001b[0;34m\u001b[0m\u001b[0m\n\u001b[0m\u001b[1;32m    833\u001b[0m \u001b[0;34m\u001b[0m\u001b[0m\n\u001b[1;32m    834\u001b[0m       \u001b[0mnew_tracing_count\u001b[0m \u001b[0;34m=\u001b[0m \u001b[0mself\u001b[0m\u001b[0;34m.\u001b[0m\u001b[0mexperimental_get_tracing_count\u001b[0m\u001b[0;34m(\u001b[0m\u001b[0;34m)\u001b[0m\u001b[0;34m\u001b[0m\u001b[0;34m\u001b[0m\u001b[0m\n",
            "\u001b[0;32m/usr/local/lib/python3.10/dist-packages/tensorflow/python/eager/polymorphic_function/polymorphic_function.py\u001b[0m in \u001b[0;36m_call\u001b[0;34m(self, *args, **kwds)\u001b[0m\n\u001b[1;32m    866\u001b[0m       \u001b[0;31m# In this case we have created variables on the first call, so we run the\u001b[0m\u001b[0;34m\u001b[0m\u001b[0;34m\u001b[0m\u001b[0m\n\u001b[1;32m    867\u001b[0m       \u001b[0;31m# defunned version which is guaranteed to never create variables.\u001b[0m\u001b[0;34m\u001b[0m\u001b[0;34m\u001b[0m\u001b[0m\n\u001b[0;32m--> 868\u001b[0;31m       return tracing_compilation.call_function(\n\u001b[0m\u001b[1;32m    869\u001b[0m           \u001b[0margs\u001b[0m\u001b[0;34m,\u001b[0m \u001b[0mkwds\u001b[0m\u001b[0;34m,\u001b[0m \u001b[0mself\u001b[0m\u001b[0;34m.\u001b[0m\u001b[0m_no_variable_creation_config\u001b[0m\u001b[0;34m\u001b[0m\u001b[0;34m\u001b[0m\u001b[0m\n\u001b[1;32m    870\u001b[0m       )\n",
            "\u001b[0;32m/usr/local/lib/python3.10/dist-packages/tensorflow/python/eager/polymorphic_function/tracing_compilation.py\u001b[0m in \u001b[0;36mcall_function\u001b[0;34m(args, kwargs, tracing_options)\u001b[0m\n\u001b[1;32m    137\u001b[0m   \u001b[0mbound_args\u001b[0m \u001b[0;34m=\u001b[0m \u001b[0mfunction\u001b[0m\u001b[0;34m.\u001b[0m\u001b[0mfunction_type\u001b[0m\u001b[0;34m.\u001b[0m\u001b[0mbind\u001b[0m\u001b[0;34m(\u001b[0m\u001b[0;34m*\u001b[0m\u001b[0margs\u001b[0m\u001b[0;34m,\u001b[0m \u001b[0;34m**\u001b[0m\u001b[0mkwargs\u001b[0m\u001b[0;34m)\u001b[0m\u001b[0;34m\u001b[0m\u001b[0;34m\u001b[0m\u001b[0m\n\u001b[1;32m    138\u001b[0m   \u001b[0mflat_inputs\u001b[0m \u001b[0;34m=\u001b[0m \u001b[0mfunction\u001b[0m\u001b[0;34m.\u001b[0m\u001b[0mfunction_type\u001b[0m\u001b[0;34m.\u001b[0m\u001b[0munpack_inputs\u001b[0m\u001b[0;34m(\u001b[0m\u001b[0mbound_args\u001b[0m\u001b[0;34m)\u001b[0m\u001b[0;34m\u001b[0m\u001b[0;34m\u001b[0m\u001b[0m\n\u001b[0;32m--> 139\u001b[0;31m   return function._call_flat(  # pylint: disable=protected-access\n\u001b[0m\u001b[1;32m    140\u001b[0m       \u001b[0mflat_inputs\u001b[0m\u001b[0;34m,\u001b[0m \u001b[0mcaptured_inputs\u001b[0m\u001b[0;34m=\u001b[0m\u001b[0mfunction\u001b[0m\u001b[0;34m.\u001b[0m\u001b[0mcaptured_inputs\u001b[0m\u001b[0;34m\u001b[0m\u001b[0;34m\u001b[0m\u001b[0m\n\u001b[1;32m    141\u001b[0m   )\n",
            "\u001b[0;32m/usr/local/lib/python3.10/dist-packages/tensorflow/python/eager/polymorphic_function/concrete_function.py\u001b[0m in \u001b[0;36m_call_flat\u001b[0;34m(self, tensor_inputs, captured_inputs)\u001b[0m\n\u001b[1;32m   1321\u001b[0m         and executing_eagerly):\n\u001b[1;32m   1322\u001b[0m       \u001b[0;31m# No tape is watching; skip to running the function.\u001b[0m\u001b[0;34m\u001b[0m\u001b[0;34m\u001b[0m\u001b[0m\n\u001b[0;32m-> 1323\u001b[0;31m       \u001b[0;32mreturn\u001b[0m \u001b[0mself\u001b[0m\u001b[0;34m.\u001b[0m\u001b[0m_inference_function\u001b[0m\u001b[0;34m.\u001b[0m\u001b[0mcall_preflattened\u001b[0m\u001b[0;34m(\u001b[0m\u001b[0margs\u001b[0m\u001b[0;34m)\u001b[0m\u001b[0;34m\u001b[0m\u001b[0;34m\u001b[0m\u001b[0m\n\u001b[0m\u001b[1;32m   1324\u001b[0m     forward_backward = self._select_forward_and_backward_functions(\n\u001b[1;32m   1325\u001b[0m         \u001b[0margs\u001b[0m\u001b[0;34m,\u001b[0m\u001b[0;34m\u001b[0m\u001b[0;34m\u001b[0m\u001b[0m\n",
            "\u001b[0;32m/usr/local/lib/python3.10/dist-packages/tensorflow/python/eager/polymorphic_function/atomic_function.py\u001b[0m in \u001b[0;36mcall_preflattened\u001b[0;34m(self, args)\u001b[0m\n\u001b[1;32m    214\u001b[0m   \u001b[0;32mdef\u001b[0m \u001b[0mcall_preflattened\u001b[0m\u001b[0;34m(\u001b[0m\u001b[0mself\u001b[0m\u001b[0;34m,\u001b[0m \u001b[0margs\u001b[0m\u001b[0;34m:\u001b[0m \u001b[0mSequence\u001b[0m\u001b[0;34m[\u001b[0m\u001b[0mcore\u001b[0m\u001b[0;34m.\u001b[0m\u001b[0mTensor\u001b[0m\u001b[0;34m]\u001b[0m\u001b[0;34m)\u001b[0m \u001b[0;34m->\u001b[0m \u001b[0mAny\u001b[0m\u001b[0;34m:\u001b[0m\u001b[0;34m\u001b[0m\u001b[0;34m\u001b[0m\u001b[0m\n\u001b[1;32m    215\u001b[0m     \u001b[0;34m\"\"\"Calls with flattened tensor inputs and returns the structured output.\"\"\"\u001b[0m\u001b[0;34m\u001b[0m\u001b[0;34m\u001b[0m\u001b[0m\n\u001b[0;32m--> 216\u001b[0;31m     \u001b[0mflat_outputs\u001b[0m \u001b[0;34m=\u001b[0m \u001b[0mself\u001b[0m\u001b[0;34m.\u001b[0m\u001b[0mcall_flat\u001b[0m\u001b[0;34m(\u001b[0m\u001b[0;34m*\u001b[0m\u001b[0margs\u001b[0m\u001b[0;34m)\u001b[0m\u001b[0;34m\u001b[0m\u001b[0;34m\u001b[0m\u001b[0m\n\u001b[0m\u001b[1;32m    217\u001b[0m     \u001b[0;32mreturn\u001b[0m \u001b[0mself\u001b[0m\u001b[0;34m.\u001b[0m\u001b[0mfunction_type\u001b[0m\u001b[0;34m.\u001b[0m\u001b[0mpack_output\u001b[0m\u001b[0;34m(\u001b[0m\u001b[0mflat_outputs\u001b[0m\u001b[0;34m)\u001b[0m\u001b[0;34m\u001b[0m\u001b[0;34m\u001b[0m\u001b[0m\n\u001b[1;32m    218\u001b[0m \u001b[0;34m\u001b[0m\u001b[0m\n",
            "\u001b[0;32m/usr/local/lib/python3.10/dist-packages/tensorflow/python/eager/polymorphic_function/atomic_function.py\u001b[0m in \u001b[0;36mcall_flat\u001b[0;34m(self, *args)\u001b[0m\n\u001b[1;32m    249\u001b[0m         \u001b[0;32mwith\u001b[0m \u001b[0mrecord\u001b[0m\u001b[0;34m.\u001b[0m\u001b[0mstop_recording\u001b[0m\u001b[0;34m(\u001b[0m\u001b[0;34m)\u001b[0m\u001b[0;34m:\u001b[0m\u001b[0;34m\u001b[0m\u001b[0;34m\u001b[0m\u001b[0m\n\u001b[1;32m    250\u001b[0m           \u001b[0;32mif\u001b[0m \u001b[0mself\u001b[0m\u001b[0;34m.\u001b[0m\u001b[0m_bound_context\u001b[0m\u001b[0;34m.\u001b[0m\u001b[0mexecuting_eagerly\u001b[0m\u001b[0;34m(\u001b[0m\u001b[0;34m)\u001b[0m\u001b[0;34m:\u001b[0m\u001b[0;34m\u001b[0m\u001b[0;34m\u001b[0m\u001b[0m\n\u001b[0;32m--> 251\u001b[0;31m             outputs = self._bound_context.call_function(\n\u001b[0m\u001b[1;32m    252\u001b[0m                 \u001b[0mself\u001b[0m\u001b[0;34m.\u001b[0m\u001b[0mname\u001b[0m\u001b[0;34m,\u001b[0m\u001b[0;34m\u001b[0m\u001b[0;34m\u001b[0m\u001b[0m\n\u001b[1;32m    253\u001b[0m                 \u001b[0mlist\u001b[0m\u001b[0;34m(\u001b[0m\u001b[0margs\u001b[0m\u001b[0;34m)\u001b[0m\u001b[0;34m,\u001b[0m\u001b[0;34m\u001b[0m\u001b[0;34m\u001b[0m\u001b[0m\n",
            "\u001b[0;32m/usr/local/lib/python3.10/dist-packages/tensorflow/python/eager/context.py\u001b[0m in \u001b[0;36mcall_function\u001b[0;34m(self, name, tensor_inputs, num_outputs)\u001b[0m\n\u001b[1;32m   1484\u001b[0m     \u001b[0mcancellation_context\u001b[0m \u001b[0;34m=\u001b[0m \u001b[0mcancellation\u001b[0m\u001b[0;34m.\u001b[0m\u001b[0mcontext\u001b[0m\u001b[0;34m(\u001b[0m\u001b[0;34m)\u001b[0m\u001b[0;34m\u001b[0m\u001b[0;34m\u001b[0m\u001b[0m\n\u001b[1;32m   1485\u001b[0m     \u001b[0;32mif\u001b[0m \u001b[0mcancellation_context\u001b[0m \u001b[0;32mis\u001b[0m \u001b[0;32mNone\u001b[0m\u001b[0;34m:\u001b[0m\u001b[0;34m\u001b[0m\u001b[0;34m\u001b[0m\u001b[0m\n\u001b[0;32m-> 1486\u001b[0;31m       outputs = execute.execute(\n\u001b[0m\u001b[1;32m   1487\u001b[0m           \u001b[0mname\u001b[0m\u001b[0;34m.\u001b[0m\u001b[0mdecode\u001b[0m\u001b[0;34m(\u001b[0m\u001b[0;34m\"utf-8\"\u001b[0m\u001b[0;34m)\u001b[0m\u001b[0;34m,\u001b[0m\u001b[0;34m\u001b[0m\u001b[0;34m\u001b[0m\u001b[0m\n\u001b[1;32m   1488\u001b[0m           \u001b[0mnum_outputs\u001b[0m\u001b[0;34m=\u001b[0m\u001b[0mnum_outputs\u001b[0m\u001b[0;34m,\u001b[0m\u001b[0;34m\u001b[0m\u001b[0;34m\u001b[0m\u001b[0m\n",
            "\u001b[0;32m/usr/local/lib/python3.10/dist-packages/tensorflow/python/eager/execute.py\u001b[0m in \u001b[0;36mquick_execute\u001b[0;34m(op_name, num_outputs, inputs, attrs, ctx, name)\u001b[0m\n\u001b[1;32m     51\u001b[0m   \u001b[0;32mtry\u001b[0m\u001b[0;34m:\u001b[0m\u001b[0;34m\u001b[0m\u001b[0;34m\u001b[0m\u001b[0m\n\u001b[1;32m     52\u001b[0m     \u001b[0mctx\u001b[0m\u001b[0;34m.\u001b[0m\u001b[0mensure_initialized\u001b[0m\u001b[0;34m(\u001b[0m\u001b[0;34m)\u001b[0m\u001b[0;34m\u001b[0m\u001b[0;34m\u001b[0m\u001b[0m\n\u001b[0;32m---> 53\u001b[0;31m     tensors = pywrap_tfe.TFE_Py_Execute(ctx._handle, device_name, op_name,\n\u001b[0m\u001b[1;32m     54\u001b[0m                                         inputs, attrs, num_outputs)\n\u001b[1;32m     55\u001b[0m   \u001b[0;32mexcept\u001b[0m \u001b[0mcore\u001b[0m\u001b[0;34m.\u001b[0m\u001b[0m_NotOkStatusException\u001b[0m \u001b[0;32mas\u001b[0m \u001b[0me\u001b[0m\u001b[0;34m:\u001b[0m\u001b[0;34m\u001b[0m\u001b[0;34m\u001b[0m\u001b[0m\n",
            "\u001b[0;31mKeyboardInterrupt\u001b[0m: "
          ]
        }
      ],
      "source": [
        "for i in range(6):\n",
        "    model_checkpoint_file = f\"drive/MyDrive/ComputerVision/models/model_checkpoint_augmented_{i}.keras\"\n",
        "    print(f\"Model: {model_checkpoint_file}\")\n",
        "\n",
        "    # load the model\n",
        "    model = load_model(model_checkpoint_file)\n",
        "\n",
        "    # check number of paramters\n",
        "    num_params = model.count_params()\n",
        "    print(\"Number of parameters of the model:\", num_params)\n",
        "\n",
        "    # check the test accuracy\n",
        "    test_loss, test_accuracy = model.evaluate(test_generator)\n",
        "    print(\"Test loss:\", test_loss)\n",
        "    print(\"Test accuracy:\", test_accuracy)\n",
        "\n",
        "    # print the confusion matrix\n",
        "    test_generator.reset()\n",
        "    y_pred = model.predict(test_generator)\n",
        "    y_pred_classes = np.argmax(y_pred, axis=1)  # Convert predictions to class labels\n",
        "    y_true = test_generator.classes  # True class labels from the generator\n",
        "\n",
        "    # Compute the confusion matrix\n",
        "    conf_matrix = confusion_matrix(y_true, y_pred_classes)\n",
        "\n",
        "    # Plot the confusion matrix\n",
        "    class_names = sorted(os.listdir(train_dir))\n",
        "    disp = ConfusionMatrixDisplay(confusion_matrix=conf_matrix, display_labels=class_names)\n",
        "    disp.plot(cmap=plt.cm.Blues)\n",
        "    plt.xticks(rotation=90)\n",
        "    plt.title('Confusion Matrix')\n",
        "    plt.show()"
      ]
    },
    {
      "cell_type": "code",
      "execution_count": null,
      "id": "7545c805-da96-432d-bf00-0a929cebe48a",
      "metadata": {
        "colab": {
          "background_save": true,
          "base_uri": "https://localhost:8080/"
        },
        "id": "7545c805-da96-432d-bf00-0a929cebe48a",
        "outputId": "07682d21-c907-44e2-b741-d0baa7ef6bf3"
      },
      "outputs": [
        {
          "name": "stdout",
          "output_type": "stream",
          "text": [
            "16/16 [==============================] - 114s 7s/step\n",
            "16/16 [==============================] - 110s 6s/step - loss: 0.3073 - accuracy: 0.9189\n",
            "16/16 [==============================] - 107s 7s/step\n",
            "16/16 [==============================] - 108s 7s/step - loss: 0.3640 - accuracy: 0.9023\n",
            "16/16 [==============================] - 106s 7s/step\n",
            "16/16 [==============================] - 109s 7s/step - loss: 0.3054 - accuracy: 0.9210\n",
            "16/16 [==============================] - 107s 6s/step\n",
            "16/16 [==============================] - 105s 6s/step - loss: 0.3096 - accuracy: 0.9189\n",
            "16/16 [==============================] - 106s 6s/step\n",
            "16/16 [==============================] - 108s 6s/step - loss: 0.3352 - accuracy: 0.9127\n",
            "16/16 [==============================] - 104s 6s/step\n",
            "16/16 [==============================] - 107s 7s/step - loss: 0.3280 - accuracy: 0.9064\n"
          ]
        }
      ],
      "source": [
        "# Initialize lists to store results\n",
        "results_list = []\n",
        "confusion_matrices = []\n",
        "\n",
        "# Load and evaluate each model\n",
        "for i in range(6):\n",
        "    model_file = f\"drive/MyDrive/ComputerVision/models/model_checkpoint_augmented_{i}.keras\"\n",
        "    # Load the trained model\n",
        "    model = load_model(model_file)\n",
        "\n",
        "    # Compute the number of parameters of the model\n",
        "    num_params = model.count_params()\n",
        "\n",
        "    # Generate predictions for the test set\n",
        "    test_generator.reset()\n",
        "    y_pred = model.predict(test_generator)\n",
        "    y_pred_classes = np.argmax(y_pred, axis=1)  # Convert predictions to class labels\n",
        "    y_true = test_generator.classes  # True class labels from the generator\n",
        "\n",
        "    # Compute the confusion matrix\n",
        "    conf_matrix = confusion_matrix(y_true, np.argmax(y_pred, axis=1))\n",
        "    confusion_matrices.append(conf_matrix)\n",
        "\n",
        "    # Calculate test accuracy and loss\n",
        "    test_loss, test_accuracy = model.evaluate(test_generator)\n",
        "\n",
        "    # Append results to list\n",
        "    results_list.append({\n",
        "        \"Model File\": model_file,\n",
        "        \"Test Accuracy\": test_accuracy,\n",
        "        \"Test Loss\": test_loss,\n",
        "        \"Number of Parameters\": num_params\n",
        "    })\n",
        "\n",
        "# Convert lists to DataFrames\n",
        "results_df = pd.DataFrame(results_list)\n",
        "\n",
        "# Concatenate confusion matrices\n",
        "confusion_df = pd.DataFrame(np.sum(confusion_matrices, axis=0), index=class_names, columns=class_names)\n"
      ]
    },
    {
      "cell_type": "code",
      "execution_count": null,
      "id": "b3602863-233e-41f1-83e4-290ea9e7989d",
      "metadata": {
        "id": "b3602863-233e-41f1-83e4-290ea9e7989d",
        "outputId": "51d50ce3-1cc2-48e4-911f-a69a16f02e31"
      },
      "outputs": [
        {
          "data": {
            "text/html": [
              "<div>\n",
              "<style scoped>\n",
              "    .dataframe tbody tr th:only-of-type {\n",
              "        vertical-align: middle;\n",
              "    }\n",
              "\n",
              "    .dataframe tbody tr th {\n",
              "        vertical-align: top;\n",
              "    }\n",
              "\n",
              "    .dataframe thead th {\n",
              "        text-align: right;\n",
              "    }\n",
              "</style>\n",
              "<table border=\"1\" class=\"dataframe\">\n",
              "  <thead>\n",
              "    <tr style=\"text-align: right;\">\n",
              "      <th></th>\n",
              "      <th>Model File</th>\n",
              "      <th>Test Accuracy</th>\n",
              "      <th>Test Loss</th>\n",
              "      <th>Number of Parameters</th>\n",
              "    </tr>\n",
              "  </thead>\n",
              "  <tbody>\n",
              "    <tr>\n",
              "      <th>0</th>\n",
              "      <td>model_checkpoint_augmented_0.keras</td>\n",
              "      <td>0.896414</td>\n",
              "      <td>0.387794</td>\n",
              "      <td>23593859</td>\n",
              "    </tr>\n",
              "    <tr>\n",
              "      <th>1</th>\n",
              "      <td>model_checkpoint_augmented_1.keras</td>\n",
              "      <td>0.900398</td>\n",
              "      <td>0.386076</td>\n",
              "      <td>23593859</td>\n",
              "    </tr>\n",
              "    <tr>\n",
              "      <th>2</th>\n",
              "      <td>model_checkpoint_augmented_2.keras</td>\n",
              "      <td>0.896414</td>\n",
              "      <td>0.383609</td>\n",
              "      <td>23593859</td>\n",
              "    </tr>\n",
              "    <tr>\n",
              "      <th>3</th>\n",
              "      <td>model_checkpoint_augmented_3.keras</td>\n",
              "      <td>0.890438</td>\n",
              "      <td>0.388047</td>\n",
              "      <td>23593859</td>\n",
              "    </tr>\n",
              "    <tr>\n",
              "      <th>4</th>\n",
              "      <td>model_checkpoint_augmented_4.keras</td>\n",
              "      <td>0.890438</td>\n",
              "      <td>0.375792</td>\n",
              "      <td>23593859</td>\n",
              "    </tr>\n",
              "    <tr>\n",
              "      <th>5</th>\n",
              "      <td>model_checkpoint_augmented_5.keras</td>\n",
              "      <td>0.892430</td>\n",
              "      <td>0.412824</td>\n",
              "      <td>23593859</td>\n",
              "    </tr>\n",
              "  </tbody>\n",
              "</table>\n",
              "</div>"
            ],
            "text/plain": [
              "                           Model File  Test Accuracy  Test Loss  \\\n",
              "0  model_checkpoint_augmented_0.keras       0.896414   0.387794   \n",
              "1  model_checkpoint_augmented_1.keras       0.900398   0.386076   \n",
              "2  model_checkpoint_augmented_2.keras       0.896414   0.383609   \n",
              "3  model_checkpoint_augmented_3.keras       0.890438   0.388047   \n",
              "4  model_checkpoint_augmented_4.keras       0.890438   0.375792   \n",
              "5  model_checkpoint_augmented_5.keras       0.892430   0.412824   \n",
              "\n",
              "   Number of Parameters  \n",
              "0              23593859  \n",
              "1              23593859  \n",
              "2              23593859  \n",
              "3              23593859  \n",
              "4              23593859  \n",
              "5              23593859  "
            ]
          },
          "execution_count": 163,
          "metadata": {},
          "output_type": "execute_result"
        }
      ],
      "source": [
        "results_df"
      ]
    },
    {
      "cell_type": "code",
      "execution_count": null,
      "id": "a4dedc14-d502-4980-a599-d886bb2a2ceb",
      "metadata": {
        "id": "a4dedc14-d502-4980-a599-d886bb2a2ceb",
        "outputId": "99d19ddb-9f78-452b-fd34-71b354dec864"
      },
      "outputs": [
        {
          "data": {
            "text/html": [
              "<div>\n",
              "<style scoped>\n",
              "    .dataframe tbody tr th:only-of-type {\n",
              "        vertical-align: middle;\n",
              "    }\n",
              "\n",
              "    .dataframe tbody tr th {\n",
              "        vertical-align: top;\n",
              "    }\n",
              "\n",
              "    .dataframe thead th {\n",
              "        text-align: right;\n",
              "    }\n",
              "</style>\n",
              "<table border=\"1\" class=\"dataframe\">\n",
              "  <thead>\n",
              "    <tr style=\"text-align: right;\">\n",
              "      <th></th>\n",
              "      <th>Balloon</th>\n",
              "      <th>Bicycle</th>\n",
              "      <th>Golf cart</th>\n",
              "    </tr>\n",
              "  </thead>\n",
              "  <tbody>\n",
              "    <tr>\n",
              "      <th>Balloon</th>\n",
              "      <td>111</td>\n",
              "      <td>561</td>\n",
              "      <td>0</td>\n",
              "    </tr>\n",
              "    <tr>\n",
              "      <th>Bicycle</th>\n",
              "      <td>389</td>\n",
              "      <td>1903</td>\n",
              "      <td>0</td>\n",
              "    </tr>\n",
              "    <tr>\n",
              "      <th>Golf cart</th>\n",
              "      <td>6</td>\n",
              "      <td>42</td>\n",
              "      <td>0</td>\n",
              "    </tr>\n",
              "  </tbody>\n",
              "</table>\n",
              "</div>"
            ],
            "text/plain": [
              "           Balloon  Bicycle  Golf cart\n",
              "Balloon        111      561          0\n",
              "Bicycle        389     1903          0\n",
              "Golf cart        6       42          0"
            ]
          },
          "execution_count": 164,
          "metadata": {},
          "output_type": "execute_result"
        }
      ],
      "source": [
        "confusion_df"
      ]
    },
    {
      "cell_type": "code",
      "execution_count": null,
      "id": "00ad63d6-6aae-46ea-ac7f-6b1ef01d4c87",
      "metadata": {
        "id": "00ad63d6-6aae-46ea-ac7f-6b1ef01d4c87",
        "outputId": "e085280c-dc61-4f59-edff-c55c82939fcd"
      },
      "outputs": [
        {
          "data": {
            "text/plain": [
              "<Figure size 1000x800 with 0 Axes>"
            ]
          },
          "metadata": {},
          "output_type": "display_data"
        },
        {
          "data": {
            "image/png": "[encoded data removed]",
            "text/plain": [
              "<Figure size 640x480 with 2 Axes>"
            ]
          },
          "metadata": {},
          "output_type": "display_data"
        }
      ],
      "source": [
        "# Plot the confusion matrix\n",
        "plt.figure(figsize=(10, 8))\n",
        "disp = ConfusionMatrixDisplay(confusion_matrix=confusion_df.values, display_labels=class_names)\n",
        "disp.plot(cmap=plt.cm.Blues, xticks_rotation=90)\n",
        "plt.title('Confusion Matrix for Concatenated Models')\n",
        "plt.xlabel('Predicted Label')\n",
        "plt.ylabel('True Label')\n",
        "plt.show()"
      ]
    },
    {
      "cell_type": "markdown",
      "id": "c2e9f902-8258-45e4-90dd-7474fc94ad9b",
      "metadata": {
        "id": "c2e9f902-8258-45e4-90dd-7474fc94ad9b"
      },
      "source": [
        "Now lets experiment a bit with the Architecture of the ResNet50 by doing the following step by step and evaluating the models:\n",
        "before"
      ]
    },
    {
      "cell_type": "code",
      "execution_count": null,
      "id": "4a79c99f-d1cd-4427-bb47-f31fcf965e8a",
      "metadata": {
        "colab": {
          "background_save": true,
          "base_uri": "https://localhost:8080/"
        },
        "id": "4a79c99f-d1cd-4427-bb47-f31fcf965e8a",
        "outputId": "de148104-ccab-4eba-d22d-de7323ec1d54"
      },
      "outputs": [
        {
          "name": "stdout",
          "output_type": "stream",
          "text": [
            "Found 2150 images belonging to 3 classes.\n",
            "Found 481 images belonging to 3 classes.\n",
            "Epoch 1/10\n",
            "60/68 [=========================>....] - ETA: 32s - loss: 1.4210 - accuracy: 0.8849"
          ]
        },
        {
          "ename": "UnknownError",
          "evalue": "Graph execution error:\n\nDetected at node PyFunc defined at (most recent call last):\n<stack traces unavailable>\nDetected at node PyFunc defined at (most recent call last):\n<stack traces unavailable>\n2 root error(s) found.\n  (0) UNKNOWN:  UnidentifiedImageError: cannot identify image file <_io.BytesIO object at 0x7eff7c121c60>\nTraceback (most recent call last):\n\n  File \"/usr/local/lib/python3.10/dist-packages/tensorflow/python/ops/script_ops.py\", line 270, in __call__\n    ret = func(*args)\n\n  File \"/usr/local/lib/python3.10/dist-packages/tensorflow/python/autograph/impl/api.py\", line 643, in wrapper\n    return func(*args, **kwargs)\n\n  File \"/usr/local/lib/python3.10/dist-packages/tensorflow/python/data/ops/from_generator_op.py\", line 198, in generator_py_func\n    values = next(generator_state.get_iterator(iterator_id))\n\n  File \"/usr/local/lib/python3.10/dist-packages/keras/src/engine/data_adapter.py\", line 917, in wrapped_generator\n    for data in generator_fn():\n\n  File \"/usr/local/lib/python3.10/dist-packages/keras/src/engine/data_adapter.py\", line 1064, in generator_fn\n    yield x[i]\n\n  File \"/usr/local/lib/python3.10/dist-packages/keras/src/preprocessing/image.py\", line 116, in __getitem__\n    return self._get_batches_of_transformed_samples(index_array)\n\n  File \"/usr/local/lib/python3.10/dist-packages/keras/src/preprocessing/image.py\", line 370, in _get_batches_of_transformed_samples\n    img = image_utils.load_img(\n\n  File \"/usr/local/lib/python3.10/dist-packages/keras/src/utils/image_utils.py\", line 423, in load_img\n    img = pil_image.open(io.BytesIO(f.read()))\n\n  File \"/usr/local/lib/python3.10/dist-packages/PIL/Image.py\", line 3283, in open\n    raise UnidentifiedImageError(msg)\n\nPIL.UnidentifiedImageError: cannot identify image file <_io.BytesIO object at 0x7eff7c121c60>\n\n\n\t [[{{node PyFunc}}]]\n\t [[IteratorGetNext]]\n\t [[IteratorGetNext/_2]]\n  (1) UNKNOWN:  UnidentifiedImageError: cannot identify image file <_io.BytesIO object at 0x7eff7c121c60>\nTraceback (most recent call last):\n\n  File \"/usr/local/lib/python3.10/dist-packages/tensorflow/python/ops/script_ops.py\", line 270, in __call__\n    ret = func(*args)\n\n  File \"/usr/local/lib/python3.10/dist-packages/tensorflow/python/autograph/impl/api.py\", line 643, in wrapper\n    return func(*args, **kwargs)\n\n  File \"/usr/local/lib/python3.10/dist-packages/tensorflow/python/data/ops/from_generator_op.py\", line 198, in generator_py_func\n    values = next(generator_state.get_iterator(iterator_id))\n\n  File \"/usr/local/lib/python3.10/dist-packages/keras/src/engine/data_adapter.py\", line 917, in wrapped_generator\n    for data in generator_fn():\n\n  File \"/usr/local/lib/python3.10/dist-packages/keras/src/engine/data_adapter.py\", line 1064, in generator_fn\n    yield x[i]\n\n  File \"/usr/local/lib/python3.10/dist-packages/keras/src/preprocessing/image.py\", line 116, in __getitem__\n    return self._get_batches_of_transformed_samples(index_array)\n\n  File \"/usr/local/lib/python3.10/dist-packages/keras/src/preprocessing/image.py\", line 370, in _get_batches_of_transformed_samples\n    img = image_utils.load_img(\n\n  File \"/usr/local/lib/python3.10/dist-packages/keras/src/utils/image_utils.py\", line 423, in load_img\n    img = pil_image.open(io.BytesIO(f.read()))\n\n  File \"/usr/local/lib/python3.10/dist-packages/PIL/Image.py\", line 3283, in open\n    raise UnidentifiedImageError(msg)\n\nPIL.UnidentifiedImageError: cannot identify image file <_io.BytesIO object at 0x7eff7c121c60>\n\n\n\t [[{{node PyFunc}}]]\n\t [[IteratorGetNext]]\n0 successful operations.\n0 derived errors ignored. [Op:__inference_train_function_20954]",
          "output_type": "error",
          "traceback": [
            "\u001b[0;31m---------------------------------------------------------------------------\u001b[0m",
            "\u001b[0;31mUnknownError\u001b[0m                              Traceback (most recent call last)",
            "\u001b[0;32m<ipython-input-18-87cd4dfe1116>\u001b[0m in \u001b[0;36m<cell line: 33>\u001b[0;34m()\u001b[0m\n\u001b[1;32m     78\u001b[0m \u001b[0;34m\u001b[0m\u001b[0m\n\u001b[1;32m     79\u001b[0m     \u001b[0;31m# Train the model\u001b[0m\u001b[0;34m\u001b[0m\u001b[0;34m\u001b[0m\u001b[0m\n\u001b[0;32m---> 80\u001b[0;31m     history = model.fit(\n\u001b[0m\u001b[1;32m     81\u001b[0m       \u001b[0mtrain_generator\u001b[0m\u001b[0;34m,\u001b[0m\u001b[0;34m\u001b[0m\u001b[0;34m\u001b[0m\u001b[0m\n\u001b[1;32m     82\u001b[0m       \u001b[0mepochs\u001b[0m\u001b[0;34m=\u001b[0m\u001b[0;36m10\u001b[0m\u001b[0;34m,\u001b[0m\u001b[0;34m\u001b[0m\u001b[0;34m\u001b[0m\u001b[0m\n",
            "\u001b[0;32m/usr/local/lib/python3.10/dist-packages/keras/src/utils/traceback_utils.py\u001b[0m in \u001b[0;36merror_handler\u001b[0;34m(*args, **kwargs)\u001b[0m\n\u001b[1;32m     68\u001b[0m             \u001b[0;31m# To get the full stack trace, call:\u001b[0m\u001b[0;34m\u001b[0m\u001b[0;34m\u001b[0m\u001b[0m\n\u001b[1;32m     69\u001b[0m             \u001b[0;31m# `tf.debugging.disable_traceback_filtering()`\u001b[0m\u001b[0;34m\u001b[0m\u001b[0;34m\u001b[0m\u001b[0m\n\u001b[0;32m---> 70\u001b[0;31m             \u001b[0;32mraise\u001b[0m \u001b[0me\u001b[0m\u001b[0;34m.\u001b[0m\u001b[0mwith_traceback\u001b[0m\u001b[0;34m(\u001b[0m\u001b[0mfiltered_tb\u001b[0m\u001b[0;34m)\u001b[0m \u001b[0;32mfrom\u001b[0m \u001b[0;32mNone\u001b[0m\u001b[0;34m\u001b[0m\u001b[0;34m\u001b[0m\u001b[0m\n\u001b[0m\u001b[1;32m     71\u001b[0m         \u001b[0;32mfinally\u001b[0m\u001b[0;34m:\u001b[0m\u001b[0;34m\u001b[0m\u001b[0;34m\u001b[0m\u001b[0m\n\u001b[1;32m     72\u001b[0m             \u001b[0;32mdel\u001b[0m \u001b[0mfiltered_tb\u001b[0m\u001b[0;34m\u001b[0m\u001b[0;34m\u001b[0m\u001b[0m\n",
            "\u001b[0;32m/usr/local/lib/python3.10/dist-packages/tensorflow/python/eager/execute.py\u001b[0m in \u001b[0;36mquick_execute\u001b[0;34m(op_name, num_outputs, inputs, attrs, ctx, name)\u001b[0m\n\u001b[1;32m     51\u001b[0m   \u001b[0;32mtry\u001b[0m\u001b[0;34m:\u001b[0m\u001b[0;34m\u001b[0m\u001b[0;34m\u001b[0m\u001b[0m\n\u001b[1;32m     52\u001b[0m     \u001b[0mctx\u001b[0m\u001b[0;34m.\u001b[0m\u001b[0mensure_initialized\u001b[0m\u001b[0;34m(\u001b[0m\u001b[0;34m)\u001b[0m\u001b[0;34m\u001b[0m\u001b[0;34m\u001b[0m\u001b[0m\n\u001b[0;32m---> 53\u001b[0;31m     tensors = pywrap_tfe.TFE_Py_Execute(ctx._handle, device_name, op_name,\n\u001b[0m\u001b[1;32m     54\u001b[0m                                         inputs, attrs, num_outputs)\n\u001b[1;32m     55\u001b[0m   \u001b[0;32mexcept\u001b[0m \u001b[0mcore\u001b[0m\u001b[0;34m.\u001b[0m\u001b[0m_NotOkStatusException\u001b[0m \u001b[0;32mas\u001b[0m \u001b[0me\u001b[0m\u001b[0;34m:\u001b[0m\u001b[0;34m\u001b[0m\u001b[0;34m\u001b[0m\u001b[0m\n",
            "\u001b[0;31mUnknownError\u001b[0m: Graph execution error:\n\nDetected at node PyFunc defined at (most recent call last):\n<stack traces unavailable>\nDetected at node PyFunc defined at (most recent call last):\n<stack traces unavailable>\n2 root error(s) found.\n  (0) UNKNOWN:  UnidentifiedImageError: cannot identify image file <_io.BytesIO object at 0x7eff7c121c60>\nTraceback (most recent call last):\n\n  File \"/usr/local/lib/python3.10/dist-packages/tensorflow/python/ops/script_ops.py\", line 270, in __call__\n    ret = func(*args)\n\n  File \"/usr/local/lib/python3.10/dist-packages/tensorflow/python/autograph/impl/api.py\", line 643, in wrapper\n    return func(*args, **kwargs)\n\n  File \"/usr/local/lib/python3.10/dist-packages/tensorflow/python/data/ops/from_generator_op.py\", line 198, in generator_py_func\n    values = next(generator_state.get_iterator(iterator_id))\n\n  File \"/usr/local/lib/python3.10/dist-packages/keras/src/engine/data_adapter.py\", line 917, in wrapped_generator\n    for data in generator_fn():\n\n  File \"/usr/local/lib/python3.10/dist-packages/keras/src/engine/data_adapter.py\", line 1064, in generator_fn\n    yield x[i]\n\n  File \"/usr/local/lib/python3.10/dist-packages/keras/src/preprocessing/image.py\", line 116, in __getitem__\n    return self._get_batches_of_transformed_samples(index_array)\n\n  File \"/usr/local/lib/python3.10/dist-packages/keras/src/preprocessing/image.py\", line 370, in _get_batches_of_transformed_samples\n    img = image_utils.load_img(\n\n  File \"/usr/local/lib/python3.10/dist-packages/keras/src/utils/image_utils.py\", line 423, in load_img\n    img = pil_image.open(io.BytesIO(f.read()))\n\n  File \"/usr/local/lib/python3.10/dist-packages/PIL/Image.py\", line 3283, in open\n    raise UnidentifiedImageError(msg)\n\nPIL.UnidentifiedImageError: cannot identify image file <_io.BytesIO object at 0x7eff7c121c60>\n\n\n\t [[{{node PyFunc}}]]\n\t [[IteratorGetNext]]\n\t [[IteratorGetNext/_2]]\n  (1) UNKNOWN:  UnidentifiedImageError: cannot identify image file <_io.BytesIO object at 0x7eff7c121c60>\nTraceback (most recent call last):\n\n  File \"/usr/local/lib/python3.10/dist-packages/tensorflow/python/ops/script_ops.py\", line 270, in __call__\n    ret = func(*args)\n\n  File \"/usr/local/lib/python3.10/dist-packages/tensorflow/python/autograph/impl/api.py\", line 643, in wrapper\n    return func(*args, **kwargs)\n\n  File \"/usr/local/lib/python3.10/dist-packages/tensorflow/python/data/ops/from_generator_op.py\", line 198, in generator_py_func\n    values = next(generator_state.get_iterator(iterator_id))\n\n  File \"/usr/local/lib/python3.10/dist-packages/keras/src/engine/data_adapter.py\", line 917, in wrapped_generator\n    for data in generator_fn():\n\n  File \"/usr/local/lib/python3.10/dist-packages/keras/src/engine/data_adapter.py\", line 1064, in generator_fn\n    yield x[i]\n\n  File \"/usr/local/lib/python3.10/dist-packages/keras/src/preprocessing/image.py\", line 116, in __getitem__\n    return self._get_batches_of_transformed_samples(index_array)\n\n  File \"/usr/local/lib/python3.10/dist-packages/keras/src/preprocessing/image.py\", line 370, in _get_batches_of_transformed_samples\n    img = image_utils.load_img(\n\n  File \"/usr/local/lib/python3.10/dist-packages/keras/src/utils/image_utils.py\", line 423, in load_img\n    img = pil_image.open(io.BytesIO(f.read()))\n\n  File \"/usr/local/lib/python3.10/dist-packages/PIL/Image.py\", line 3283, in open\n    raise UnidentifiedImageError(msg)\n\nPIL.UnidentifiedImageError: cannot identify image file <_io.BytesIO object at 0x7eff7c121c60>\n\n\n\t [[{{node PyFunc}}]]\n\t [[IteratorGetNext]]\n0 successful operations.\n0 derived errors ignored. [Op:__inference_train_function_20954]"
          ]
        }
      ],
      "source": [
        "import tensorflow as tf\n",
        "from tensorflow.keras.applications import ResNet50\n",
        "from tensorflow.keras.layers import Dense, GlobalAveragePooling2D, Conv2D, LeakyReLU\n",
        "from tensorflow.keras.models import Model\n",
        "from tensorflow.keras.optimizers import Adam\n",
        "from tensorflow.keras.callbacks import ModelCheckpoint, EarlyStopping, TensorBoard\n",
        "from tensorflow.keras.preprocessing.image import ImageDataGenerator\n",
        "import os\n",
        "\n",
        "# Image dimensions\n",
        "img_height, img_width = 224, 224\n",
        "batch_size = 32\n",
        "num_classes = len(os.listdir(train_dir))  # Number of classes\n",
        "\n",
        "# Data normalization for training and testing\n",
        "datagen = ImageDataGenerator(rescale=1./255)\n",
        "\n",
        "# Prepare data generators\n",
        "train_generator = datagen.flow_from_directory(\n",
        "    train_dir,\n",
        "    target_size=(img_height, img_width),\n",
        "    batch_size=batch_size,\n",
        "    class_mode='categorical'\n",
        ")\n",
        "\n",
        "test_generator = datagen.flow_from_directory(\n",
        "    test_dir,\n",
        "    target_size=(img_height, img_width),\n",
        "    batch_size=batch_size,\n",
        "    class_mode='categorical'\n",
        ")\n",
        "\n",
        "for i in range(1,4):\n",
        "  # Load pre-trained ResNet50 model\n",
        "  base_model = ResNet50(weights='imagenet', include_top=False)\n",
        "\n",
        "  # Freeze layers up to conv2_block1_out\n",
        "  freeze_until_layer = 'conv2_block1_out'\n",
        "  freeze = True\n",
        "\n",
        "  model_file = f\"drive/MyDrive/ComputerVision/models/model_checkpoint_architecture_{i}.keras\"\n",
        "\n",
        "  for layer in base_model.layers:\n",
        "\n",
        "    if layer.name == freeze_until_layer:\n",
        "      freeze = False\n",
        "    layer.trainable = not freeze\n",
        "\n",
        "    # Get the output of conv3_block4_out\n",
        "    x = base_model.get_layer('conv3_block4_out').output\n",
        "\n",
        "  # Add convolutional layers\n",
        "    x = Conv2D(512, (3, 3), padding='same', strides=(1, 1))(x)\n",
        "    x = LeakyReLU()(x)\n",
        "\n",
        "    if i>1:\n",
        "      x = Conv2D(1024, (1, 1), padding='same', strides=(1, 1))(x)\n",
        "      x = LeakyReLU()(x)\n",
        "\n",
        "    if i>2:\n",
        "      x = Conv2D(1024, (3, 3), padding='same', strides=(2, 2))(x)\n",
        "      x = LeakyReLU()(x)\n",
        "\n",
        "    # Add global average pooling and output layer\n",
        "    x = GlobalAveragePooling2D()(x)\n",
        "    output = Dense(num_classes, activation='softmax')(x)\n",
        "\n",
        "    # Construct the model\n",
        "    model = Model(inputs=base_model.input, outputs=output)\n",
        "\n",
        "    # Compile the model\n",
        "    model.compile(optimizer=Adam(), loss='categorical_crossentropy', metrics=['accuracy'])\n",
        "\n",
        "    # Define callbacks\n",
        "    checkpoint = ModelCheckpoint(\"model_cust_1_checkpoint.keras\", monitor='val_accuracy', verbose=1, save_best_only=True, mode='max')\n",
        "    early_stopping = EarlyStopping(monitor='val_loss', patience=3, verbose=1, restore_best_weights=True)\n",
        "    tensorboard = TensorBoard(log_dir=\"logs\", histogram_freq=1)\n",
        "\n",
        "    # Train the model\n",
        "    history = model.fit(\n",
        "      train_generator,\n",
        "      epochs=10,\n",
        "      validation_data=test_generator,\n",
        "      callbacks=[checkpoint, early_stopping, tensorboard]\n",
        "    )\n",
        "\n",
        "  # Evaluate the model on test set\n",
        "    test_loss, test_accuracy = model.evaluate(test_generator)\n",
        "    print(\"Test loss Model\",i,\": \", test_loss)\n",
        "    print(\"Test accuracy: \", test_accuracy)"
      ]
    },
    {
      "cell_type": "code",
      "execution_count": null,
      "id": "875614f5-3689-44c4-8653-6f6b2f56c63f",
      "metadata": {
        "id": "875614f5-3689-44c4-8653-6f6b2f56c63f",
        "outputId": "0e9db6f7-2e1f-411b-8ec8-89185601b6d0"
      },
      "outputs": [
        {
          "name": "stdout",
          "output_type": "stream",
          "text": [
            "Found 2005 images belonging to 3 classes.\n",
            "Found 502 images belonging to 3 classes.\n",
            "Epoch 1/10\n",
            "\u001b[1m63/63\u001b[0m \u001b[32m━━━━━━━━━━━━━━━━━━━━\u001b[0m\u001b[37m\u001b[0m \u001b[1m0s\u001b[0m 4s/step - accuracy: 0.7126 - loss: 1.9890\n",
            "Epoch 1: val_accuracy improved from -inf to 0.76096, saving model to model_cust_2_checkpoint.keras\n",
            "\u001b[1m63/63\u001b[0m \u001b[32m━━━━━━━━━━━━━━━━━━━━\u001b[0m\u001b[37m\u001b[0m \u001b[1m281s\u001b[0m 4s/step - accuracy: 0.7142 - loss: 1.9728 - val_accuracy: 0.7610 - val_loss: 1.5940\n",
            "Epoch 2/10\n",
            "\u001b[1m63/63\u001b[0m \u001b[32m━━━━━━━━━━━━━━━━━━━━\u001b[0m\u001b[37m\u001b[0m \u001b[1m0s\u001b[0m 4s/step - accuracy: 0.9069 - loss: 0.2873\n",
            "Epoch 2: val_accuracy did not improve from 0.76096\n",
            "\u001b[1m63/63\u001b[0m \u001b[32m━━━━━━━━━━━━━━━━━━━━\u001b[0m\u001b[37m\u001b[0m \u001b[1m245s\u001b[0m 4s/step - accuracy: 0.9070 - loss: 0.2869 - val_accuracy: 0.7610 - val_loss: 1.0001\n",
            "Epoch 3/10\n",
            "\u001b[1m63/63\u001b[0m \u001b[32m━━━━━━━━━━━━━━━━━━━━\u001b[0m\u001b[37m\u001b[0m \u001b[1m0s\u001b[0m 3s/step - accuracy: 0.9310 - loss: 0.2257\n",
            "Epoch 3: val_accuracy did not improve from 0.76096\n",
            "\u001b[1m63/63\u001b[0m \u001b[32m━━━━━━━━━━━━━━━━━━━━\u001b[0m\u001b[37m\u001b[0m \u001b[1m236s\u001b[0m 4s/step - accuracy: 0.9310 - loss: 0.2260 - val_accuracy: 0.7610 - val_loss: 2.9065\n",
            "Epoch 4/10\n",
            "\u001b[1m63/63\u001b[0m \u001b[32m━━━━━━━━━━━━━━━━━━━━\u001b[0m\u001b[37m\u001b[0m \u001b[1m0s\u001b[0m 3s/step - accuracy: 0.9368 - loss: 0.2275\n",
            "Epoch 4: val_accuracy did not improve from 0.76096\n",
            "\u001b[1m63/63\u001b[0m \u001b[32m━━━━━━━━━━━━━━━━━━━━\u001b[0m\u001b[37m\u001b[0m \u001b[1m235s\u001b[0m 4s/step - accuracy: 0.9368 - loss: 0.2275 - val_accuracy: 0.2430 - val_loss: 2.2426\n",
            "Epoch 5/10\n",
            "\u001b[1m63/63\u001b[0m \u001b[32m━━━━━━━━━━━━━━━━━━━━\u001b[0m\u001b[37m\u001b[0m \u001b[1m0s\u001b[0m 3s/step - accuracy: 0.9182 - loss: 0.2760\n",
            "Epoch 5: val_accuracy did not improve from 0.76096\n",
            "\u001b[1m63/63\u001b[0m \u001b[32m━━━━━━━━━━━━━━━━━━━━\u001b[0m\u001b[37m\u001b[0m \u001b[1m241s\u001b[0m 4s/step - accuracy: 0.9183 - loss: 0.2755 - val_accuracy: 0.7610 - val_loss: 1.7684\n",
            "Epoch 5: early stopping\n",
            "Restoring model weights from the end of the best epoch: 2.\n",
            "\u001b[1m16/16\u001b[0m \u001b[32m━━━━━━━━━━━━━━━━━━━━\u001b[0m\u001b[37m\u001b[0m \u001b[1m25s\u001b[0m 2s/step - accuracy: 0.7828 - loss: 0.8959\n",
            "Test loss: 1.0215024948120117\n",
            "Test accuracy: 0.7609561681747437\n"
          ]
        }
      ],
      "source": [
        "import tensorflow as tf\n",
        "from tensorflow.keras.applications import ResNet50\n",
        "from tensorflow.keras.layers import Dense, GlobalAveragePooling2D, Conv2D, LeakyReLU\n",
        "from tensorflow.keras.models import Model\n",
        "from tensorflow.keras.optimizers import Adam\n",
        "from tensorflow.keras.callbacks import ModelCheckpoint, EarlyStopping, TensorBoard\n",
        "from tensorflow.keras.preprocessing.image import ImageDataGenerator\n",
        "import os\n",
        "\n",
        "# Image dimensions\n",
        "img_height, img_width = 224, 224\n",
        "batch_size = 32\n",
        "num_classes = len(os.listdir(train_dir))  # Number of classes\n",
        "\n",
        "# Data normalization for training and testing\n",
        "datagen = ImageDataGenerator(rescale=1./255)\n",
        "\n",
        "# Prepare data generators\n",
        "train_generator = datagen.flow_from_directory(\n",
        "    train_dir,\n",
        "    target_size=(img_height, img_width),\n",
        "    batch_size=batch_size,\n",
        "    class_mode='categorical'\n",
        ")\n",
        "\n",
        "test_generator = datagen.flow_from_directory(\n",
        "    test_dir,\n",
        "    target_size=(img_height, img_width),\n",
        "    batch_size=batch_size,\n",
        "    class_mode='categorical'\n",
        ")\n",
        "\n",
        "# Load pre-trained ResNet50 model\n",
        "base_model = ResNet50(weights='imagenet', include_top=False)\n",
        "\n",
        "# Freeze layers up to conv2_block1_out\n",
        "freeze_until_layer = 'conv2_block1_out'\n",
        "freeze = True\n",
        "for layer in base_model.layers:\n",
        "    if layer.name == freeze_until_layer:\n",
        "        freeze = False\n",
        "    layer.trainable = not freeze\n",
        "\n",
        "# Get the output of conv3_block4_out\n",
        "x = base_model.get_layer('conv3_block4_out').output\n",
        "\n",
        "# Add convolutional layers\n",
        "x = Conv2D(512, (3, 3), padding='same', strides=(1, 1))(x)\n",
        "x = LeakyReLU()(x)\n",
        "\n",
        "x = Conv2D(1024, (1, 1), padding='same', strides=(1, 1))(x)\n",
        "x = LeakyReLU()(x)\n",
        "\n",
        "#x = Conv2D(1024, (3, 3), padding='same', strides=(2, 2))(x)\n",
        "#x = LeakyReLU()(x)\n",
        "\n",
        "# Add global average pooling and output layer\n",
        "x = GlobalAveragePooling2D()(x)\n",
        "output = Dense(num_classes, activation='softmax')(x)\n",
        "\n",
        "# Construct the model\n",
        "model = Model(inputs=base_model.input, outputs=output)\n",
        "\n",
        "# Compile the model\n",
        "model.compile(optimizer=Adam(), loss='categorical_crossentropy', metrics=['accuracy'])\n",
        "\n",
        "# Define callbacks\n",
        "checkpoint = ModelCheckpoint(\"model_cust_2_checkpoint.keras\", monitor='val_accuracy', verbose=1, save_best_only=True, mode='max')\n",
        "early_stopping = EarlyStopping(monitor='val_loss', patience=3, verbose=1, restore_best_weights=True)\n",
        "tensorboard = TensorBoard(log_dir=\"logs\", histogram_freq=1)\n",
        "\n",
        "# Train the model\n",
        "history = model.fit(\n",
        "    train_generator,\n",
        "    epochs=10,\n",
        "    validation_data=test_generator,\n",
        "    callbacks=[checkpoint, early_stopping, tensorboard]\n",
        ")\n",
        "\n",
        "# Evaluate the model on test set\n",
        "test_loss, test_accuracy = model.evaluate(test_generator)\n",
        "print(\"Test loss:\", test_loss)\n",
        "print(\"Test accuracy:\", test_accuracy)"
      ]
    },
    {
      "cell_type": "code",
      "execution_count": null,
      "id": "50e76286-3363-4c60-a442-2859ed252dd2",
      "metadata": {
        "id": "50e76286-3363-4c60-a442-2859ed252dd2",
        "outputId": "e274b686-404e-47f8-8621-f72aeb0018a0"
      },
      "outputs": [
        {
          "name": "stdout",
          "output_type": "stream",
          "text": [
            "Found 2005 images belonging to 3 classes.\n",
            "Found 502 images belonging to 3 classes.\n",
            "Epoch 1/10\n",
            "\u001b[1m63/63\u001b[0m \u001b[32m━━━━━━━━━━━━━━━━━━━━\u001b[0m\u001b[37m\u001b[0m \u001b[1m0s\u001b[0m 8s/step - accuracy: 0.5523 - loss: 20.1154\n",
            "Epoch 1: val_accuracy improved from -inf to 0.76096, saving model to model_cust_3_checkpoint.keras\n",
            "\u001b[1m63/63\u001b[0m \u001b[32m━━━━━━━━━━━━━━━━━━━━\u001b[0m\u001b[37m\u001b[0m \u001b[1m545s\u001b[0m 8s/step - accuracy: 0.5534 - loss: 19.9431 - val_accuracy: 0.7610 - val_loss: 2.0531\n",
            "Epoch 2/10\n",
            "\u001b[1m63/63\u001b[0m \u001b[32m━━━━━━━━━━━━━━━━━━━━\u001b[0m\u001b[37m\u001b[0m \u001b[1m0s\u001b[0m 5s/step - accuracy: 0.7406 - loss: 0.8196\n",
            "Epoch 2: val_accuracy did not improve from 0.76096\n",
            "\u001b[1m63/63\u001b[0m \u001b[32m━━━━━━━━━━━━━━━━━━━━\u001b[0m\u001b[37m\u001b[0m \u001b[1m370s\u001b[0m 6s/step - accuracy: 0.7409 - loss: 0.8173 - val_accuracy: 0.7610 - val_loss: 0.7957\n",
            "Epoch 3/10\n",
            "\u001b[1m63/63\u001b[0m \u001b[32m━━━━━━━━━━━━━━━━━━━━\u001b[0m\u001b[37m\u001b[0m \u001b[1m0s\u001b[0m 5s/step - accuracy: 0.8231 - loss: 0.4437\n",
            "Epoch 3: val_accuracy improved from 0.76096 to 0.85657, saving model to model_cust_3_checkpoint.keras\n",
            "\u001b[1m63/63\u001b[0m \u001b[32m━━━━━━━━━━━━━━━━━━━━\u001b[0m\u001b[37m\u001b[0m \u001b[1m367s\u001b[0m 6s/step - accuracy: 0.8238 - loss: 0.4427 - val_accuracy: 0.8566 - val_loss: 0.4038\n",
            "Epoch 4/10\n",
            "\u001b[1m63/63\u001b[0m \u001b[32m━━━━━━━━━━━━━━━━━━━━\u001b[0m\u001b[37m\u001b[0m \u001b[1m0s\u001b[0m 5s/step - accuracy: 0.9193 - loss: 0.2546\n",
            "Epoch 4: val_accuracy did not improve from 0.85657\n",
            "\u001b[1m63/63\u001b[0m \u001b[32m━━━━━━━━━━━━━━━━━━━━\u001b[0m\u001b[37m\u001b[0m \u001b[1m355s\u001b[0m 6s/step - accuracy: 0.9193 - loss: 0.2548 - val_accuracy: 0.7610 - val_loss: 1.8333\n",
            "Epoch 5/10\n",
            "\u001b[1m63/63\u001b[0m \u001b[32m━━━━━━━━━━━━━━━━━━━━\u001b[0m\u001b[37m\u001b[0m \u001b[1m0s\u001b[0m 5s/step - accuracy: 0.9016 - loss: 0.2867\n",
            "Epoch 5: val_accuracy did not improve from 0.85657\n",
            "\u001b[1m63/63\u001b[0m \u001b[32m━━━━━━━━━━━━━━━━━━━━\u001b[0m\u001b[37m\u001b[0m \u001b[1m359s\u001b[0m 6s/step - accuracy: 0.9018 - loss: 0.2865 - val_accuracy: 0.2231 - val_loss: 8.7955\n",
            "Epoch 6/10\n",
            "\u001b[1m63/63\u001b[0m \u001b[32m━━━━━━━━━━━━━━━━━━━━\u001b[0m\u001b[37m\u001b[0m \u001b[1m0s\u001b[0m 5s/step - accuracy: 0.9296 - loss: 0.2597\n",
            "Epoch 6: val_accuracy did not improve from 0.85657\n",
            "\u001b[1m63/63\u001b[0m \u001b[32m━━━━━━━━━━━━━━━━━━━━\u001b[0m\u001b[37m\u001b[0m \u001b[1m372s\u001b[0m 6s/step - accuracy: 0.9293 - loss: 0.2606 - val_accuracy: 0.2231 - val_loss: 14.4584\n",
            "Epoch 6: early stopping\n",
            "Restoring model weights from the end of the best epoch: 3.\n",
            "\u001b[1m16/16\u001b[0m \u001b[32m━━━━━━━━━━━━━━━━━━━━\u001b[0m\u001b[37m\u001b[0m \u001b[1m24s\u001b[0m 2s/step - accuracy: 0.8418 - loss: 0.4245\n",
            "Test loss: 0.40461423993110657\n",
            "Test accuracy: 0.8565737009048462\n"
          ]
        }
      ],
      "source": [
        "import tensorflow as tf\n",
        "from tensorflow.keras.applications import ResNet50\n",
        "from tensorflow.keras.layers import Dense, GlobalAveragePooling2D, Conv2D, LeakyReLU\n",
        "from tensorflow.keras.models import Model\n",
        "from tensorflow.keras.optimizers import Adam\n",
        "from tensorflow.keras.callbacks import ModelCheckpoint, EarlyStopping, TensorBoard\n",
        "from tensorflow.keras.preprocessing.image import ImageDataGenerator\n",
        "import os\n",
        "\n",
        "# Image dimensions\n",
        "img_height, img_width = 224, 224\n",
        "batch_size = 32\n",
        "num_classes = len(os.listdir(train_dir))  # Number of classes\n",
        "\n",
        "# Data normalization for training and testing\n",
        "datagen = ImageDataGenerator(rescale=1./255)\n",
        "\n",
        "# Prepare data generators\n",
        "train_generator = datagen.flow_from_directory(\n",
        "    train_dir,\n",
        "    target_size=(img_height, img_width),\n",
        "    batch_size=batch_size,\n",
        "    class_mode='categorical'\n",
        ")\n",
        "\n",
        "test_generator = datagen.flow_from_directory(\n",
        "    test_dir,\n",
        "    target_size=(img_height, img_width),\n",
        "    batch_size=batch_size,\n",
        "    class_mode='categorical'\n",
        ")\n",
        "\n",
        "# Load pre-trained ResNet50 model\n",
        "base_model = ResNet50(weights='imagenet', include_top=False)\n",
        "\n",
        "# Freeze layers up to conv2_block1_out\n",
        "freeze_until_layer = 'conv2_block1_out'\n",
        "freeze = True\n",
        "for layer in base_model.layers:\n",
        "    if layer.name == freeze_until_layer:\n",
        "        freeze = False\n",
        "    layer.trainable = not freeze\n",
        "\n",
        "# Get the output of conv3_block4_out\n",
        "x = base_model.get_layer('conv3_block4_out').output\n",
        "\n",
        "# Add convolutional layers\n",
        "x = Conv2D(512, (3, 3), padding='same', strides=(1, 1))(x)\n",
        "x = LeakyReLU()(x)\n",
        "\n",
        "x = Conv2D(1024, (1, 1), padding='same', strides=(1, 1))(x)\n",
        "x = LeakyReLU()(x)\n",
        "\n",
        "x = Conv2D(1024, (3, 3), padding='same', strides=(2, 2))(x)\n",
        "x = LeakyReLU()(x)\n",
        "\n",
        "# Add global average pooling and output layer\n",
        "x = GlobalAveragePooling2D()(x)\n",
        "output = Dense(num_classes, activation='softmax')(x)\n",
        "\n",
        "# Construct the model\n",
        "model = Model(inputs=base_model.input, outputs=output)\n",
        "\n",
        "# Compile the model\n",
        "model.compile(optimizer=Adam(), loss='categorical_crossentropy', metrics=['accuracy'])\n",
        "\n",
        "# Define callbacks\n",
        "checkpoint = ModelCheckpoint(\"model_cust_3_checkpoint.keras\", monitor='val_accuracy', verbose=1, save_best_only=True, mode='max')\n",
        "early_stopping = EarlyStopping(monitor='val_loss', patience=3, verbose=1, restore_best_weights=True)\n",
        "tensorboard = TensorBoard(log_dir=\"logs\", histogram_freq=1)\n",
        "\n",
        "# Train the model\n",
        "history = model.fit(\n",
        "    train_generator,\n",
        "    epochs=10,\n",
        "    validation_data=test_generator,\n",
        "    callbacks=[checkpoint, early_stopping, tensorboard]\n",
        ")\n",
        "\n",
        "# Evaluate the model on test set\n",
        "test_loss, test_accuracy = model.evaluate(test_generator)\n",
        "print(\"Test loss:\", test_loss)\n",
        "print(\"Test accuracy:\", test_accuracy)"
      ]
    },
    {
      "cell_type": "code",
      "execution_count": null,
      "id": "03c304d2-428f-4ca6-ad6d-71cda1751877",
      "metadata": {
        "id": "03c304d2-428f-4ca6-ad6d-71cda1751877",
        "outputId": "97bc55db-408e-41bf-d411-2b166387055e"
      },
      "outputs": [
        {
          "name": "stderr",
          "output_type": "stream",
          "text": [
            "C:\\Users\\chiar\\anaconda3\\envs\\cv_cnn\\Lib\\site-packages\\keras\\src\\saving\\saving_lib.py:396: UserWarning: Skipping variable loading for optimizer 'adam', because it has 202 variables whereas the saved optimizer has 162 variables. \n",
            "  trackable.load_own_variables(weights_store.get(inner_path))\n"
          ]
        },
        {
          "name": "stdout",
          "output_type": "stream",
          "text": [
            "\u001b[1m16/16\u001b[0m \u001b[32m━━━━━━━━━━━━━━━━━━━━\u001b[0m\u001b[37m\u001b[0m \u001b[1m18s\u001b[0m 1s/step \n",
            "\u001b[1m16/16\u001b[0m \u001b[32m━━━━━━━━━━━━━━━━━━━━\u001b[0m\u001b[37m\u001b[0m \u001b[1m17s\u001b[0m 914ms/step - accuracy: 0.8600 - loss: 0.3788\n"
          ]
        },
        {
          "name": "stderr",
          "output_type": "stream",
          "text": [
            "C:\\Users\\chiar\\anaconda3\\envs\\cv_cnn\\Lib\\site-packages\\keras\\src\\saving\\saving_lib.py:396: UserWarning: Skipping variable loading for optimizer 'adam', because it has 206 variables whereas the saved optimizer has 166 variables. \n",
            "  trackable.load_own_variables(weights_store.get(inner_path))\n"
          ]
        },
        {
          "name": "stdout",
          "output_type": "stream",
          "text": [
            "\u001b[1m16/16\u001b[0m \u001b[32m━━━━━━━━━━━━━━━━━━━━\u001b[0m\u001b[37m\u001b[0m \u001b[1m19s\u001b[0m 1s/step\n",
            "\u001b[1m16/16\u001b[0m \u001b[32m━━━━━━━━━━━━━━━━━━━━\u001b[0m\u001b[37m\u001b[0m \u001b[1m19s\u001b[0m 1s/step - accuracy: 0.7650 - loss: 1.5631\n"
          ]
        },
        {
          "name": "stderr",
          "output_type": "stream",
          "text": [
            "C:\\Users\\chiar\\anaconda3\\envs\\cv_cnn\\Lib\\site-packages\\keras\\src\\saving\\saving_lib.py:396: UserWarning: Skipping variable loading for optimizer 'adam', because it has 210 variables whereas the saved optimizer has 170 variables. \n",
            "  trackable.load_own_variables(weights_store.get(inner_path))\n"
          ]
        },
        {
          "name": "stdout",
          "output_type": "stream",
          "text": [
            "\u001b[1m16/16\u001b[0m \u001b[32m━━━━━━━━━━━━━━━━━━━━\u001b[0m\u001b[37m\u001b[0m \u001b[1m26s\u001b[0m 2s/step\n",
            "\u001b[1m16/16\u001b[0m \u001b[32m━━━━━━━━━━━━━━━━━━━━\u001b[0m\u001b[37m\u001b[0m \u001b[1m28s\u001b[0m 2s/step - accuracy: 0.8520 - loss: 0.3931\n"
          ]
        }
      ],
      "source": [
        "# Initialize lists to store results\n",
        "results_list = []\n",
        "confusion_matrices = []\n",
        "\n",
        "# Load and evaluate each model\n",
        "for i in range(1,4):\n",
        "    model_file = f\"model_cust_{i}_checkpoint.keras\"\n",
        "    # Load the trained model\n",
        "    model = load_model(model_file)\n",
        "\n",
        "    # Compute the number of parameters of the model\n",
        "    num_params = model.count_params()\n",
        "\n",
        "    # Generate predictions for the test set\n",
        "    test_generator.reset()\n",
        "    y_pred = model.predict(test_generator)\n",
        "    y_pred_classes = np.argmax(y_pred, axis=1)  # Convert predictions to class labels\n",
        "    y_true = test_generator.classes  # True class labels from the generator\n",
        "\n",
        "    # Compute the confusion matrix\n",
        "    conf_matrix = confusion_matrix(y_true, np.argmax(y_pred, axis=1))\n",
        "    confusion_matrices.append(conf_matrix)\n",
        "\n",
        "    # Calculate test accuracy and loss\n",
        "    test_loss, test_accuracy = model.evaluate(test_generator)\n",
        "\n",
        "    # Append results to list\n",
        "    results_list.append({\n",
        "        \"Model File\": model_file,\n",
        "        \"Test Accuracy\": test_accuracy,\n",
        "        \"Test Loss\": test_loss,\n",
        "        \"Number of Parameters\": num_params\n",
        "    })\n",
        "\n",
        "# Convert lists to DataFrames\n",
        "results_df = pd.DataFrame(results_list)\n",
        "\n",
        "# Concatenate confusion matrices\n",
        "confusion_df = pd.DataFrame(np.sum(confusion_matrices, axis=0), index=class_names, columns=class_names)\n"
      ]
    },
    {
      "cell_type": "code",
      "execution_count": null,
      "id": "f68d60bd-94fa-4097-b89f-cdb5d6af2d30",
      "metadata": {
        "id": "f68d60bd-94fa-4097-b89f-cdb5d6af2d30",
        "outputId": "fe1484ac-b360-4028-b9d3-9965a11fc297"
      },
      "outputs": [
        {
          "data": {
            "text/html": [
              "<div>\n",
              "<style scoped>\n",
              "    .dataframe tbody tr th:only-of-type {\n",
              "        vertical-align: middle;\n",
              "    }\n",
              "\n",
              "    .dataframe tbody tr th {\n",
              "        vertical-align: top;\n",
              "    }\n",
              "\n",
              "    .dataframe thead th {\n",
              "        text-align: right;\n",
              "    }\n",
              "</style>\n",
              "<table border=\"1\" class=\"dataframe\">\n",
              "  <thead>\n",
              "    <tr style=\"text-align: right;\">\n",
              "      <th></th>\n",
              "      <th>Model File</th>\n",
              "      <th>Test Accuracy</th>\n",
              "      <th>Test Loss</th>\n",
              "      <th>Number of Parameters</th>\n",
              "    </tr>\n",
              "  </thead>\n",
              "  <tbody>\n",
              "    <tr>\n",
              "      <th>0</th>\n",
              "      <td>model_cust_1_checkpoint.keras</td>\n",
              "      <td>0.850598</td>\n",
              "      <td>0.390759</td>\n",
              "      <td>3821443</td>\n",
              "    </tr>\n",
              "    <tr>\n",
              "      <th>1</th>\n",
              "      <td>model_cust_2_checkpoint.keras</td>\n",
              "      <td>0.760956</td>\n",
              "      <td>1.612451</td>\n",
              "      <td>4348291</td>\n",
              "    </tr>\n",
              "    <tr>\n",
              "      <th>2</th>\n",
              "      <td>model_cust_3_checkpoint.keras</td>\n",
              "      <td>0.856574</td>\n",
              "      <td>0.405153</td>\n",
              "      <td>13786499</td>\n",
              "    </tr>\n",
              "  </tbody>\n",
              "</table>\n",
              "</div>"
            ],
            "text/plain": [
              "                      Model File  Test Accuracy  Test Loss  \\\n",
              "0  model_cust_1_checkpoint.keras       0.850598   0.390759   \n",
              "1  model_cust_2_checkpoint.keras       0.760956   1.612451   \n",
              "2  model_cust_3_checkpoint.keras       0.856574   0.405153   \n",
              "\n",
              "   Number of Parameters  \n",
              "0               3821443  \n",
              "1               4348291  \n",
              "2              13786499  "
            ]
          },
          "execution_count": 181,
          "metadata": {},
          "output_type": "execute_result"
        }
      ],
      "source": [
        "results_df"
      ]
    },
    {
      "cell_type": "code",
      "execution_count": null,
      "id": "4dd1a9da-7a54-46dd-9a77-c7bd5c16933b",
      "metadata": {
        "id": "4dd1a9da-7a54-46dd-9a77-c7bd5c16933b",
        "outputId": "927dc9c6-d79d-4fe7-d8cd-1ab830e29a55"
      },
      "outputs": [
        {
          "data": {
            "text/plain": [
              "<Figure size 1000x800 with 0 Axes>"
            ]
          },
          "metadata": {},
          "output_type": "display_data"
        },
        {
          "data": {
            "image/png": "[encoded data removed]",
            "text/plain": [
              "<Figure size 640x480 with 2 Axes>"
            ]
          },
          "metadata": {},
          "output_type": "display_data"
        }
      ],
      "source": [
        "# Plot the confusion matrix\n",
        "plt.figure(figsize=(10, 8))\n",
        "disp = ConfusionMatrixDisplay(confusion_matrix=confusion_df.values, display_labels=class_names)\n",
        "disp.plot(cmap=plt.cm.Blues, xticks_rotation=90)\n",
        "plt.title('Confusion Matrix for Concatenated Models')\n",
        "plt.xlabel('Predicted Label')\n",
        "plt.ylabel('True Label')\n",
        "plt.show()"
      ]
    },
    {
      "cell_type": "markdown",
      "source": [
        "Activation Map\n",
        "\n",
        "Now we want to test classify some new images."
      ],
      "metadata": {
        "id": "uLYACBawGp3M"
      },
      "id": "uLYACBawGp3M"
    },
    {
      "cell_type": "code",
      "source": [
        "import numpy as np\n",
        "# Load your pre-trained model\n",
        "model_checkpoint_file = \"drive/MyDrive/ComputerVision/models/model_og_checkpoint.keras\"\n",
        "model = tf.keras.models.load_model(model_checkpoint_file)"
      ],
      "metadata": {
        "id": "q8ai18snMTsL"
      },
      "id": "q8ai18snMTsL",
      "execution_count": null,
      "outputs": []
    },
    {
      "cell_type": "markdown",
      "source": [
        "The following code is from here:\n",
        "https://keras.io/examples/vision/grad_cam/"
      ],
      "metadata": {
        "id": "4qafWndQt_2M"
      },
      "id": "4qafWndQt_2M"
    },
    {
      "cell_type": "code",
      "source": [
        "import os\n",
        "\n",
        "os.environ[\"KERAS_BACKEND\"] = \"tensorflow\"\n",
        "\n",
        "import numpy as np\n",
        "import tensorflow as tf\n",
        "import keras\n",
        "\n",
        "# Display\n",
        "from IPython.display import Image, display\n",
        "import matplotlib as mpl\n",
        "import matplotlib.pyplot as plt"
      ],
      "metadata": {
        "id": "a06WvIbTIew4"
      },
      "id": "a06WvIbTIew4",
      "execution_count": null,
      "outputs": []
    },
    {
      "cell_type": "code",
      "source": [
        "model_builder = keras.applications.xception.Xception\n",
        "img_size = (299, 299)\n",
        "preprocess_input = keras.applications.xception.preprocess_input\n",
        "decode_predictions = keras.applications.xception.decode_predictions\n",
        "\n",
        "last_conv_layer_name = \"conv5_block3_out\"\n",
        "\n",
        "# The local path to our target image\n",
        "img_path = 'drive/MyDrive/ComputerVision/ImagesFromInternet/balloons-388973_640.jpg'\n",
        "\n",
        "display(Image(img_path))"
      ],
      "metadata": {
        "colab": {
          "base_uri": "https://localhost:8080/",
          "height": 444
        },
        "id": "9l_8uL4toWy6",
        "outputId": "67743821-de7c-41ae-8e61-7a2d0a2d2d9f"
      },
      "id": "9l_8uL4toWy6",
      "execution_count": null,
      "outputs": [
        {
          "output_type": "display_data",
          "data": {
            "image/jpeg": "[encoded data removed]",
            "text/plain": [
              "<IPython.core.display.Image object>"
            ]
          },
          "metadata": {}
        }
      ]
    },
    {
      "cell_type": "code",
      "source": [
        "def get_img_array(img_path, size):\n",
        "    # `img` is a PIL image of size 299x299\n",
        "    img = keras.utils.load_img(img_path, target_size=size)\n",
        "    # `array` is a float32 Numpy array of shape (299, 299, 3)\n",
        "    array = keras.utils.img_to_array(img)\n",
        "    # We add a dimension to transform our array into a \"batch\"\n",
        "    # of size (1, 299, 299, 3)\n",
        "    array = np.expand_dims(array, axis=0)\n",
        "    return array\n",
        "\n",
        "\n",
        "def make_gradcam_heatmap(img_array, model, last_conv_layer_name, pred_index=None):\n",
        "    # First, we create a model that maps the input image to the activations\n",
        "    # of the last conv layer as well as the output predictions\n",
        "    grad_model = keras.models.Model(\n",
        "        model.inputs, [model.get_layer(last_conv_layer_name).output, model.output]\n",
        "    )\n",
        "\n",
        "    # Then, we compute the gradient of the top predicted class for our input image\n",
        "    # with respect to the activations of the last conv layer\n",
        "    with tf.GradientTape() as tape:\n",
        "        last_conv_layer_output, preds = grad_model(img_array)\n",
        "        if pred_index is None:\n",
        "            pred_index = tf.argmax(preds[0])\n",
        "        class_channel = preds[:, pred_index]\n",
        "\n",
        "    # This is the gradient of the output neuron (top predicted or chosen)\n",
        "    # with regard to the output feature map of the last conv layer\n",
        "    grads = tape.gradient(class_channel, last_conv_layer_output)\n",
        "\n",
        "    # This is a vector where each entry is the mean intensity of the gradient\n",
        "    # over a specific feature map channel\n",
        "    pooled_grads = tf.reduce_mean(grads, axis=(0, 1, 2))\n",
        "\n",
        "    # We multiply each channel in the feature map array\n",
        "    # by \"how important this channel is\" with regard to the top predicted class\n",
        "    # then sum all the channels to obtain the heatmap class activation\n",
        "    last_conv_layer_output = last_conv_layer_output[0]\n",
        "    heatmap = last_conv_layer_output @ pooled_grads[..., tf.newaxis]\n",
        "    heatmap = tf.squeeze(heatmap)\n",
        "\n",
        "    # For visualization purpose, we will also normalize the heatmap between 0 & 1\n",
        "    heatmap = tf.maximum(heatmap, 0) / tf.math.reduce_max(heatmap)\n",
        "    return heatmap.numpy()"
      ],
      "metadata": {
        "id": "dXAkYWwlp29_"
      },
      "id": "dXAkYWwlp29_",
      "execution_count": null,
      "outputs": []
    },
    {
      "cell_type": "code",
      "source": [
        "from tensorflow.keras.models import load_model\n",
        "\n",
        "#load model\n",
        "model = load_model(model_checkpoint_file)\n",
        "\n",
        "# Remove last layer's softmax\n",
        "#model.layers[-1].activation = None"
      ],
      "metadata": {
        "id": "VTjdMT3duxqq"
      },
      "id": "VTjdMT3duxqq",
      "execution_count": null,
      "outputs": []
    },
    {
      "cell_type": "code",
      "source": [
        "# Prepare image\n",
        "img_array = preprocess_input(get_img_array(img_path, size=img_size))\n",
        "\n",
        "# Print what the top predicted class is\n",
        "preds = model.predict(img_array)\n",
        "#print(\"Predicted:\", decode_predictions(preds, top=1)[0])\n",
        "\n",
        "# Generate class activation heatmap\n",
        "heatmap = make_gradcam_heatmap(img_array,model, last_conv_layer_name)\n",
        "\n",
        "# Display heatmap\n",
        "plt.matshow(heatmap)\n",
        "plt.show()"
      ],
      "metadata": {
        "colab": {
          "base_uri": "https://localhost:8080/",
          "height": 454
        },
        "id": "fDOIvGxwp_jK",
        "outputId": "65ad526d-eca0-402e-9eca-ceed21c53dd7"
      },
      "id": "fDOIvGxwp_jK",
      "execution_count": null,
      "outputs": [
        {
          "output_type": "stream",
          "name": "stdout",
          "text": [
            "1/1 [==============================] - 1s 1s/step\n"
          ]
        },
        {
          "output_type": "display_data",
          "data": {
            "text/plain": [
              "<Figure size 480x480 with 1 Axes>"
            ],
            "image/png": "[encoded data removed]"
          },
          "metadata": {}
        }
      ]
    },
    {
      "cell_type": "code",
      "source": [
        "def save_and_display_gradcam(img_path, heatmap, cam_path=\"cam.jpg\", alpha=0.4):\n",
        "    # Load the original image\n",
        "    img = keras.utils.load_img(img_path)\n",
        "    img = keras.utils.img_to_array(img)\n",
        "\n",
        "    # Rescale heatmap to a range 0-255\n",
        "    heatmap = np.uint8(255 * heatmap)\n",
        "\n",
        "    # Use jet colormap to colorize heatmap\n",
        "    jet = mpl.colormaps[\"jet\"]\n",
        "\n",
        "    # Use RGB values of the colormap\n",
        "    jet_colors = jet(np.arange(256))[:, :3]\n",
        "    jet_heatmap = jet_colors[heatmap]\n",
        "\n",
        "    # Create an image with RGB colorized heatmap\n",
        "    jet_heatmap = keras.utils.array_to_img(jet_heatmap)\n",
        "    jet_heatmap = jet_heatmap.resize((img.shape[1], img.shape[0]))\n",
        "    jet_heatmap = keras.utils.img_to_array(jet_heatmap)\n",
        "\n",
        "    # Superimpose the heatmap on original image\n",
        "    superimposed_img = jet_heatmap * alpha + img\n",
        "    superimposed_img = keras.utils.array_to_img(superimposed_img)\n",
        "\n",
        "    # Save the superimposed image\n",
        "    superimposed_img.save(cam_path)\n",
        "\n",
        "    # Display Grad CAM\n",
        "    display(Image(cam_path))\n",
        "\n",
        "\n",
        "save_and_display_gradcam(img_path, heatmap)"
      ],
      "metadata": {
        "colab": {
          "base_uri": "https://localhost:8080/",
          "height": 444
        },
        "id": "CVv9r3tFtcJn",
        "outputId": "08458742-2e79-4faf-dc63-d1dbff19397f"
      },
      "id": "CVv9r3tFtcJn",
      "execution_count": null,
      "outputs": [
        {
          "output_type": "display_data",
          "data": {
            "image/jpeg": "[encoded data removed]",
            "text/plain": [
              "<IPython.core.display.Image object>"
            ]
          },
          "metadata": {}
        }
      ]
    },
    {
      "cell_type": "code",
      "source": [
        "preds"
      ],
      "metadata": {
        "colab": {
          "base_uri": "https://localhost:8080/"
        },
        "id": "4B_oD8yLrC2W",
        "outputId": "4b02de73-3683-4e82-d095-030344a35538"
      },
      "id": "4B_oD8yLrC2W",
      "execution_count": null,
      "outputs": [
        {
          "output_type": "execute_result",
          "data": {
            "text/plain": [
              "array([[2.5385363e-05, 9.9997437e-01, 2.1884196e-07]], dtype=float32)"
            ]
          },
          "metadata": {},
          "execution_count": 84
        }
      ]
    }
  ],
  "metadata": {
    "colab": {
      "machine_shape": "hm",
      "provenance": [],
      "include_colab_link": true
    },
    "kernelspec": {
      "display_name": "Python 3",
      "name": "python3"
    },
    "language_info": {
      "codemirror_mode": {
        "name": "ipython",
        "version": 3
      },
      "file_extension": ".py",
      "mimetype": "text/x-python",
      "name": "python",
      "nbconvert_exporter": "python",
      "pygments_lexer": "ipython3",
      "version": "3.12.2"
    }
  },
  "nbformat": 4,
  "nbformat_minor": 5
}